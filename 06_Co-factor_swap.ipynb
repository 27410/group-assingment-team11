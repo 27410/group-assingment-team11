{
 "cells": [
  {
   "cell_type": "markdown",
   "metadata": {},
   "source": [
    "## Co-factor swap\n",
    "\n",
    "#### Co-factors:\n",
    "\n",
    "NAD+ / NADH: Nicotinamide adenine dinucleotide (NAD+) is reduced to NADH in the conversion of isoamyl aldehyde to isoamyl alcohol. This is an oxidation-reduction reaction where NAD+ acts as an oxidizing agent.\n",
    "\n",
    "CoASH / Acetyl-CoA: Coenzyme A (CoASH) is used in the formation of acetyl-CoA, which is a substrate for the reaction that synthesizes isoamyl acetate. Acetyl-CoA is a key molecule in metabolic processes and is formed from acetate and CoASH with the input of energy from ATP.\n",
    "\n",
    "ATP / AMP + PPi: Adenosine triphosphate (ATP) is converted to adenosine monophosphate (AMP) and inorganic pyrophosphate (PPi) in the reaction that activates acetate to acetyl adenylate as a precursor to acetyl-CoA formation.\n",
    "\n",
    "In the code the following was done:\n",
    "- Model yeast8 was loaded\n",
    "- The objective was set to maximize the production of isoamyl acetate\n",
    "- The theoretical yield was set to production of isoamyl acetate divided by the uptake of glucose\n",
    "- The algorithm was run and the result was visualized"
   ]
  },
  {
   "cell_type": "code",
   "execution_count": 27,
   "metadata": {},
   "outputs": [],
   "source": [
    "# fix the cameo import errors\n",
    "from collections.abc import Mapping\n",
    "import os\n",
    "import pandas as pd\n",
    "from cobra import Reaction, Metabolite\n",
    "import matplotlib.pyplot as plt\n",
    "from cameo.core import manipulation\n",
    "from cameo import fba, flux_variability_analysis\n",
    "from cobra.io import read_sbml_model\n",
    "from cameo import load_model\n",
    "from matplotlib import pyplot as plt\n",
    "from cameo.flux_analysis.analysis import flux_variability_analysis as fva\n",
    "from cameo.util import TimeMachine\n",
    "from cobra.core.gene import GPR\n",
    "from cameo.strain_design.heuristic.evolutionary.objective_functions import product_yield\n",
    "from cameo.strain_design.heuristic.evolutionary_based import CofactorSwapOptimization"
   ]
  },
  {
   "cell_type": "code",
   "execution_count": 28,
   "metadata": {},
   "outputs": [],
   "source": [
    "model = read_sbml_model(\"Models/yeast8.xml\")"
   ]
  },
  {
   "cell_type": "code",
   "execution_count": 29,
   "metadata": {},
   "outputs": [
    {
     "name": "stdout",
     "output_type": "stream",
     "text": [
      "Objective set to maximize r_1180: s_0927 --> s_0928\n"
     ]
    }
   ],
   "source": [
    "# Choose the reaction that produces isoamyl acetate as the objective (r_1180 transports the product to the extracellular medium).\n",
    "objective_reaction = model.reactions.r_1180\n",
    "model.objective = objective_reaction\n",
    "print(f'Objective set to maximize {objective_reaction.id}: {objective_reaction.reaction}')"
   ]
  },
  {
   "cell_type": "markdown",
   "metadata": {},
   "source": [
    "Reactions regarding isoamyl acetate:\n",
    "\n",
    "r_0160(alcohol acetyltransferase (isoamyl alcohol)):  s_0373 (acetyl-CoA) + s_0929 (isoamyl alcohol) --> s_0529 (CoA) + s_0927 (isoamyl acetate)\n",
    "\n",
    "r_0180 (aldehyde dehydrogenase (isoamyl alcohol, NAD)): s_0236(3-methyilbutanal) + s_0799 (glyoxylate)+ s_1205 (NADH) --> s_0931 (isoamylol) + s_1200 (NAD)\n",
    "\n",
    "r_0656 (isoamyl acetate-hydrolyzing esterase): eliminates isoamyl acetate\n",
    "\n",
    "r_1180 --> Transports isoamyl acetate to the outside \n"
   ]
  },
  {
   "cell_type": "markdown",
   "metadata": {},
   "source": [
    "Now use NADP and NADH instead of NAD and NADH. The reaction occurs in the m compartment\n"
   ]
  },
  {
   "cell_type": "code",
   "execution_count": 30,
   "metadata": {},
   "outputs": [
    {
     "data": {
      "text/latex": [
       "$$yield = \\frac{r\\_1180}{r\\_1714}$$"
      ],
      "text/plain": [
       "<cameo.strain_design.heuristic.evolutionary.objective_functions.product_yield at 0x16fea9874d0>"
      ]
     },
     "execution_count": 30,
     "metadata": {},
     "output_type": "execute_result"
    }
   ],
   "source": [
    "# Setting the progesterone yield as the formation of progesterone divided by the optake of glucose\n",
    "py = product_yield(model.reactions.r_1180, model.exchanges.r_1714)\n",
    "py"
   ]
  },
  {
   "cell_type": "code",
   "execution_count": 31,
   "metadata": {},
   "outputs": [
    {
     "name": "stdout",
     "output_type": "stream",
     "text": [
      "Co-factor swap optimization of the model yeastGEM_v8__46__7__46__1 used to increase available s_1198 and s_1203 on the cost of s_0434 and s_0423\n",
      "Starting optimization at Sun, 19 Nov 2023 22:03:06\n"
     ]
    },
    {
     "data": {
      "application/vnd.jupyter.widget-view+json": {
       "model_id": "11a49100898a4769b27a4a8643294e32",
       "version_major": 2,
       "version_minor": 0
      },
      "text/plain": [
       "HBox()"
      ]
     },
     "metadata": {},
     "output_type": "display_data"
    },
    {
     "name": "stdout",
     "output_type": "stream",
     "text": [
      "Finished after 00:03:24\n"
     ]
    }
   ],
   "source": [
    "# Running the CofactorSwapOptimization Algorithm\n",
    "# Find reactions that all have the targeted co-factor pairs and add reactions that have the co-factors swapped.\n",
    "swap = CofactorSwapOptimization(model=model, plot=False, cofactor_id_swaps=([\"s_1198\",\"s_1203\"],[\"s_0434\",\"s_0423\"]),objective_function=py)\n",
    "print(f'Co-factor swap optimization of the model {model.id} used to increase available {swap._metadata[\"swap_pairs\"][0][0]} and {swap._metadata[\"swap_pairs\"][0][1]} on the cost of {swap._metadata[\"swap_pairs\"][1][0]} and {swap._metadata[\"swap_pairs\"][1][1]}')\n",
    "cofactor_swap_targets = swap.run(max_size = 10)"
   ]
  },
  {
   "cell_type": "code",
   "execution_count": 32,
   "metadata": {},
   "outputs": [
    {
     "data": {
      "text/html": [
       "\n",
       "        <h4>Result:</h4>\n",
       "        <ul>\n",
       "            <li>model: yeastGEM_v8__46__7__46__1</li>\n",
       "            <li>heuristic: GA</li>\n",
       "            <li>objective function: $$yield = \\frac{r\\_1180}{r\\_1714}$$</li>\n",
       "            <li>simulation method: pfba</li>\n",
       "            <li>target type: cofactor-swap</li>\n",
       "        <ul>\n",
       "        <div>\n",
       "<style scoped>\n",
       "    .dataframe tbody tr th:only-of-type {\n",
       "        vertical-align: middle;\n",
       "    }\n",
       "\n",
       "    .dataframe tbody tr th {\n",
       "        vertical-align: top;\n",
       "    }\n",
       "\n",
       "    .dataframe thead th {\n",
       "        text-align: right;\n",
       "    }\n",
       "</style>\n",
       "<table border=\"1\" class=\"dataframe\">\n",
       "  <thead>\n",
       "    <tr style=\"text-align: right;\">\n",
       "      <th></th>\n",
       "      <th>index</th>\n",
       "      <th>targets</th>\n",
       "      <th>fitness</th>\n",
       "    </tr>\n",
       "  </thead>\n",
       "  <tbody>\n",
       "    <tr>\n",
       "      <th>0</th>\n",
       "      <td>0</td>\n",
       "      <td>(r_0714,)</td>\n",
       "      <td>0.777778</td>\n",
       "    </tr>\n",
       "    <tr>\n",
       "      <th>1</th>\n",
       "      <td>1</td>\n",
       "      <td>(r_0472,)</td>\n",
       "      <td>0.777778</td>\n",
       "    </tr>\n",
       "    <tr>\n",
       "      <th>2</th>\n",
       "      <td>3</td>\n",
       "      <td>(r_4584,)</td>\n",
       "      <td>0.777778</td>\n",
       "    </tr>\n",
       "    <tr>\n",
       "      <th>3</th>\n",
       "      <td>5</td>\n",
       "      <td>(r_0211,)</td>\n",
       "      <td>0.777778</td>\n",
       "    </tr>\n",
       "    <tr>\n",
       "      <th>4</th>\n",
       "      <td>6</td>\n",
       "      <td>(r_0491,)</td>\n",
       "      <td>0.777778</td>\n",
       "    </tr>\n",
       "    <tr>\n",
       "      <th>5</th>\n",
       "      <td>8</td>\n",
       "      <td>(r_0916,)</td>\n",
       "      <td>0.777778</td>\n",
       "    </tr>\n",
       "    <tr>\n",
       "      <th>6</th>\n",
       "      <td>20</td>\n",
       "      <td>(r_0142,)</td>\n",
       "      <td>0.777778</td>\n",
       "    </tr>\n",
       "    <tr>\n",
       "      <th>7</th>\n",
       "      <td>23</td>\n",
       "      <td>(r_2115,)</td>\n",
       "      <td>0.777778</td>\n",
       "    </tr>\n",
       "    <tr>\n",
       "      <th>8</th>\n",
       "      <td>27</td>\n",
       "      <td>(r_0770, r_0514)</td>\n",
       "      <td>0.777778</td>\n",
       "    </tr>\n",
       "    <tr>\n",
       "      <th>9</th>\n",
       "      <td>30</td>\n",
       "      <td>(r_1116,)</td>\n",
       "      <td>0.777778</td>\n",
       "    </tr>\n",
       "    <tr>\n",
       "      <th>10</th>\n",
       "      <td>31</td>\n",
       "      <td>(r_0770, r_0208)</td>\n",
       "      <td>0.777778</td>\n",
       "    </tr>\n",
       "  </tbody>\n",
       "</table>\n",
       "</div>"
      ],
      "text/plain": [
       "<cameo.strain_design.heuristic.evolutionary.optimization.TargetOptimizationResult at 0x16ff16ddb90>"
      ]
     },
     "execution_count": 32,
     "metadata": {},
     "output_type": "execute_result"
    }
   ],
   "source": [
    "cofactor_swap_targets"
   ]
  },
  {
   "cell_type": "code",
   "execution_count": 69,
   "metadata": {},
   "outputs": [
    {
     "name": "stdout",
     "output_type": "stream",
     "text": [
      "r_0714: s_0066 + s_1198 <=> s_0794 + s_1203 + s_1271\n",
      "r_0471: s_0180 + s_0419 + s_0794 + s_1212 --> s_0803 + s_0991 + s_1207\n",
      "r_4585: s_0803 + s_4192 --> s_0558 + s_4193\n",
      "r_0211: s_0434 + s_0803 + s_0973 + s_0999 --> s_0423 + s_0633 + s_0794 + s_0969 + s_0991\n",
      "r_0491: s_0629 + s_0794 + s_1203 --> s_0767 + s_1198\n",
      "r_0916: s_0434 + s_1408 --> s_0423 + s_0794 + s_1386\n",
      "r_0142: s_0386 + s_0434 --> s_0394 + s_0423 + s_0794\n",
      "r_2115: s_0359 + s_0794 + s_1203 --> s_0680 + s_1198\n",
      "r_0770: s_0794 + s_1203 + s_1537 --> s_1198 + s_1535\n",
      "r_1116: s_0426 + s_0434 + s_0801 --> s_0423 + s_0439 + s_0794\n",
      "r_0208: s_0434 + s_0973 + s_0979 <=> s_0015 + s_0423 + s_0633 + s_0794\n"
     ]
    }
   ],
   "source": [
    "# Stats of the GAPD reaction\n",
    "print(model.reactions.r_0714)\n",
    "print(model.reactions.r_0471)\n",
    "print(model.reactions.r_4585)\n",
    "print(model.reactions.r_0211)\n",
    "print(model.reactions.r_0491)\n",
    "print(model.reactions.r_0916)\n",
    "print(model.reactions.r_0142)\n",
    "print(model.reactions.r_2115)\n",
    "print(model.reactions.r_0770)\n",
    "print(model.reactions.r_1116)\n",
    "print(model.reactions.r_0208)"
   ]
  },
  {
   "cell_type": "code",
   "execution_count": 120,
   "metadata": {},
   "outputs": [
    {
     "data": {
      "text/html": [
       "\n",
       "        <table>\n",
       "            <tr>\n",
       "                <td><strong>Reaction identifier</strong></td><td>r_0714</td>\n",
       "            </tr><tr>\n",
       "                <td><strong>Name</strong></td><td>malate dehydrogenase, cytoplasmic</td>\n",
       "            </tr><tr>\n",
       "                <td><strong>Memory address</strong></td>\n",
       "                <td>0x16ff5c24350</td>\n",
       "            </tr><tr>\n",
       "                <td><strong>Stoichiometry</strong></td>\n",
       "                <td>\n",
       "                    <p style='text-align:right'>s_0066 + s_1198 <=> s_0794 + s_1203 + s_1271</p>\n",
       "                    <p style='text-align:right'>(S)-malate + NAD <=> H+ + NADH + oxaloacetate</p>\n",
       "                </td>\n",
       "            </tr><tr>\n",
       "                <td><strong>GPR</strong></td><td>YOL126C</td>\n",
       "            </tr><tr>\n",
       "                <td><strong>Lower bound</strong></td><td>-1000.0</td>\n",
       "            </tr><tr>\n",
       "                <td><strong>Upper bound</strong></td><td>1000.0</td>\n",
       "            </tr>\n",
       "        </table>\n",
       "        "
      ],
      "text/plain": [
       "<Reaction r_0714 at 0x16ff5c24350>"
      ]
     },
     "execution_count": 120,
     "metadata": {},
     "output_type": "execute_result"
    }
   ],
   "source": [
    "model.reactions.r_0714"
   ]
  },
  {
   "cell_type": "code",
   "execution_count": 103,
   "metadata": {},
   "outputs": [
    {
     "name": "stdout",
     "output_type": "stream",
     "text": [
      "{'c'}\n"
     ]
    },
    {
     "data": {
      "text/html": [
       "\n",
       "        <table>\n",
       "            <tr>\n",
       "                <td><strong>Reaction identifier</strong></td><td>r_0491</td>\n",
       "            </tr><tr>\n",
       "                <td><strong>Name</strong></td><td>glycerol-3-phosphate dehydrogenase (NAD)</td>\n",
       "            </tr><tr>\n",
       "                <td><strong>Memory address</strong></td>\n",
       "                <td>0x16ff5a912d0</td>\n",
       "            </tr><tr>\n",
       "                <td><strong>Stoichiometry</strong></td>\n",
       "                <td>\n",
       "                    <p style='text-align:right'>s_0629 + s_0794 + s_1203 --> s_0767 + s_1198</p>\n",
       "                    <p style='text-align:right'>dihydroxyacetone phosphate + H+ + NADH --> glycerol 3-phosphate + NAD</p>\n",
       "                </td>\n",
       "            </tr><tr>\n",
       "                <td><strong>GPR</strong></td><td>YDL022W or YOL059W</td>\n",
       "            </tr><tr>\n",
       "                <td><strong>Lower bound</strong></td><td>0.0</td>\n",
       "            </tr><tr>\n",
       "                <td><strong>Upper bound</strong></td><td>1000.0</td>\n",
       "            </tr>\n",
       "        </table>\n",
       "        "
      ],
      "text/plain": [
       "<Reaction r_0491 at 0x16ff5a912d0>"
      ]
     },
     "execution_count": 103,
     "metadata": {},
     "output_type": "execute_result"
    }
   ],
   "source": [
    "compartment = model.reactions.get_by_id('r_0491').compartments\n",
    "print(compartment)\n",
    "model.reactions.r_0491"
   ]
  },
  {
   "cell_type": "code",
   "execution_count": 105,
   "metadata": {},
   "outputs": [
    {
     "name": "stdout",
     "output_type": "stream",
     "text": [
      "{'c'}\n"
     ]
    },
    {
     "data": {
      "text/html": [
       "\n",
       "        <table>\n",
       "            <tr>\n",
       "                <td><strong>Reaction identifier</strong></td><td>r_2115</td>\n",
       "            </tr><tr>\n",
       "                <td><strong>Name</strong></td><td>alcohol dehydrogenase, (acetaldehyde to ethanol)</td>\n",
       "            </tr><tr>\n",
       "                <td><strong>Memory address</strong></td>\n",
       "                <td>0x16ff00f4390</td>\n",
       "            </tr><tr>\n",
       "                <td><strong>Stoichiometry</strong></td>\n",
       "                <td>\n",
       "                    <p style='text-align:right'>s_0359 + s_0794 + s_1203 --> s_0680 + s_1198</p>\n",
       "                    <p style='text-align:right'>acetaldehyde + H+ + NADH --> ethanol + NAD</p>\n",
       "                </td>\n",
       "            </tr><tr>\n",
       "                <td><strong>GPR</strong></td><td>YBR145W or YOL086C</td>\n",
       "            </tr><tr>\n",
       "                <td><strong>Lower bound</strong></td><td>0.0</td>\n",
       "            </tr><tr>\n",
       "                <td><strong>Upper bound</strong></td><td>1000.0</td>\n",
       "            </tr>\n",
       "        </table>\n",
       "        "
      ],
      "text/plain": [
       "<Reaction r_2115 at 0x16ff00f4390>"
      ]
     },
     "execution_count": 105,
     "metadata": {},
     "output_type": "execute_result"
    }
   ],
   "source": [
    "compartment = model.reactions.get_by_id('r_2115').compartments\n",
    "print(compartment)\n",
    "model.reactions.r_2115"
   ]
  },
  {
   "cell_type": "code",
   "execution_count": 106,
   "metadata": {},
   "outputs": [
    {
     "name": "stdout",
     "output_type": "stream",
     "text": [
      "{'c', 'm'}\n"
     ]
    },
    {
     "data": {
      "text/html": [
       "\n",
       "        <table>\n",
       "            <tr>\n",
       "                <td><strong>Reaction identifier</strong></td><td>r_0770</td>\n",
       "            </tr><tr>\n",
       "                <td><strong>Name</strong></td><td>NADH dehydrogenase, cytosolic/mitochondrial</td>\n",
       "            </tr><tr>\n",
       "                <td><strong>Memory address</strong></td>\n",
       "                <td>0x16ff5c5e990</td>\n",
       "            </tr><tr>\n",
       "                <td><strong>Stoichiometry</strong></td>\n",
       "                <td>\n",
       "                    <p style='text-align:right'>s_0794 + s_1203 + s_1537 --> s_1198 + s_1535</p>\n",
       "                    <p style='text-align:right'>H+ + NADH + ubiquinone-6 --> NAD + ubiquinol-6</p>\n",
       "                </td>\n",
       "            </tr><tr>\n",
       "                <td><strong>GPR</strong></td><td>YDL085W or YMR145C</td>\n",
       "            </tr><tr>\n",
       "                <td><strong>Lower bound</strong></td><td>0.0</td>\n",
       "            </tr><tr>\n",
       "                <td><strong>Upper bound</strong></td><td>1000.0</td>\n",
       "            </tr>\n",
       "        </table>\n",
       "        "
      ],
      "text/plain": [
       "<Reaction r_0770 at 0x16ff5c5e990>"
      ]
     },
     "execution_count": 106,
     "metadata": {},
     "output_type": "execute_result"
    }
   ],
   "source": [
    "compartment = model.reactions.get_by_id('r_0770').compartments\n",
    "print(compartment)\n",
    "model.reactions.r_0770\n"
   ]
  },
  {
   "cell_type": "code",
   "execution_count": 83,
   "metadata": {},
   "outputs": [
    {
     "name": "stdout",
     "output_type": "stream",
     "text": [
      "Model yeast8_coswap1 were made as a copy of yeastGEM_v8__46__7__46__1\n"
     ]
    }
   ],
   "source": [
    "# Knock out of GAPD genes\n",
    "KOs = [\"YOL126C\", \"YDL022W\", \"YOL059W\", \"YBR145W\", \"YOL086C\", \"YDL085W\", \"YMR145C\" ]\n",
    "model_coswap1 = model.copy()\n",
    "model_coswap1.id = \"yeast8_coswap1\"\n",
    "print(f\"Model {model_coswap1.id} were made as a copy of {model.id}\")\n",
    "for KO in KOs:\n",
    "    model_coswap1.genes.get_by_id(KO).knock_out()\n",
    "    \n",
    "\n",
    "# if model_coswap1.genes.get_by_id(\"YLR174W\").functional == False:\n",
    "#     print(f\"{model_coswap1.genes.get_by_id(\"YLR174W\").name} were knocked out\")"
   ]
  },
  {
   "cell_type": "code",
   "execution_count": 84,
   "metadata": {},
   "outputs": [],
   "source": [
    "infilename = \"Models/yeast8.xml\""
   ]
  },
  {
   "cell_type": "code",
   "execution_count": 125,
   "metadata": {},
   "outputs": [
    {
     "name": "stderr",
     "output_type": "stream",
     "text": [
      "Ignoring reaction 'R0714' since it already exists.\n"
     ]
    },
    {
     "name": "stderr",
     "output_type": "stream",
     "text": [
      "Ignoring reaction 'R0491' since it already exists.\n",
      "Ignoring reaction 'R2115' since it already exists.\n",
      "Ignoring reaction 'R0770' since it already exists.\n"
     ]
    },
    {
     "name": "stdout",
     "output_type": "stream",
     "text": [
      "For model yeast8_coswap1:\n",
      "Adding reaction R0714: s_0066 + s_0434 <=> s_0423 + s_0794 + s_1271 | enzyme: malate_dehydrogenase\n",
      "For model yeast8_coswap1:\n",
      "Adding reaction R0491: s_0423 + s_0629 + s_0794 --> s_0434 + s_0767 | enzyme: glycerol-3-phosphate_dehydrogenase\n",
      "For model yeast8_coswap1:\n",
      "Adding reaction R2115: s_0359 + s_0423 + s_0794 --> s_0434 + s_0680 | enzyme: alcohol_dehydrogenase\n",
      "For model yeast8_coswap1:\n",
      "Adding reaction R0770: s_0423 + s_0794 + s_1537 --> s_0434 + s_1535 | enzyme: NADH_dehydrogenase\n"
     ]
    }
   ],
   "source": [
    "# Adding NADP dependent GAPD reaction\n",
    "def import_reactions(reaction_dict,infilename):\n",
    "    for m, reactions in reaction_dict.items():\n",
    "        print(f\"For model {m.id}:\")\n",
    "        with open(infilename,\"r\") as infile:\n",
    "            infile.readline()\n",
    "            for line in infile:\n",
    "                line = line.rstrip().split(\",\")\n",
    "                if line[0] in reactions:\n",
    "                    r = Reaction(line[0])\n",
    "                    r.name = line[2]\n",
    "                    if line[3] != \"\":\n",
    "                        r.subsystem = line[3]\n",
    "                    r.lower_bound = float(line[4])\n",
    "                    r.upper_bound = float(line[5])\n",
    "                    if line[1] != \"\":\n",
    "                        r.gpr = GPR.from_string(line[1])\n",
    "                    for i in range(int(len(line[6:])/2)):\n",
    "                        metaboliteID = line[6+i*2]\n",
    "                        if metaboliteID != \"\":\n",
    "                            metaboliteID = m.metabolites.get_by_id(metaboliteID)\n",
    "                            bin = float(line[7+i*2])\n",
    "                            r.add_metabolites({metaboliteID:bin})\n",
    "                    print(f'Adding reaction {r} | enzyme: {r.gpr}')\n",
    "                    m.add_reactions([r])\n",
    "\n",
    "\n",
    "reaction_dict = {model_coswap1:(\"R0714\")}\n",
    "import_reactions(reaction_dict,\"Files/co-factor_swap_reactions.csv\")\n",
    "reaction_dict2 = {model_coswap1:(\"R0491\")}\n",
    "import_reactions(reaction_dict2,\"Files/co-factor_swap_reactions2.csv\")\n",
    "reaction_dict3 = {model_coswap1:(\"R2115\")}\n",
    "import_reactions(reaction_dict3,\"Files/co-factor_swap_reactions3.csv\")\n",
    "reaction_dict4 = {model_coswap1:(\"R0770\")}\n",
    "import_reactions(reaction_dict4,\"Files/co-factor_swap_reactions4.csv\")\n"
   ]
  },
  {
   "cell_type": "code",
   "execution_count": 100,
   "metadata": {},
   "outputs": [
    {
     "name": "stdout",
     "output_type": "stream",
     "text": [
      "yeastGEM_v8__46__7__46__1 | Maximum growth: 0.082 mmol/gDW*h\n",
      "yeast8_coswap1 | Maximum growth: 0.139 mmol/gDW*h\n",
      "Procentage increase in maximum growth: 69.8981963965%\n"
     ]
    }
   ],
   "source": [
    "# Calculate maximum growth\n",
    "models = [model,model_coswap1]\n",
    "biomass = []\n",
    "for i, m in enumerate(models):\n",
    "    with m:\n",
    "        objective_reaction = m.reactions.r_2111\n",
    "        m.objective = objective_reaction\n",
    "        biomass.append(m.optimize().objective_value)\n",
    "    print(f'{m.id} | Maximum growth: {round(biomass[i],3)} mmol/gDW*h')\n",
    "\n",
    "# Calculate procentage increase in µ\n",
    "print(f\"Procentage increase in maximum growth: {round((biomass[1]/biomass[0]-1)*100,10)}%\")"
   ]
  },
  {
   "cell_type": "code",
   "execution_count": 101,
   "metadata": {},
   "outputs": [
    {
     "name": "stdout",
     "output_type": "stream",
     "text": [
      "yeastGEM_v8__46__7__46__1 | Maximum isoamyl acetate productivity: 0.556 mmol/gDW*h\n",
      "yeast8_coswap1 | Maximum isoamyl acetate productivity: 0.667 mmol/gDW*h\n",
      "Procentage increase in maximum isoamyl acetate production: 19.8171374695%\n"
     ]
    }
   ],
   "source": [
    "ia = []\n",
    "for i, m in enumerate(models):\n",
    "    with m:\n",
    "        objective_reaction = m.reactions.r_1180\n",
    "        m.objective = objective_reaction\n",
    "        ia.append(m.optimize().objective_value)\n",
    "    print(f'{m.id} | Maximum isoamyl acetate productivity: {round(pp[i],3)} mmol/gDW*h')\n",
    "\n",
    "    # Calculate procentage increase \n",
    "print(f\"Procentage increase in maximum isoamyl acetate production: {round((ia[1]/ia[0]-1)*100,10)}%\")"
   ]
  },
  {
   "cell_type": "code",
   "execution_count": 140,
   "metadata": {},
   "outputs": [
    {
     "data": {
      "image/png": "[encoded data removed]",
      "text/plain": [
       "<Figure size 640x480 with 1 Axes>"
      ]
     },
     "metadata": {},
     "output_type": "display_data"
    }
   ],
   "source": [
    "import matplotlib.pyplot as plt\n",
    "\n",
    "# Assuming you have the following data from the output:\n",
    "growth_before = biomass[0]  # mmol/gDW*h\n",
    "growth_after = biomass[1]  # mmol/gDW*h\n",
    "ia_before = ia[0]  # mmol/gDW*h\n",
    "ia_after = ia[1]  # mmol/gDW*h\n",
    "\n",
    "# Calculate percentage increase\n",
    "growth_increase = ((growth_after - growth_before) / growth_before) * 100\n",
    "ia_increase = ((ia_after - ia_before) / ia_before) * 100\n",
    "\n",
    "# Data for plotting\n",
    "categories = ['Growth', 'Isoamyl Acetate Production']\n",
    "before = [growth_before, ia_before]\n",
    "after = [growth_after, ia_after]\n",
    "\n",
    "# Creating the bar plot\n",
    "fig, ax = plt.subplots()\n",
    "\n",
    "# Set position of bar on X axis\n",
    "bar_width = 0.35\n",
    "r1 = range(len(before))\n",
    "r2 = [x + bar_width for x in r1]\n",
    "\n",
    "# Make the plot\n",
    "ax.bar(r1, before, color='grey', width=bar_width, label='Before')\n",
    "ax.bar(r2, after, color='lightgreen', width=bar_width,  label='After')\n",
    "\n",
    "# Add labels, title, and custom x-axis tick labels, etc.\n",
    "ax.set_ylabel('Value (mmol/gDW*h)')\n",
    "ax.set_title('Comparison of growth and isoamyl acetate production\\nbefore and after co-factor swap')\n",
    "ax.set_xticks([r + bar_width/2 for r in range(len(before))])\n",
    "ax.set_xticklabels(categories)\n",
    "ax.legend()\n",
    "\n",
    "# Display the bar plot\n",
    "plt.show()\n"
   ]
  },
  {
   "cell_type": "code",
   "execution_count": null,
   "metadata": {},
   "outputs": [],
   "source": []
  }
 ],
 "metadata": {
  "kernelspec": {
   "display_name": "Python 3 (ipykernel)",
   "language": "python",
   "name": "python3"
  },
  "language_info": {
   "codemirror_mode": {
    "name": "ipython",
    "version": 3
   },
   "file_extension": ".py",
   "mimetype": "text/x-python",
   "name": "python",
   "nbconvert_exporter": "python",
   "pygments_lexer": "ipython3",
   "version": "3.11.4"
  }
 },
 "nbformat": 4,
 "nbformat_minor": 2
}
