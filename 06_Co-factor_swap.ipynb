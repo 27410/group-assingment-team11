{
 "cells": [
  {
   "cell_type": "markdown",
   "metadata": {},
   "source": [
    "## Co-factor swap\n",
    "\n",
    "#### Co-factors:\n",
    "\n",
    "NAD+ / NADH: Nicotinamide adenine dinucleotide (NAD+) is reduced to NADH in the conversion of isoamyl aldehyde to isoamyl alcohol. This is an oxidation-reduction reaction where NAD+ acts as an oxidizing agent.\n",
    "\n",
    "CoASH / Acetyl-CoA: Coenzyme A (CoASH) is used in the formation of acetyl-CoA, which is a substrate for the reaction that synthesizes isoamyl acetate. Acetyl-CoA is a key molecule in metabolic processes and is formed from acetate and CoASH with the input of energy from ATP.\n",
    "\n",
    "ATP / AMP + PPi: Adenosine triphosphate (ATP) is converted to adenosine monophosphate (AMP) and inorganic pyrophosphate (PPi) in the reaction that activates acetate to acetyl adenylate as a precursor to acetyl-CoA formation.\n",
    "\n",
    "In the code the following was done:\n",
    "- Model yeast8 was loaded\n",
    "- The objective was set to maximize the production of isoamyl acetate\n",
    "- The theoretical yield was set to production of isoamyl acetate divided by the uptake of glucose\n",
    "- The algorithm was run and the result was visualized"
   ]
  },
  {
   "cell_type": "code",
   "execution_count": 20,
   "metadata": {},
   "outputs": [
    {
     "name": "stdout",
     "output_type": "stream",
     "text": [
      "Requirement already satisfied: cobra in c:\\users\\pauli\\anaconda3\\lib\\site-packages (0.29.0)\n",
      "Requirement already satisfied: appdirs~=1.4 in c:\\users\\pauli\\anaconda3\\lib\\site-packages (from cobra) (1.4.4)\n",
      "Requirement already satisfied: depinfo~=2.2 in c:\\users\\pauli\\anaconda3\\lib\\site-packages (from cobra) (2.2.0)\n",
      "Requirement already satisfied: diskcache~=5.0 in c:\\users\\pauli\\anaconda3\\lib\\site-packages (from cobra) (5.6.3)\n",
      "Requirement already satisfied: future in c:\\users\\pauli\\anaconda3\\lib\\site-packages (from cobra) (0.18.3)\n",
      "Requirement already satisfied: httpx~=0.24 in c:\\users\\pauli\\anaconda3\\lib\\site-packages (from cobra) (0.25.0)\n",
      "Requirement already satisfied: importlib-resources in c:\\users\\pauli\\anaconda3\\lib\\site-packages (from cobra) (6.0.1)\n",
      "Requirement already satisfied: numpy>=1.13 in c:\\users\\pauli\\anaconda3\\lib\\site-packages (from cobra) (1.24.3)\n",
      "Requirement already satisfied: optlang~=1.8 in c:\\users\\pauli\\anaconda3\\lib\\site-packages (from cobra) (1.8.1)\n",
      "Requirement already satisfied: pandas<3.0,>=1.0 in c:\\users\\pauli\\anaconda3\\lib\\site-packages (from cobra) (2.1.3)\n",
      "Requirement already satisfied: pydantic>=1.6 in c:\\users\\pauli\\anaconda3\\lib\\site-packages (from cobra) (2.3.0)\n",
      "Requirement already satisfied: python-libsbml~=5.19 in c:\\users\\pauli\\anaconda3\\lib\\site-packages (from cobra) (5.20.1)\n",
      "Requirement already satisfied: rich>=8.0 in c:\\users\\pauli\\anaconda3\\lib\\site-packages (from cobra) (13.5.3)\n",
      "Requirement already satisfied: ruamel.yaml~=0.16 in c:\\users\\pauli\\anaconda3\\lib\\site-packages (from cobra) (0.17.21)\n",
      "Requirement already satisfied: swiglpk in c:\\users\\pauli\\anaconda3\\lib\\site-packages (from cobra) (5.0.8)\n",
      "Requirement already satisfied: certifi in c:\\users\\pauli\\anaconda3\\lib\\site-packages (from httpx~=0.24->cobra) (2023.7.22)\n",
      "Requirement already satisfied: httpcore<0.19.0,>=0.18.0 in c:\\users\\pauli\\anaconda3\\lib\\site-packages (from httpx~=0.24->cobra) (0.18.0)\n",
      "Requirement already satisfied: idna in c:\\users\\pauli\\anaconda3\\lib\\site-packages (from httpx~=0.24->cobra) (3.4)\n",
      "Requirement already satisfied: sniffio in c:\\users\\pauli\\anaconda3\\lib\\site-packages (from httpx~=0.24->cobra) (1.2.0)\n",
      "Requirement already satisfied: six>=1.9 in c:\\users\\pauli\\anaconda3\\lib\\site-packages (from optlang~=1.8->cobra) (1.16.0)\n",
      "Requirement already satisfied: sympy>=1.12.0 in c:\\users\\pauli\\anaconda3\\lib\\site-packages (from optlang~=1.8->cobra) (1.12)\n",
      "Requirement already satisfied: python-dateutil>=2.8.2 in c:\\users\\pauli\\anaconda3\\lib\\site-packages (from pandas<3.0,>=1.0->cobra) (2.8.2)\n",
      "Requirement already satisfied: pytz>=2020.1 in c:\\users\\pauli\\anaconda3\\lib\\site-packages (from pandas<3.0,>=1.0->cobra) (2022.7)\n",
      "Requirement already satisfied: tzdata>=2022.1 in c:\\users\\pauli\\anaconda3\\lib\\site-packages (from pandas<3.0,>=1.0->cobra) (2023.3)\n",
      "Requirement already satisfied: annotated-types>=0.4.0 in c:\\users\\pauli\\anaconda3\\lib\\site-packages (from pydantic>=1.6->cobra) (0.5.0)\n",
      "Requirement already satisfied: pydantic-core==2.6.3 in c:\\users\\pauli\\anaconda3\\lib\\site-packages (from pydantic>=1.6->cobra) (2.6.3)\n",
      "Requirement already satisfied: typing-extensions>=4.6.1 in c:\\users\\pauli\\anaconda3\\lib\\site-packages (from pydantic>=1.6->cobra) (4.7.1)\n",
      "Requirement already satisfied: markdown-it-py>=2.2.0 in c:\\users\\pauli\\anaconda3\\lib\\site-packages (from rich>=8.0->cobra) (2.2.0)\n",
      "Requirement already satisfied: pygments<3.0.0,>=2.13.0 in c:\\users\\pauli\\anaconda3\\lib\\site-packages (from rich>=8.0->cobra) (2.15.1)\n",
      "Requirement already satisfied: anyio<5.0,>=3.0 in c:\\users\\pauli\\anaconda3\\lib\\site-packages (from httpcore<0.19.0,>=0.18.0->httpx~=0.24->cobra) (3.5.0)\n",
      "Requirement already satisfied: h11<0.15,>=0.13 in c:\\users\\pauli\\anaconda3\\lib\\site-packages (from httpcore<0.19.0,>=0.18.0->httpx~=0.24->cobra) (0.14.0)\n",
      "Requirement already satisfied: mdurl~=0.1 in c:\\users\\pauli\\anaconda3\\lib\\site-packages (from markdown-it-py>=2.2.0->rich>=8.0->cobra) (0.1.0)\n",
      "Requirement already satisfied: mpmath>=0.19 in c:\\users\\pauli\\anaconda3\\lib\\site-packages (from sympy>=1.12.0->optlang~=1.8->cobra) (1.3.0)\n",
      "Note: you may need to restart the kernel to use updated packages.\n"
     ]
    }
   ],
   "source": [
    "pip install cobra"
   ]
  },
  {
   "cell_type": "code",
   "execution_count": 3,
   "metadata": {},
   "outputs": [],
   "source": [
    "# fix the cameo import errors\n",
    "from collections.abc import Mapping\n",
    "import os\n",
    "import pandas as pd\n",
    "import matplotlib.pyplot as plt\n",
    "from cameo.core import manipulation\n",
    "from cameo import fba, flux_variability_analysis\n",
    "from cobra.io import read_sbml_model\n",
    "from cameo import load_model\n",
    "from matplotlib import pyplot as plt\n",
    "from cameo.flux_analysis.analysis import flux_variability_analysis as fva\n",
    "from cameo.util import TimeMachine\n",
    "from cobra.core.gene import GPR\n",
    "from cameo.strain_design.heuristic.evolutionary.objective_functions import product_yield\n",
    "# from cameo.strain_design.heuristic.evolutionary_based import CofactorSwapOptimization"
   ]
  },
  {
   "cell_type": "code",
   "execution_count": 8,
   "metadata": {},
   "outputs": [
    {
     "ename": "ImportError",
     "evalue": "cannot import name 'find_gene_knockout_reactions' from 'cobra.manipulation.delete' (c:\\Users\\pauli\\anaconda3\\Lib\\site-packages\\cobra\\manipulation\\delete.py)",
     "output_type": "error",
     "traceback": [
      "\u001b[1;31m---------------------------------------------------------------------------\u001b[0m",
      "\u001b[1;31mImportError\u001b[0m                               Traceback (most recent call last)",
      "\u001b[1;32mc:\\Users\\pauli\\OneDrive\\Dokumenty\\DTU\\Cell factories\\group-assingment-team11\\06_Co-factor_swap.ipynb Cell 4\u001b[0m line \u001b[0;36m1\n\u001b[1;32m----> <a href='vscode-notebook-cell:/c%3A/Users/pauli/OneDrive/Dokumenty/DTU/Cell%20factories/group-assingment-team11/06_Co-factor_swap.ipynb#X12sZmlsZQ%3D%3D?line=0'>1</a>\u001b[0m \u001b[39mfrom\u001b[39;00m \u001b[39mcameo\u001b[39;00m\u001b[39m.\u001b[39;00m\u001b[39mstrain_design\u001b[39;00m\u001b[39m.\u001b[39;00m\u001b[39mheuristic\u001b[39;00m\u001b[39m.\u001b[39;00m\u001b[39mevolutionary_based\u001b[39;00m \u001b[39mimport\u001b[39;00m CofactorSwapOptimization\n",
      "File \u001b[1;32mc:\\Users\\pauli\\anaconda3\\Lib\\site-packages\\cameo\\strain_design\\__init__.py:18\u001b[0m\n\u001b[0;32m     15\u001b[0m \u001b[39mfrom\u001b[39;00m \u001b[39m__future__\u001b[39;00m \u001b[39mimport\u001b[39;00m absolute_import\n\u001b[0;32m     17\u001b[0m \u001b[39mfrom\u001b[39;00m \u001b[39mcameo\u001b[39;00m\u001b[39m.\u001b[39;00m\u001b[39mstrain_design\u001b[39;00m\u001b[39m.\u001b[39;00m\u001b[39mdeterministic\u001b[39;00m \u001b[39mimport\u001b[39;00m OptKnock, FSEOF, DifferentialFVA\n\u001b[1;32m---> 18\u001b[0m \u001b[39mfrom\u001b[39;00m \u001b[39mcameo\u001b[39;00m\u001b[39m.\u001b[39;00m\u001b[39mstrain_design\u001b[39;00m\u001b[39m.\u001b[39;00m\u001b[39mheuristic\u001b[39;00m \u001b[39mimport\u001b[39;00m OptGene\n",
      "File \u001b[1;32mc:\\Users\\pauli\\anaconda3\\Lib\\site-packages\\cameo\\strain_design\\heuristic\\__init__.py:17\u001b[0m\n\u001b[0;32m      1\u001b[0m \u001b[39m# Copyright 2014 Novo Nordisk Foundation Center for Biosustainability, DTU.\u001b[39;00m\n\u001b[0;32m      2\u001b[0m \u001b[39m#\u001b[39;00m\n\u001b[0;32m      3\u001b[0m \u001b[39m# Licensed under the Apache License, Version 2.0 (the \"License\");\u001b[39;00m\n\u001b[1;32m   (...)\u001b[0m\n\u001b[0;32m     12\u001b[0m \u001b[39m# See the License for the specific language governing permissions and\u001b[39;00m\n\u001b[0;32m     13\u001b[0m \u001b[39m# limitations under the License.\u001b[39;00m\n\u001b[0;32m     15\u001b[0m \u001b[39mfrom\u001b[39;00m \u001b[39m__future__\u001b[39;00m \u001b[39mimport\u001b[39;00m absolute_import\n\u001b[1;32m---> 17\u001b[0m \u001b[39mfrom\u001b[39;00m \u001b[39mcameo\u001b[39;00m\u001b[39m.\u001b[39;00m\u001b[39mstrain_design\u001b[39;00m\u001b[39m.\u001b[39;00m\u001b[39mheuristic\u001b[39;00m\u001b[39m.\u001b[39;00m\u001b[39mevolutionary_based\u001b[39;00m \u001b[39mimport\u001b[39;00m OptGene\n",
      "File \u001b[1;32mc:\\Users\\pauli\\anaconda3\\Lib\\site-packages\\cameo\\strain_design\\heuristic\\evolutionary_based.py:38\u001b[0m\n\u001b[0;32m     34\u001b[0m \u001b[39mfrom\u001b[39;00m \u001b[39mcameo\u001b[39;00m\u001b[39m.\u001b[39;00m\u001b[39mstrain_design\u001b[39;00m\u001b[39m.\u001b[39;00m\u001b[39mheuristic\u001b[39;00m\u001b[39m.\u001b[39;00m\u001b[39mevolutionary\u001b[39;00m\u001b[39m.\u001b[39;00m\u001b[39mobjective_functions\u001b[39;00m \u001b[39mimport\u001b[39;00m biomass_product_coupled_min_yield, \\\n\u001b[0;32m     35\u001b[0m     biomass_product_coupled_yield\n\u001b[0;32m     36\u001b[0m \u001b[39mfrom\u001b[39;00m \u001b[39mcameo\u001b[39;00m\u001b[39m.\u001b[39;00m\u001b[39mstrain_design\u001b[39;00m\u001b[39m.\u001b[39;00m\u001b[39mheuristic\u001b[39;00m\u001b[39m.\u001b[39;00m\u001b[39mevolutionary\u001b[39;00m\u001b[39m.\u001b[39;00m\u001b[39moptimization\u001b[39;00m \u001b[39mimport\u001b[39;00m GeneKnockoutOptimization, \\\n\u001b[0;32m     37\u001b[0m     ReactionKnockoutOptimization, CofactorSwapOptimization, NADH_NADPH\n\u001b[1;32m---> 38\u001b[0m \u001b[39mfrom\u001b[39;00m \u001b[39mcameo\u001b[39;00m\u001b[39m.\u001b[39;00m\u001b[39mstrain_design\u001b[39;00m\u001b[39m.\u001b[39;00m\u001b[39mheuristic\u001b[39;00m\u001b[39m.\u001b[39;00m\u001b[39mevolutionary\u001b[39;00m\u001b[39m.\u001b[39;00m\u001b[39mprocessing\u001b[39;00m \u001b[39mimport\u001b[39;00m process_reaction_knockout_solution, \\\n\u001b[0;32m     39\u001b[0m     process_gene_knockout_solution, process_reaction_swap_solution\n\u001b[0;32m     40\u001b[0m \u001b[39mfrom\u001b[39;00m \u001b[39mcameo\u001b[39;00m\u001b[39m.\u001b[39;00m\u001b[39mutil\u001b[39;00m \u001b[39mimport\u001b[39;00m TimeMachine\n\u001b[0;32m     41\u001b[0m \u001b[39mfrom\u001b[39;00m \u001b[39mcameo\u001b[39;00m\u001b[39m.\u001b[39;00m\u001b[39mcore\u001b[39;00m\u001b[39m.\u001b[39;00m\u001b[39mutils\u001b[39;00m \u001b[39mimport\u001b[39;00m get_reaction_for\n",
      "File \u001b[1;32mc:\\Users\\pauli\\anaconda3\\Lib\\site-packages\\cameo\\strain_design\\heuristic\\evolutionary\\processing.py:14\u001b[0m\n\u001b[0;32m      1\u001b[0m \u001b[39m# Copyright 2016 Novo Nordisk Foundation Center for Biosustainability, DTU.\u001b[39;00m\n\u001b[0;32m      2\u001b[0m \n\u001b[0;32m      3\u001b[0m \u001b[39m# Licensed under the Apache License, Version 2.0 (the \"License\");\u001b[39;00m\n\u001b[1;32m   (...)\u001b[0m\n\u001b[0;32m     12\u001b[0m \u001b[39m# See the License for the specific language governing permissions and\u001b[39;00m\n\u001b[0;32m     13\u001b[0m \u001b[39m# limitations under the License.\u001b[39;00m\n\u001b[1;32m---> 14\u001b[0m \u001b[39mfrom\u001b[39;00m \u001b[39mcobra\u001b[39;00m\u001b[39m.\u001b[39;00m\u001b[39mmanipulation\u001b[39;00m\u001b[39m.\u001b[39;00m\u001b[39mdelete\u001b[39;00m \u001b[39mimport\u001b[39;00m find_gene_knockout_reactions\n\u001b[0;32m     15\u001b[0m \u001b[39mfrom\u001b[39;00m \u001b[39mcameo\u001b[39;00m\u001b[39m.\u001b[39;00m\u001b[39mcore\u001b[39;00m\u001b[39m.\u001b[39;00m\u001b[39mmanipulation\u001b[39;00m \u001b[39mimport\u001b[39;00m swap_cofactors\n\u001b[0;32m     17\u001b[0m \u001b[39mfrom\u001b[39;00m \u001b[39mcameo\u001b[39;00m \u001b[39mimport\u001b[39;00m flux_variability_analysis\n",
      "\u001b[1;31mImportError\u001b[0m: cannot import name 'find_gene_knockout_reactions' from 'cobra.manipulation.delete' (c:\\Users\\pauli\\anaconda3\\Lib\\site-packages\\cobra\\manipulation\\delete.py)"
     ]
    }
   ],
   "source": [
    "from cameo.strain_design.heuristic.evolutionary_based import CofactorSwapOptimization"
   ]
  },
  {
   "cell_type": "code",
   "execution_count": 8,
   "metadata": {},
   "outputs": [],
   "source": [
    "model = read_sbml_model(\"Models/yeast8.xml\")"
   ]
  },
  {
   "cell_type": "code",
   "execution_count": 10,
   "metadata": {},
   "outputs": [
    {
     "name": "stdout",
     "output_type": "stream",
     "text": [
      "Objective set to maximize r_1180: s_0927 --> s_0928\n"
     ]
    }
   ],
   "source": [
    "# Choose the reaction that produces isoamyl acetate as the objective.\n",
    "objective_reaction = model.reactions.r_1180\n",
    "model.objective = objective_reaction\n",
    "print(f'Objective set to maximize {objective_reaction.id}: {objective_reaction.reaction}')"
   ]
  },
  {
   "cell_type": "code",
   "execution_count": 18,
   "metadata": {},
   "outputs": [
    {
     "ename": "NameError",
     "evalue": "name 'CofactorSwapOptimization' is not defined",
     "output_type": "error",
     "traceback": [
      "\u001b[1;31m---------------------------------------------------------------------------\u001b[0m",
      "\u001b[1;31mNameError\u001b[0m                                 Traceback (most recent call last)",
      "\u001b[1;32mc:\\Users\\pauli\\OneDrive\\Dokumenty\\DTU\\Cell factories\\group-assingment-team11\\06_Co-factor_swap.ipynb Cell 5\u001b[0m line \u001b[0;36m4\n\u001b[0;32m      <a href='vscode-notebook-cell:/c%3A/Users/pauli/OneDrive/Dokumenty/DTU/Cell%20factories/group-assingment-team11/06_Co-factor_swap.ipynb#W6sZmlsZQ%3D%3D?line=1'>2</a>\u001b[0m model\u001b[39m.\u001b[39mobjective \u001b[39m=\u001b[39m model\u001b[39m.\u001b[39mreactions\u001b[39m.\u001b[39mr_1180\n\u001b[0;32m      <a href='vscode-notebook-cell:/c%3A/Users/pauli/OneDrive/Dokumenty/DTU/Cell%20factories/group-assingment-team11/06_Co-factor_swap.ipynb#W6sZmlsZQ%3D%3D?line=2'>3</a>\u001b[0m py \u001b[39m=\u001b[39m product_yield(model\u001b[39m.\u001b[39mreactions\u001b[39m.\u001b[39mr_1180, model\u001b[39m.\u001b[39mreactions\u001b[39m.\u001b[39mr_1714)\n\u001b[1;32m----> <a href='vscode-notebook-cell:/c%3A/Users/pauli/OneDrive/Dokumenty/DTU/Cell%20factories/group-assingment-team11/06_Co-factor_swap.ipynb#W6sZmlsZQ%3D%3D?line=3'>4</a>\u001b[0m swap_optimization \u001b[39m=\u001b[39m CofactorSwapOptimization(model\u001b[39m=\u001b[39mmodel, cofactor_id_swaps\u001b[39m=\u001b[39m([\u001b[39m\"\u001b[39m\u001b[39mNADP_c\u001b[39m\u001b[39m\"\u001b[39m,\u001b[39m\"\u001b[39m\u001b[39mNADPH_c\u001b[39m\u001b[39m\"\u001b[39m]),objective_function\u001b[39m=\u001b[39mpy)\n\u001b[0;32m      <a href='vscode-notebook-cell:/c%3A/Users/pauli/OneDrive/Dokumenty/DTU/Cell%20factories/group-assingment-team11/06_Co-factor_swap.ipynb#W6sZmlsZQ%3D%3D?line=4'>5</a>\u001b[0m solution\u001b[39m=\u001b[39mswap_optimization\u001b[39m.\u001b[39mrun(max_size\u001b[39m=\u001b[39m\u001b[39m10\u001b[39m)\n",
      "\u001b[1;31mNameError\u001b[0m: name 'CofactorSwapOptimization' is not defined"
     ]
    }
   ],
   "source": [
    "Fluxes=model.optimize()\n",
    "model.objective = model.reactions.r_1180\n",
    "py = product_yield(model.reactions.r_1180, model.reactions.r_1714)\n",
    "swap_optimization = CofactorSwapOptimization(model=model, cofactor_id_swaps=([\"NADP_c\",\"NADPH_c\"]),objective_function=py)\n",
    "solution=swap_optimization.run(max_size=10)"
   ]
  },
  {
   "cell_type": "code",
   "execution_count": null,
   "metadata": {},
   "outputs": [],
   "source": []
  }
 ],
 "metadata": {
  "kernelspec": {
   "display_name": "base",
   "language": "python",
   "name": "python3"
  },
  "language_info": {
   "codemirror_mode": {
    "name": "ipython",
    "version": 3
   },
   "file_extension": ".py",
   "mimetype": "text/x-python",
   "name": "python",
   "nbconvert_exporter": "python",
   "pygments_lexer": "ipython3",
   "version": "3.11.4"
  }
 },
 "nbformat": 4,
 "nbformat_minor": 2
}
