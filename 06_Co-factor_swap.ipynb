{
 "cells": [
  {
   "cell_type": "markdown",
   "metadata": {},
   "source": [
    "## Co-factor swap\n",
    "\n",
    "#### Co-factors:\n",
    "\n",
    "NAD+ / NADH: Nicotinamide adenine dinucleotide (NAD+) is reduced to NADH in the conversion of isoamyl aldehyde to isoamyl alcohol. This is an oxidation-reduction reaction where NAD+ acts as an oxidizing agent.\n",
    "\n",
    "CoASH / Acetyl-CoA: Coenzyme A (CoASH) is used in the formation of acetyl-CoA, which is a substrate for the reaction that synthesizes isoamyl acetate. Acetyl-CoA is a key molecule in metabolic processes and is formed from acetate and CoASH with the input of energy from ATP.\n",
    "\n",
    "ATP / AMP + PPi: Adenosine triphosphate (ATP) is converted to adenosine monophosphate (AMP) and inorganic pyrophosphate (PPi) in the reaction that activates acetate to acetyl adenylate as a precursor to acetyl-CoA formation.\n",
    "\n",
    "In the code the following was done:\n",
    "- Model yeast8 was loaded\n",
    "- The objective was set to maximize the production of isoamyl acetate\n",
    "- The theoretical yield was set to production of isoamyl acetate divided by the uptake of glucose\n",
    "- The algorithm was run and the result was visualized"
   ]
  },
  {
   "cell_type": "code",
   "execution_count": 3,
   "metadata": {},
   "outputs": [
    {
     "name": "stdout",
     "output_type": "stream",
     "text": [
      "Requirement already satisfied: cobra in c:\\users\\pablo\\anaconda\\lib\\site-packages (0.29.0)\n",
      "Requirement already satisfied: appdirs~=1.4 in c:\\users\\pablo\\anaconda\\lib\\site-packages (from cobra) (1.4.4)\n",
      "Requirement already satisfied: depinfo~=2.2 in c:\\users\\pablo\\anaconda\\lib\\site-packages (from cobra) (2.2.0)\n",
      "Requirement already satisfied: diskcache~=5.0 in c:\\users\\pablo\\anaconda\\lib\\site-packages (from cobra) (5.6.3)\n",
      "Requirement already satisfied: future in c:\\users\\pablo\\anaconda\\lib\\site-packages (from cobra) (0.18.3)\n",
      "Requirement already satisfied: httpx~=0.24 in c:\\users\\pablo\\anaconda\\lib\\site-packages (from cobra) (0.25.0)\n",
      "Requirement already satisfied: importlib-resources in c:\\users\\pablo\\anaconda\\lib\\site-packages (from cobra) (6.0.1)\n",
      "Requirement already satisfied: numpy>=1.13 in c:\\users\\pablo\\anaconda\\lib\\site-packages (from cobra) (1.24.3)\n",
      "Requirement already satisfied: optlang~=1.8 in c:\\users\\pablo\\anaconda\\lib\\site-packages (from cobra) (1.8.1)\n",
      "Requirement already satisfied: pandas<3.0,>=1.0 in c:\\users\\pablo\\anaconda\\lib\\site-packages (from cobra) (1.5.3)\n",
      "Requirement already satisfied: pydantic>=1.6 in c:\\users\\pablo\\anaconda\\lib\\site-packages (from cobra) (2.3.0)\n",
      "Requirement already satisfied: python-libsbml~=5.19 in c:\\users\\pablo\\anaconda\\lib\\site-packages (from cobra) (5.20.1)\n",
      "Requirement already satisfied: rich>=8.0 in c:\\users\\pablo\\anaconda\\lib\\site-packages (from cobra) (13.5.3)\n",
      "Requirement already satisfied: ruamel.yaml~=0.16 in c:\\users\\pablo\\anaconda\\lib\\site-packages (from cobra) (0.17.21)\n",
      "Requirement already satisfied: swiglpk in c:\\users\\pablo\\anaconda\\lib\\site-packages (from cobra) (5.0.8)\n",
      "Requirement already satisfied: certifi in c:\\users\\pablo\\anaconda\\lib\\site-packages (from httpx~=0.24->cobra) (2023.7.22)\n",
      "Requirement already satisfied: httpcore<0.19.0,>=0.18.0 in c:\\users\\pablo\\anaconda\\lib\\site-packages (from httpx~=0.24->cobra) (0.18.0)\n",
      "Requirement already satisfied: idna in c:\\users\\pablo\\anaconda\\lib\\site-packages (from httpx~=0.24->cobra) (3.4)\n",
      "Requirement already satisfied: sniffio in c:\\users\\pablo\\anaconda\\lib\\site-packages (from httpx~=0.24->cobra) (1.2.0)\n",
      "Requirement already satisfied: six>=1.9 in c:\\users\\pablo\\anaconda\\lib\\site-packages (from optlang~=1.8->cobra) (1.16.0)\n",
      "Requirement already satisfied: sympy>=1.12.0 in c:\\users\\pablo\\anaconda\\lib\\site-packages (from optlang~=1.8->cobra) (1.12)\n",
      "Requirement already satisfied: python-dateutil>=2.8.1 in c:\\users\\pablo\\anaconda\\lib\\site-packages (from pandas<3.0,>=1.0->cobra) (2.8.2)\n",
      "Requirement already satisfied: pytz>=2020.1 in c:\\users\\pablo\\anaconda\\lib\\site-packages (from pandas<3.0,>=1.0->cobra) (2022.7)\n",
      "Requirement already satisfied: annotated-types>=0.4.0 in c:\\users\\pablo\\anaconda\\lib\\site-packages (from pydantic>=1.6->cobra) (0.5.0)\n",
      "Requirement already satisfied: pydantic-core==2.6.3 in c:\\users\\pablo\\anaconda\\lib\\site-packages (from pydantic>=1.6->cobra) (2.6.3)\n",
      "Requirement already satisfied: typing-extensions>=4.6.1 in c:\\users\\pablo\\anaconda\\lib\\site-packages (from pydantic>=1.6->cobra) (4.7.1)\n",
      "Requirement already satisfied: markdown-it-py>=2.2.0 in c:\\users\\pablo\\anaconda\\lib\\site-packages (from rich>=8.0->cobra) (2.2.0)\n",
      "Requirement already satisfied: pygments<3.0.0,>=2.13.0 in c:\\users\\pablo\\anaconda\\lib\\site-packages (from rich>=8.0->cobra) (2.15.1)\n",
      "Requirement already satisfied: anyio<5.0,>=3.0 in c:\\users\\pablo\\anaconda\\lib\\site-packages (from httpcore<0.19.0,>=0.18.0->httpx~=0.24->cobra) (3.5.0)\n",
      "Requirement already satisfied: h11<0.15,>=0.13 in c:\\users\\pablo\\anaconda\\lib\\site-packages (from httpcore<0.19.0,>=0.18.0->httpx~=0.24->cobra) (0.14.0)\n",
      "Requirement already satisfied: mdurl~=0.1 in c:\\users\\pablo\\anaconda\\lib\\site-packages (from markdown-it-py>=2.2.0->rich>=8.0->cobra) (0.1.0)\n",
      "Requirement already satisfied: mpmath>=0.19 in c:\\users\\pablo\\anaconda\\lib\\site-packages (from sympy>=1.12.0->optlang~=1.8->cobra) (1.3.0)\n",
      "Note: you may need to restart the kernel to use updated packages.\n"
     ]
    }
   ],
   "source": [
    "pip install cobra"
   ]
  },
  {
   "cell_type": "code",
   "execution_count": 5,
   "metadata": {},
   "outputs": [],
   "source": [
    "# fix the cameo import errors\n",
    "from collections.abc import Mapping\n",
    "import os\n",
    "import pandas as pd\n",
    "import matplotlib.pyplot as plt\n",
    "from cameo.core import manipulation\n",
    "from cameo import fba, flux_variability_analysis\n",
    "from cobra.io import read_sbml_model\n",
    "from cameo import load_model\n",
    "from matplotlib import pyplot as plt\n",
    "from cameo.flux_analysis.analysis import flux_variability_analysis as fva\n",
    "from cameo.util import TimeMachine\n",
    "from cobra.core.gene import GPR\n",
    "from cameo.strain_design.heuristic.evolutionary.objective_functions import product_yield\n",
    "# from cameo.strain_design.heuristic.evolutionary_based import CofactorSwapOptimization"
   ]
  },
  {
   "cell_type": "code",
   "execution_count": 6,
   "metadata": {},
   "outputs": [],
   "source": [
    "from cameo.strain_design.heuristic.evolutionary_based import CofactorSwapOptimization"
   ]
  },
  {
   "cell_type": "code",
   "execution_count": 7,
   "metadata": {},
   "outputs": [],
   "source": [
    "model = read_sbml_model(\"Models/yeast8.xml\")"
   ]
  },
  {
   "cell_type": "code",
   "execution_count": null,
   "metadata": {},
   "outputs": [
    {
     "name": "stdout",
     "output_type": "stream",
     "text": [
      "Objective set to maximize r_1180: s_0927 --> s_0928\n"
     ]
    }
   ],
   "source": [
    "# Choose the reaction that produces isoamyl acetate as the objective (r_1180 transports the product to the extracellular medium).\n",
    "objective_reaction = model.reactions.r_1180\n",
    "model.objective = objective_reaction\n",
    "print(f'Objective set to maximize {objective_reaction.id}: {objective_reaction.reaction}')"
   ]
  },
  {
   "cell_type": "code",
   "execution_count": 9,
   "metadata": {},
   "outputs": [
    {
     "name": "stdout",
     "output_type": "stream",
     "text": [
      "r_0656: s_0803 + s_0927 --> s_0362 + s_0794 + s_0929\n"
     ]
    }
   ],
   "source": [
    "print(model.reactions.r_0656)"
   ]
  },
  {
   "cell_type": "markdown",
   "metadata": {},
   "source": [
    "Reactions regarding isoamyl acetate:\n",
    "\n",
    "r_0160(alcohol acetyltransferase (isoamyl alcohol)):  s_0373 (acetyl-CoA) + s_0929 (isoamyl alcohol) --> s_0529 (CoA) + s_0927 (isoamyl acetate)\n",
    "\n",
    "r_0180 (aldehyde dehydrogenase (isoamyl alcohol, NAD)): s_0236(3-methyilbutanal) + s_0799 (glyoxylate)+ s_1205 (NADH) --> s_0931 (isoamylol) + s_1200 (NAD)\n",
    "\n",
    "r_0656 (isoamyl acetate-hydrolyzing esterase): eliminates isoamyl acetate\n",
    "\n",
    "r_1180 --> Transports isoamyl acetate to the outside \n"
   ]
  },
  {
   "cell_type": "markdown",
   "metadata": {},
   "source": [
    "Now use NADP and NADH instead of NAD and NADH. The reaction occurs in the m compartment\n"
   ]
  },
  {
   "cell_type": "code",
   "execution_count": 10,
   "metadata": {},
   "outputs": [
    {
     "ename": "NameError",
     "evalue": "name 'population' is not defined",
     "output_type": "error",
     "traceback": [
      "\u001b[1;31m---------------------------------------------------------------------------\u001b[0m",
      "\u001b[1;31mNameError\u001b[0m                                 Traceback (most recent call last)",
      "\u001b[1;32mc:\\Users\\Pablo\\Desktop\\DTU1\\Computer\\Group work\\group-assingment-team11\\06_Co-factor_swap.ipynb Cell 10\u001b[0m line \u001b[0;36m1\n\u001b[1;32m----> <a href='vscode-notebook-cell:/c%3A/Users/Pablo/Desktop/DTU1/Computer/Group%20work/group-assingment-team11/06_Co-factor_swap.ipynb#X12sZmlsZQ%3D%3D?line=0'>1</a>\u001b[0m \u001b[39mif\u001b[39;00m \u001b[39mlen\u001b[39m(population) \u001b[39m>\u001b[39m\u001b[39m=\u001b[39m sample_size:\n\u001b[0;32m      <a href='vscode-notebook-cell:/c%3A/Users/Pablo/Desktop/DTU1/Computer/Group%20work/group-assingment-team11/06_Co-factor_swap.ipynb#X12sZmlsZQ%3D%3D?line=1'>2</a>\u001b[0m     sample \u001b[39m=\u001b[39m numpy\u001b[39m.\u001b[39mrandom\u001b[39m.\u001b[39mchoice(population, size\u001b[39m=\u001b[39msample_size, replace\u001b[39m=\u001b[39m\u001b[39mFalse\u001b[39;00m)\n\u001b[0;32m      <a href='vscode-notebook-cell:/c%3A/Users/Pablo/Desktop/DTU1/Computer/Group%20work/group-assingment-team11/06_Co-factor_swap.ipynb#X12sZmlsZQ%3D%3D?line=2'>3</a>\u001b[0m \u001b[39melse\u001b[39;00m:\n",
      "\u001b[1;31mNameError\u001b[0m: name 'population' is not defined"
     ]
    }
   ],
   "source": [
    "if len(population) >= sample_size:\n",
    "    sample = numpy.random.choice(population, size=sample_size, replace=False)\n",
    "else:\n",
    "    print(\"Population size must be larger than the sample size when 'replace=False'.\")\n"
   ]
  },
  {
   "cell_type": "code",
   "execution_count": 11,
   "metadata": {},
   "outputs": [],
   "source": [
    "Fluxes=model.optimize()\n",
    "model.objective = model.reactions.r_1180\n",
    "py = product_yield(model.reactions.r_1180, model.reactions.r_0180)\n",
    "swap_optimization = CofactorSwapOptimization(model=model, objective_function=py, plot=False, cofactor_id_swaps=([\"s_1200\",\"s_1210\"],[\"s_1205\",\"s_1214\"]))\n"
   ]
  },
  {
   "cell_type": "code",
   "execution_count": null,
   "metadata": {},
   "outputs": [],
   "source": []
  },
  {
   "cell_type": "code",
   "execution_count": 12,
   "metadata": {},
   "outputs": [],
   "source": [
    "#                                                                                                                 NAD (m) NADP(+)(m)  NADH    NADPH(m)                                \n",
    "swap_optimization = CofactorSwapOptimization(model=model, objective_function=py, plot=False, cofactor_id_swaps=([\"s_1200\",\"s_1210\"],[\"s_1205\",\"s_1214\"]))"
   ]
  },
  {
   "cell_type": "code",
   "execution_count": 13,
   "metadata": {},
   "outputs": [
    {
     "name": "stdout",
     "output_type": "stream",
     "text": [
      "Starting optimization at Sat, 18 Nov 2023 16:43:45\n"
     ]
    },
    {
     "name": "stderr",
     "output_type": "stream",
     "text": [
      "c:\\Users\\Pablo\\Anaconda\\Lib\\site-packages\\cameo\\strain_design\\heuristic\\evolutionary\\objective_functions.py:353: RuntimeWarning: divide by zero encountered in scalar divide\n",
      "  return round(product_flux / substrate_flux, config.ndecimals)\n",
      "c:\\Users\\Pablo\\Anaconda\\Lib\\site-packages\\cameo\\strain_design\\heuristic\\evolutionary\\objective_functions.py:353: RuntimeWarning: divide by zero encountered in scalar divide\n",
      "  return round(product_flux / substrate_flux, config.ndecimals)\n",
      "c:\\Users\\Pablo\\Anaconda\\Lib\\site-packages\\cameo\\strain_design\\heuristic\\evolutionary\\objective_functions.py:353: RuntimeWarning: divide by zero encountered in scalar divide\n",
      "  return round(product_flux / substrate_flux, config.ndecimals)\n"
     ]
    },
    {
     "data": {
      "application/vnd.jupyter.widget-view+json": {
       "model_id": "63cecfa9e12d489daf3312d59e9949ea",
       "version_major": 2,
       "version_minor": 0
      },
      "text/plain": [
       "HBox()"
      ]
     },
     "metadata": {},
     "output_type": "display_data"
    },
    {
     "name": "stdout",
     "output_type": "stream",
     "text": [
      "Finished after 00:00:05\n",
      "CPU times: total: 3.27 s\n",
      "Wall time: 6.81 s\n"
     ]
    },
    {
     "name": "stderr",
     "output_type": "stream",
     "text": [
      "c:\\Users\\Pablo\\Anaconda\\Lib\\site-packages\\cameo\\strain_design\\heuristic\\evolutionary\\objective_functions.py:353: RuntimeWarning: divide by zero encountered in scalar divide\n",
      "  return round(product_flux / substrate_flux, config.ndecimals)\n"
     ]
    }
   ],
   "source": [
    "%%time\n",
    "result = swap_optimization.run(max_size=3.9999999)"
   ]
  },
  {
   "cell_type": "code",
   "execution_count": 16,
   "metadata": {},
   "outputs": [
    {
     "data": {
      "text/html": [
       "\n",
       "        <h4>Result:</h4>\n",
       "        <ul>\n",
       "            <li>model: yeastGEM_v8__46__7__46__1</li>\n",
       "            <li>heuristic: GA</li>\n",
       "            <li>objective function: $$yield = \\frac{r\\_1180}{r\\_0180}$$</li>\n",
       "            <li>simulation method: pfba</li>\n",
       "            <li>target type: cofactor-swap</li>\n",
       "        <ul>\n",
       "        <div>\n",
       "<style scoped>\n",
       "    .dataframe tbody tr th:only-of-type {\n",
       "        vertical-align: middle;\n",
       "    }\n",
       "\n",
       "    .dataframe tbody tr th {\n",
       "        vertical-align: top;\n",
       "    }\n",
       "\n",
       "    .dataframe thead th {\n",
       "        text-align: right;\n",
       "    }\n",
       "</style>\n",
       "<table border=\"1\" class=\"dataframe\">\n",
       "  <thead>\n",
       "    <tr style=\"text-align: right;\">\n",
       "      <th></th>\n",
       "      <th>index</th>\n",
       "      <th>targets</th>\n",
       "      <th>fitness</th>\n",
       "    </tr>\n",
       "  </thead>\n",
       "  <tbody>\n",
       "  </tbody>\n",
       "</table>\n",
       "</div>"
      ],
      "text/plain": [
       "<cameo.strain_design.heuristic.evolutionary.optimization.TargetOptimizationResult at 0x282c8131710>"
      ]
     },
     "execution_count": 16,
     "metadata": {},
     "output_type": "execute_result"
    }
   ],
   "source": [
    "result"
   ]
  },
  {
   "cell_type": "code",
   "execution_count": null,
   "metadata": {},
   "outputs": [],
   "source": []
  }
 ],
 "metadata": {
  "kernelspec": {
   "display_name": "Python 3 (ipykernel)",
   "language": "python",
   "name": "python3"
  },
  "language_info": {
   "codemirror_mode": {
    "name": "ipython",
    "version": 3
   },
   "file_extension": ".py",
   "mimetype": "text/x-python",
   "name": "python",
   "nbconvert_exporter": "python",
   "pygments_lexer": "ipython3",
   "version": "3.11.4"
  }
 },
 "nbformat": 4,
 "nbformat_minor": 2
}
