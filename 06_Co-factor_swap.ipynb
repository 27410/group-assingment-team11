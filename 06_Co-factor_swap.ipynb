{
 "cells": [
  {
   "cell_type": "markdown",
   "metadata": {},
   "source": [
    "## Co-factor swap\n",
    "\n",
    "#### Co-factors:\n",
    "\n",
    "NAD+ / NADH: Nicotinamide adenine dinucleotide (NAD+) is reduced to NADH in the conversion of isoamyl aldehyde to isoamyl alcohol. This is an oxidation-reduction reaction where NAD+ acts as an oxidizing agent.\n",
    "\n",
    "CoASH / Acetyl-CoA: Coenzyme A (CoASH) is used in the formation of acetyl-CoA, which is a substrate for the reaction that synthesizes isoamyl acetate. Acetyl-CoA is a key molecule in metabolic processes and is formed from acetate and CoASH with the input of energy from ATP.\n",
    "\n",
    "ATP / AMP + PPi: Adenosine triphosphate (ATP) is converted to adenosine monophosphate (AMP) and inorganic pyrophosphate (PPi) in the reaction that activates acetate to acetyl adenylate as a precursor to acetyl-CoA formation.\n",
    "\n",
    "In the code the following was done:\n",
    "- Model yeast8 was loaded\n",
    "- The objective was set to maximize the production of isoamyl acetate\n",
    "- The theoretical yield was set to production of isoamyl acetate divided by the uptake of glucose\n",
    "- The algorithm was run and the result was visualized"
   ]
  },
  {
   "cell_type": "code",
   "execution_count": 3,
   "metadata": {},
   "outputs": [
    {
     "name": "stdout",
     "output_type": "stream",
     "text": [
      "Requirement already satisfied: cobra in c:\\users\\pablo\\anaconda\\lib\\site-packages (0.29.0)\n",
      "Requirement already satisfied: appdirs~=1.4 in c:\\users\\pablo\\anaconda\\lib\\site-packages (from cobra) (1.4.4)\n",
      "Requirement already satisfied: depinfo~=2.2 in c:\\users\\pablo\\anaconda\\lib\\site-packages (from cobra) (2.2.0)\n",
      "Requirement already satisfied: diskcache~=5.0 in c:\\users\\pablo\\anaconda\\lib\\site-packages (from cobra) (5.6.3)\n",
      "Requirement already satisfied: future in c:\\users\\pablo\\anaconda\\lib\\site-packages (from cobra) (0.18.3)\n",
      "Requirement already satisfied: httpx~=0.24 in c:\\users\\pablo\\anaconda\\lib\\site-packages (from cobra) (0.25.0)\n",
      "Requirement already satisfied: importlib-resources in c:\\users\\pablo\\anaconda\\lib\\site-packages (from cobra) (6.0.1)\n",
      "Requirement already satisfied: numpy>=1.13 in c:\\users\\pablo\\anaconda\\lib\\site-packages (from cobra) (1.24.3)\n",
      "Requirement already satisfied: optlang~=1.8 in c:\\users\\pablo\\anaconda\\lib\\site-packages (from cobra) (1.8.1)\n",
      "Requirement already satisfied: pandas<3.0,>=1.0 in c:\\users\\pablo\\anaconda\\lib\\site-packages (from cobra) (1.5.3)\n",
      "Requirement already satisfied: pydantic>=1.6 in c:\\users\\pablo\\anaconda\\lib\\site-packages (from cobra) (2.3.0)\n",
      "Requirement already satisfied: python-libsbml~=5.19 in c:\\users\\pablo\\anaconda\\lib\\site-packages (from cobra) (5.20.1)\n",
      "Requirement already satisfied: rich>=8.0 in c:\\users\\pablo\\anaconda\\lib\\site-packages (from cobra) (13.5.3)\n",
      "Requirement already satisfied: ruamel.yaml~=0.16 in c:\\users\\pablo\\anaconda\\lib\\site-packages (from cobra) (0.17.21)\n",
      "Requirement already satisfied: swiglpk in c:\\users\\pablo\\anaconda\\lib\\site-packages (from cobra) (5.0.8)\n",
      "Requirement already satisfied: certifi in c:\\users\\pablo\\anaconda\\lib\\site-packages (from httpx~=0.24->cobra) (2023.7.22)\n",
      "Requirement already satisfied: httpcore<0.19.0,>=0.18.0 in c:\\users\\pablo\\anaconda\\lib\\site-packages (from httpx~=0.24->cobra) (0.18.0)\n",
      "Requirement already satisfied: idna in c:\\users\\pablo\\anaconda\\lib\\site-packages (from httpx~=0.24->cobra) (3.4)\n",
      "Requirement already satisfied: sniffio in c:\\users\\pablo\\anaconda\\lib\\site-packages (from httpx~=0.24->cobra) (1.2.0)\n",
      "Requirement already satisfied: six>=1.9 in c:\\users\\pablo\\anaconda\\lib\\site-packages (from optlang~=1.8->cobra) (1.16.0)\n",
      "Requirement already satisfied: sympy>=1.12.0 in c:\\users\\pablo\\anaconda\\lib\\site-packages (from optlang~=1.8->cobra) (1.12)\n",
      "Requirement already satisfied: python-dateutil>=2.8.1 in c:\\users\\pablo\\anaconda\\lib\\site-packages (from pandas<3.0,>=1.0->cobra) (2.8.2)\n",
      "Requirement already satisfied: pytz>=2020.1 in c:\\users\\pablo\\anaconda\\lib\\site-packages (from pandas<3.0,>=1.0->cobra) (2022.7)\n",
      "Requirement already satisfied: annotated-types>=0.4.0 in c:\\users\\pablo\\anaconda\\lib\\site-packages (from pydantic>=1.6->cobra) (0.5.0)\n",
      "Requirement already satisfied: pydantic-core==2.6.3 in c:\\users\\pablo\\anaconda\\lib\\site-packages (from pydantic>=1.6->cobra) (2.6.3)\n",
      "Requirement already satisfied: typing-extensions>=4.6.1 in c:\\users\\pablo\\anaconda\\lib\\site-packages (from pydantic>=1.6->cobra) (4.7.1)\n",
      "Requirement already satisfied: markdown-it-py>=2.2.0 in c:\\users\\pablo\\anaconda\\lib\\site-packages (from rich>=8.0->cobra) (2.2.0)\n",
      "Requirement already satisfied: pygments<3.0.0,>=2.13.0 in c:\\users\\pablo\\anaconda\\lib\\site-packages (from rich>=8.0->cobra) (2.15.1)\n",
      "Requirement already satisfied: anyio<5.0,>=3.0 in c:\\users\\pablo\\anaconda\\lib\\site-packages (from httpcore<0.19.0,>=0.18.0->httpx~=0.24->cobra) (3.5.0)\n",
      "Requirement already satisfied: h11<0.15,>=0.13 in c:\\users\\pablo\\anaconda\\lib\\site-packages (from httpcore<0.19.0,>=0.18.0->httpx~=0.24->cobra) (0.14.0)\n",
      "Requirement already satisfied: mdurl~=0.1 in c:\\users\\pablo\\anaconda\\lib\\site-packages (from markdown-it-py>=2.2.0->rich>=8.0->cobra) (0.1.0)\n",
      "Requirement already satisfied: mpmath>=0.19 in c:\\users\\pablo\\anaconda\\lib\\site-packages (from sympy>=1.12.0->optlang~=1.8->cobra) (1.3.0)\n",
      "Note: you may need to restart the kernel to use updated packages.\n"
     ]
    }
   ],
   "source": [
    "pip install cobra"
   ]
  },
  {
   "cell_type": "code",
   "execution_count": 5,
   "metadata": {},
   "outputs": [],
   "source": [
    "# fix the cameo import errors\n",
    "from collections.abc import Mapping\n",
    "import os\n",
    "import pandas as pd\n",
    "import matplotlib.pyplot as plt\n",
    "from cameo.core import manipulation\n",
    "from cameo import fba, flux_variability_analysis\n",
    "from cobra.io import read_sbml_model\n",
    "from cameo import load_model\n",
    "from matplotlib import pyplot as plt\n",
    "from cameo.flux_analysis.analysis import flux_variability_analysis as fva\n",
    "from cameo.util import TimeMachine\n",
    "from cobra.core.gene import GPR\n",
    "from cameo.strain_design.heuristic.evolutionary.objective_functions import product_yield\n",
    "# from cameo.strain_design.heuristic.evolutionary_based import CofactorSwapOptimization"
   ]
  },
  {
   "cell_type": "code",
   "execution_count": 6,
   "metadata": {},
   "outputs": [],
   "source": [
    "from cameo.strain_design.heuristic.evolutionary_based import CofactorSwapOptimization"
   ]
  },
  {
   "cell_type": "code",
   "execution_count": 7,
   "metadata": {},
   "outputs": [],
   "source": [
    "model = read_sbml_model(\"Models/yeast8.xml\")"
   ]
  },
  {
   "cell_type": "code",
   "execution_count": 8,
   "metadata": {},
   "outputs": [
    {
     "name": "stdout",
     "output_type": "stream",
     "text": [
      "Objective set to maximize r_1180: s_0927 --> s_0928\n"
     ]
    }
   ],
   "source": [
    "# Choose the reaction that produces isoamyl acetate as the objective (r_1180 transports the product to the extracellular medium).\n",
    "objective_reaction = model.reactions.r_1180\n",
    "model.objective = objective_reaction\n",
    "print(f'Objective set to maximize {objective_reaction.id}: {objective_reaction.reaction}')"
   ]
  },
  {
   "cell_type": "code",
   "execution_count": 16,
   "metadata": {},
   "outputs": [
    {
     "name": "stdout",
     "output_type": "stream",
     "text": [
      "r_0656: s_0803 + s_0927 --> s_0362 + s_0794 + s_0929\n"
     ]
    }
   ],
   "source": [
    "print(model.reactions.r_0656)"
   ]
  },
  {
   "cell_type": "markdown",
   "metadata": {},
   "source": [
    "Reactions regarding isoamyl acetate:\n",
    "\n",
    "r_0160(alcohol acetyltransferase (isoamyl alcohol)):  s_0373 (acetyl-CoA) + s_0929 (isoamyl alcohol) --> s_0529 (CoA) + s_0927 (isoamyl acetate)\n",
    "\n",
    "r_0180 (aldehyde dehydrogenase (isoamyl alcohol, NAD)): s_0236(3-methyilbutanal) + s_0799 (glyoxylate)+ s_1205 (NADH) --> s_0931 (isoamylol) + s_1200 (NAD)\n",
    "\n",
    "r_0656 (isoamyl acetate-hydrolyzing esterase): eliminates isoamyl acetate\n",
    "\n",
    "r_1180 --> Transports isoamyl acetate to the outside \n"
   ]
  },
  {
   "cell_type": "markdown",
   "metadata": {},
   "source": [
    "Now use NADP and NADH instead of NAD and NADH. The reaction occurs in the m compartment\n",
    "\n",
    "MIRAR SI LO DE COMPARTIMENTO N ES VERDAD O MENTIRA"
   ]
  },
  {
   "cell_type": "code",
   "execution_count": 17,
   "metadata": {},
   "outputs": [
    {
     "ename": "NameError",
     "evalue": "name 'population' is not defined",
     "output_type": "error",
     "traceback": [
      "\u001b[1;31m---------------------------------------------------------------------------\u001b[0m",
      "\u001b[1;31mNameError\u001b[0m                                 Traceback (most recent call last)",
      "\u001b[1;32mc:\\Users\\Pablo\\Desktop\\DTU1\\Computer\\Group work\\group-assingment-team11\\06_Co-factor_swap.ipynb Cell 10\u001b[0m line \u001b[0;36m1\n\u001b[1;32m----> <a href='vscode-notebook-cell:/c%3A/Users/Pablo/Desktop/DTU1/Computer/Group%20work/group-assingment-team11/06_Co-factor_swap.ipynb#X14sZmlsZQ%3D%3D?line=0'>1</a>\u001b[0m \u001b[39mif\u001b[39;00m \u001b[39mlen\u001b[39m(population) \u001b[39m>\u001b[39m\u001b[39m=\u001b[39m sample_size:\n\u001b[0;32m      <a href='vscode-notebook-cell:/c%3A/Users/Pablo/Desktop/DTU1/Computer/Group%20work/group-assingment-team11/06_Co-factor_swap.ipynb#X14sZmlsZQ%3D%3D?line=1'>2</a>\u001b[0m     sample \u001b[39m=\u001b[39m numpy\u001b[39m.\u001b[39mrandom\u001b[39m.\u001b[39mchoice(population, size\u001b[39m=\u001b[39msample_size, replace\u001b[39m=\u001b[39m\u001b[39mFalse\u001b[39;00m)\n\u001b[0;32m      <a href='vscode-notebook-cell:/c%3A/Users/Pablo/Desktop/DTU1/Computer/Group%20work/group-assingment-team11/06_Co-factor_swap.ipynb#X14sZmlsZQ%3D%3D?line=2'>3</a>\u001b[0m \u001b[39melse\u001b[39;00m:\n",
      "\u001b[1;31mNameError\u001b[0m: name 'population' is not defined"
     ]
    }
   ],
   "source": [
    "if len(population) >= sample_size:\n",
    "    sample = numpy.random.choice(population, size=sample_size, replace=False)\n",
    "else:\n",
    "    print(\"Population size must be larger than the sample size when 'replace=False'.\")\n"
   ]
  },
  {
   "cell_type": "code",
   "execution_count": 81,
   "metadata": {},
   "outputs": [
    {
     "ename": "TypeError",
     "evalue": "object.__init__() takes exactly one argument (the instance to initialize)",
     "output_type": "error",
     "traceback": [
      "\u001b[1;31m---------------------------------------------------------------------------\u001b[0m",
      "\u001b[1;31mTypeError\u001b[0m                                 Traceback (most recent call last)",
      "\u001b[1;32mc:\\Users\\Pablo\\Desktop\\DTU1\\Computer\\Group work\\group-assingment-team11\\06_Co-factor_swap.ipynb Cell 11\u001b[0m line \u001b[0;36m4\n\u001b[0;32m      <a href='vscode-notebook-cell:/c%3A/Users/Pablo/Desktop/DTU1/Computer/Group%20work/group-assingment-team11/06_Co-factor_swap.ipynb#X16sZmlsZQ%3D%3D?line=1'>2</a>\u001b[0m model\u001b[39m.\u001b[39mobjective \u001b[39m=\u001b[39m model\u001b[39m.\u001b[39mreactions\u001b[39m.\u001b[39mr_1180\n\u001b[0;32m      <a href='vscode-notebook-cell:/c%3A/Users/Pablo/Desktop/DTU1/Computer/Group%20work/group-assingment-team11/06_Co-factor_swap.ipynb#X16sZmlsZQ%3D%3D?line=2'>3</a>\u001b[0m py \u001b[39m=\u001b[39m product_yield(model\u001b[39m.\u001b[39mreactions\u001b[39m.\u001b[39mr_1180, model\u001b[39m.\u001b[39mreactions\u001b[39m.\u001b[39mr_0180)\n\u001b[1;32m----> <a href='vscode-notebook-cell:/c%3A/Users/Pablo/Desktop/DTU1/Computer/Group%20work/group-assingment-team11/06_Co-factor_swap.ipynb#X16sZmlsZQ%3D%3D?line=3'>4</a>\u001b[0m swap_optimization \u001b[39m=\u001b[39m CofactorSwapOptimization(model\u001b[39m=\u001b[39mmodel, objective_function\u001b[39m=\u001b[39mpy, replace\u001b[39m=\u001b[39m\u001b[39mTrue\u001b[39;00m, plot\u001b[39m=\u001b[39m\u001b[39mFalse\u001b[39;00m, cofactor_id_swaps\u001b[39m=\u001b[39m([\u001b[39m\"\u001b[39m\u001b[39ms_1200\u001b[39m\u001b[39m\"\u001b[39m,\u001b[39m\"\u001b[39m\u001b[39ms_1210\u001b[39m\u001b[39m\"\u001b[39m],[\u001b[39m\"\u001b[39m\u001b[39ms_1205\u001b[39m\u001b[39m\"\u001b[39m,\u001b[39m\"\u001b[39m\u001b[39ms_1214\u001b[39m\u001b[39m\"\u001b[39m]))\n",
      "File \u001b[1;32mc:\\Users\\Pablo\\Anaconda\\Lib\\site-packages\\cameo\\strain_design\\heuristic\\evolutionary\\optimization.py:846\u001b[0m, in \u001b[0;36mCofactorSwapOptimization.__init__\u001b[1;34m(self, cofactor_id_swaps, candidate_reactions, skip_reactions, *args, **kwargs)\u001b[0m\n\u001b[0;32m    845\u001b[0m \u001b[39mdef\u001b[39;00m \u001b[39m__init__\u001b[39m(\u001b[39mself\u001b[39m, cofactor_id_swaps\u001b[39m=\u001b[39mNADH_NADPH, candidate_reactions\u001b[39m=\u001b[39m\u001b[39mNone\u001b[39;00m, skip_reactions\u001b[39m=\u001b[39m\u001b[39mNone\u001b[39;00m, \u001b[39m*\u001b[39margs, \u001b[39m*\u001b[39m\u001b[39m*\u001b[39mkwargs):\n\u001b[1;32m--> 846\u001b[0m     \u001b[39msuper\u001b[39m(CofactorSwapOptimization, \u001b[39mself\u001b[39m)\u001b[39m.\u001b[39m\u001b[39m__init__\u001b[39m(\u001b[39m*\u001b[39margs, \u001b[39m*\u001b[39m\u001b[39m*\u001b[39mkwargs)\n\u001b[0;32m    847\u001b[0m     \u001b[39mself\u001b[39m\u001b[39m.\u001b[39m_target_type \u001b[39m=\u001b[39m SWAP_TYPE\n\u001b[0;32m    848\u001b[0m     swap_pairs \u001b[39m=\u001b[39m ([\u001b[39mself\u001b[39m\u001b[39m.\u001b[39mmodel\u001b[39m.\u001b[39mmetabolites\u001b[39m.\u001b[39mget_by_id(m) \u001b[39mfor\u001b[39;00m m \u001b[39min\u001b[39;00m cofactor_id_swaps[\u001b[39m0\u001b[39m]],\n\u001b[0;32m    849\u001b[0m                   [\u001b[39mself\u001b[39m\u001b[39m.\u001b[39mmodel\u001b[39m.\u001b[39mmetabolites\u001b[39m.\u001b[39mget_by_id(m) \u001b[39mfor\u001b[39;00m m \u001b[39min\u001b[39;00m cofactor_id_swaps[\u001b[39m1\u001b[39m]])\n",
      "File \u001b[1;32mc:\\Users\\Pablo\\Anaconda\\Lib\\site-packages\\cameo\\strain_design\\heuristic\\evolutionary\\optimization.py:308\u001b[0m, in \u001b[0;36mTargetOptimization.__init__\u001b[1;34m(self, simulation_method, wt_reference, *args, **kwargs)\u001b[0m\n\u001b[0;32m    293\u001b[0m \u001b[39mdef\u001b[39;00m \u001b[39m__init__\u001b[39m(\u001b[39mself\u001b[39m, simulation_method\u001b[39m=\u001b[39mpfba, wt_reference\u001b[39m=\u001b[39m\u001b[39mNone\u001b[39;00m, \u001b[39m*\u001b[39margs, \u001b[39m*\u001b[39m\u001b[39m*\u001b[39mkwargs):\n\u001b[0;32m    294\u001b[0m \u001b[39m    \u001b[39m\u001b[39m\"\"\"\u001b[39;00m\n\u001b[0;32m    295\u001b[0m \u001b[39m    Class for generic optimization algorithms for knockout (or similar) strain design methods\u001b[39;00m\n\u001b[0;32m    296\u001b[0m \n\u001b[1;32m   (...)\u001b[0m\n\u001b[0;32m    306\u001b[0m \u001b[39m       the class used to evaluate results\u001b[39;00m\n\u001b[0;32m    307\u001b[0m \u001b[39m    \"\"\"\u001b[39;00m\n\u001b[1;32m--> 308\u001b[0m     \u001b[39msuper\u001b[39m(TargetOptimization, \u001b[39mself\u001b[39m)\u001b[39m.\u001b[39m\u001b[39m__init__\u001b[39m(\u001b[39m*\u001b[39margs, \u001b[39m*\u001b[39m\u001b[39m*\u001b[39mkwargs)\n\u001b[0;32m    309\u001b[0m     \u001b[39mself\u001b[39m\u001b[39m.\u001b[39m_simulation_kwargs \u001b[39m=\u001b[39m \u001b[39mdict\u001b[39m()\n\u001b[0;32m    310\u001b[0m     \u001b[39mself\u001b[39m\u001b[39m.\u001b[39m_simulation_kwargs[\u001b[39m'\u001b[39m\u001b[39mreference\u001b[39m\u001b[39m'\u001b[39m] \u001b[39m=\u001b[39m wt_reference\n",
      "File \u001b[1;32mc:\\Users\\Pablo\\Anaconda\\Lib\\site-packages\\cameo\\strain_design\\heuristic\\evolutionary\\optimization.py:145\u001b[0m, in \u001b[0;36mHeuristicOptimization.__init__\u001b[1;34m(self, model, heuristic_method, objective_function, seed, termination, plot, progress, *args, **kwargs)\u001b[0m\n\u001b[0;32m    142\u001b[0m \u001b[39mdef\u001b[39;00m \u001b[39m__init__\u001b[39m(\u001b[39mself\u001b[39m, model\u001b[39m=\u001b[39m\u001b[39mNone\u001b[39;00m, heuristic_method\u001b[39m=\u001b[39minspyred\u001b[39m.\u001b[39mec\u001b[39m.\u001b[39mGA, objective_function\u001b[39m=\u001b[39m\u001b[39mNone\u001b[39;00m, seed\u001b[39m=\u001b[39m\u001b[39mNone\u001b[39;00m,\n\u001b[0;32m    143\u001b[0m              termination\u001b[39m=\u001b[39minspyred\u001b[39m.\u001b[39mec\u001b[39m.\u001b[39mterminators\u001b[39m.\u001b[39mevaluation_termination, plot\u001b[39m=\u001b[39m\u001b[39mTrue\u001b[39;00m, progress\u001b[39m=\u001b[39m\u001b[39mTrue\u001b[39;00m,\n\u001b[0;32m    144\u001b[0m              \u001b[39m*\u001b[39margs, \u001b[39m*\u001b[39m\u001b[39m*\u001b[39mkwargs):\n\u001b[1;32m--> 145\u001b[0m     \u001b[39msuper\u001b[39m(HeuristicOptimization, \u001b[39mself\u001b[39m)\u001b[39m.\u001b[39m\u001b[39m__init__\u001b[39m(\u001b[39m*\u001b[39margs, \u001b[39m*\u001b[39m\u001b[39m*\u001b[39mkwargs)\n\u001b[0;32m    146\u001b[0m     logger\u001b[39m.\u001b[39mdebug(\u001b[39m\"\u001b[39m\u001b[39mSeed: \u001b[39m\u001b[39m%s\u001b[39;00m\u001b[39m\"\u001b[39m \u001b[39m%\u001b[39m seed)\n\u001b[0;32m    147\u001b[0m     \u001b[39mself\u001b[39m\u001b[39m.\u001b[39mplot \u001b[39m=\u001b[39m plot\n",
      "\u001b[1;31mTypeError\u001b[0m: object.__init__() takes exactly one argument (the instance to initialize)"
     ]
    }
   ],
   "source": [
    "Fluxes=model.optimize()\n",
    "model.objective = model.reactions.r_1180\n",
    "py = product_yield(model.reactions.r_1180, model.reactions.r_0180)\n",
    "swap_optimization = CofactorSwapOptimization(model=model, objective_function=py, plot=False, cofactor_id_swaps=([\"s_1200\",\"s_1210\"],[\"s_1205\",\"s_1214\"]))\n"
   ]
  },
  {
   "cell_type": "code",
   "execution_count": null,
   "metadata": {},
   "outputs": [],
   "source": []
  },
  {
   "cell_type": "code",
   "execution_count": 70,
   "metadata": {},
   "outputs": [],
   "source": [
    "#                                                                                                                 NAD (m) NADP(+)(m)  NADH    NADPH(m)                                \n",
    "swap_optimization = CofactorSwapOptimization(model=model, objective_function=py, plot=False, cofactor_id_swaps=([\"s_1200\",\"s_1210\"],[\"s_1205\",\"s_1214\"]))"
   ]
  },
  {
   "cell_type": "code",
   "execution_count": 85,
   "metadata": {},
   "outputs": [
    {
     "name": "stdout",
     "output_type": "stream",
     "text": [
      "Starting optimization at Wed, 15 Nov 2023 16:05:41\n"
     ]
    },
    {
     "data": {
      "application/vnd.jupyter.widget-view+json": {
       "model_id": "5e865c69646c46f3a5d44dd448388210",
       "version_major": 2,
       "version_minor": 0
      },
      "text/plain": [
       "HBox()"
      ]
     },
     "metadata": {},
     "output_type": "display_data"
    },
    {
     "name": "stdout",
     "output_type": "stream",
     "text": [
      "Finished after 00:00:00\n",
      "CPU times: total: 15.6 ms\n",
      "Wall time: 49.1 ms\n"
     ]
    }
   ],
   "source": [
    "%%time\n",
    "result = swap_optimization.run(max_size=3.9999999)"
   ]
  },
  {
   "cell_type": "code",
   "execution_count": 86,
   "metadata": {},
   "outputs": [
    {
     "data": {
      "text/html": [
       "\n",
       "        <h4>Result:</h4>\n",
       "        <ul>\n",
       "            <li>model: yeastGEM_v8__46__7__46__1</li>\n",
       "            <li>heuristic: GA</li>\n",
       "            <li>objective function: $$yield = \\frac{r\\_1180}{r\\_0180}$$</li>\n",
       "            <li>simulation method: pfba</li>\n",
       "            <li>target type: cofactor-swap</li>\n",
       "        <ul>\n",
       "        <div>\n",
       "<style scoped>\n",
       "    .dataframe tbody tr th:only-of-type {\n",
       "        vertical-align: middle;\n",
       "    }\n",
       "\n",
       "    .dataframe tbody tr th {\n",
       "        vertical-align: top;\n",
       "    }\n",
       "\n",
       "    .dataframe thead th {\n",
       "        text-align: right;\n",
       "    }\n",
       "</style>\n",
       "<table border=\"1\" class=\"dataframe\">\n",
       "  <thead>\n",
       "    <tr style=\"text-align: right;\">\n",
       "      <th></th>\n",
       "      <th>index</th>\n",
       "      <th>targets</th>\n",
       "      <th>fitness</th>\n",
       "    </tr>\n",
       "  </thead>\n",
       "  <tbody>\n",
       "  </tbody>\n",
       "</table>\n",
       "</div>"
      ],
      "text/plain": [
       "<cameo.strain_design.heuristic.evolutionary.optimization.TargetOptimizationResult at 0x23e89662750>"
      ]
     },
     "execution_count": 86,
     "metadata": {},
     "output_type": "execute_result"
    }
   ],
   "source": [
    "solution"
   ]
  },
  {
   "cell_type": "code",
   "execution_count": null,
   "metadata": {},
   "outputs": [],
   "source": []
  }
 ],
 "metadata": {
  "kernelspec": {
   "display_name": "base",
   "language": "python",
   "name": "python3"
  },
  "language_info": {
   "codemirror_mode": {
    "name": "ipython",
    "version": 3
   },
   "file_extension": ".py",
   "mimetype": "text/x-python",
   "name": "python",
   "nbconvert_exporter": "python",
   "pygments_lexer": "ipython3",
   "version": "3.11.4"
  }
 },
 "nbformat": 4,
 "nbformat_minor": 2
}
