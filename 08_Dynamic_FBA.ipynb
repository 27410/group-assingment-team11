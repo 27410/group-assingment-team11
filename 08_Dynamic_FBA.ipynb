{
 "cells": [
  {
   "cell_type": "code",
   "execution_count": 2,
   "metadata": {},
   "outputs": [
    {
     "ename": "ModuleNotFoundError",
     "evalue": "No module named 'dfba'",
     "output_type": "error",
     "traceback": [
      "\u001b[1;31m---------------------------------------------------------------------------\u001b[0m",
      "\u001b[1;31mModuleNotFoundError\u001b[0m                       Traceback (most recent call last)",
      "\u001b[1;32mc:\\Users\\pauli\\OneDrive\\Dokumenty\\DTU\\Cell factories\\group-assingment-team11\\08_Dynamic_FBA.ipynb Cell 1\u001b[0m line \u001b[0;36m7\n\u001b[0;32m      <a href='vscode-notebook-cell:/c%3A/Users/pauli/OneDrive/Dokumenty/DTU/Cell%20factories/group-assingment-team11/08_Dynamic_FBA.ipynb#W0sZmlsZQ%3D%3D?line=4'>5</a>\u001b[0m \u001b[39mfrom\u001b[39;00m \u001b[39mos\u001b[39;00m\u001b[39m.\u001b[39;00m\u001b[39mpath\u001b[39;00m \u001b[39mimport\u001b[39;00m dirname, join, pardir\n\u001b[0;32m      <a href='vscode-notebook-cell:/c%3A/Users/pauli/OneDrive/Dokumenty/DTU/Cell%20factories/group-assingment-team11/08_Dynamic_FBA.ipynb#W0sZmlsZQ%3D%3D?line=5'>6</a>\u001b[0m \u001b[39mfrom\u001b[39;00m \u001b[39mcobra\u001b[39;00m\u001b[39m.\u001b[39;00m\u001b[39mio\u001b[39;00m \u001b[39mimport\u001b[39;00m read_sbml_model\n\u001b[1;32m----> <a href='vscode-notebook-cell:/c%3A/Users/pauli/OneDrive/Dokumenty/DTU/Cell%20factories/group-assingment-team11/08_Dynamic_FBA.ipynb#W0sZmlsZQ%3D%3D?line=6'>7</a>\u001b[0m \u001b[39mfrom\u001b[39;00m \u001b[39mdfba\u001b[39;00m \u001b[39mimport\u001b[39;00m DfbaModel, ExchangeFlux, KineticVariable\n",
      "\u001b[1;31mModuleNotFoundError\u001b[0m: No module named 'dfba'"
     ]
    }
   ],
   "source": [
    "from IPython.display import display\n",
    "import re\n",
    "from cameo import models\n",
    "from cameo.strain_design import pathway_prediction\n",
    "from os.path import dirname, join, pardir\n",
    "from cobra.io import read_sbml_model\n",
    "from dfba import DfbaModel, ExchangeFlux, KineticVariable"
   ]
  },
  {
   "cell_type": "code",
   "execution_count": 2,
   "metadata": {},
   "outputs": [
    {
     "ename": "NameError",
     "evalue": "name 'docker' is not defined",
     "output_type": "error",
     "traceback": [
      "\u001b[1;31m---------------------------------------------------------------------------\u001b[0m",
      "\u001b[1;31mNameError\u001b[0m                                 Traceback (most recent call last)",
      "\u001b[1;32mc:\\Users\\pauli\\OneDrive\\Dokumenty\\DTU\\Cell factories\\group-assingment-team11\\08_Dynamic_FBA.ipynb Cell 2\u001b[0m line \u001b[0;36m1\n\u001b[1;32m----> <a href='vscode-notebook-cell:/c%3A/Users/pauli/OneDrive/Dokumenty/DTU/Cell%20factories/group-assingment-team11/08_Dynamic_FBA.ipynb#X23sZmlsZQ%3D%3D?line=0'>1</a>\u001b[0m docker\n",
      "\u001b[1;31mNameError\u001b[0m: name 'docker' is not defined"
     ]
    }
   ],
   "source": [
    "docker\n",
    "\n"
   ]
  },
  {
   "cell_type": "code",
   "execution_count": 1,
   "metadata": {},
   "outputs": [
    {
     "ename": "SyntaxError",
     "evalue": "invalid syntax (1901972628.py, line 1)",
     "output_type": "error",
     "traceback": [
      "\u001b[1;36m  Cell \u001b[1;32mIn[1], line 1\u001b[1;36m\u001b[0m\n\u001b[1;33m    docker run --rm -it davidtourigny/dfba:latest\u001b[0m\n\u001b[1;37m           ^\u001b[0m\n\u001b[1;31mSyntaxError\u001b[0m\u001b[1;31m:\u001b[0m invalid syntax\n"
     ]
    }
   ],
   "source": [
    "docker run --rm -it davidtourigny/dfba:latest"
   ]
  },
  {
   "cell_type": "code",
   "execution_count": 8,
   "metadata": {},
   "outputs": [
    {
     "name": "stdout",
     "output_type": "stream",
     "text": [
      "Collecting dfba\n",
      "  Using cached dfba-0.1.8.tar.gz (63 kB)\n",
      "  Installing build dependencies: started\n",
      "  Installing build dependencies: finished with status 'done'\n",
      "  Getting requirements to build wheel: started\n",
      "  Getting requirements to build wheel: finished with status 'done'\n",
      "  Preparing metadata (pyproject.toml): started\n",
      "  Preparing metadata (pyproject.toml): finished with status 'done'\n",
      "Requirement already satisfied: cobra in c:\\users\\pauli\\anaconda3\\lib\\site-packages (from dfba) (0.29.0)\n",
      "Requirement already satisfied: depinfo in c:\\users\\pauli\\anaconda3\\lib\\site-packages (from dfba) (2.2.0)\n",
      "Requirement already satisfied: optlang in c:\\users\\pauli\\anaconda3\\lib\\site-packages (from dfba) (1.8.1)\n",
      "Collecting symengine (from dfba)\n",
      "  Using cached symengine-0.10.0-cp311-cp311-win_amd64.whl (15.6 MB)\n",
      "Requirement already satisfied: sympy in c:\\users\\pauli\\anaconda3\\lib\\site-packages (from dfba) (1.12)\n",
      "Requirement already satisfied: pandas in c:\\users\\pauli\\anaconda3\\lib\\site-packages (from dfba) (1.5.3)\n",
      "Requirement already satisfied: appdirs~=1.4 in c:\\users\\pauli\\anaconda3\\lib\\site-packages (from cobra->dfba) (1.4.4)\n",
      "Requirement already satisfied: diskcache~=5.0 in c:\\users\\pauli\\anaconda3\\lib\\site-packages (from cobra->dfba) (5.6.3)\n",
      "Requirement already satisfied: future in c:\\users\\pauli\\anaconda3\\lib\\site-packages (from cobra->dfba) (0.18.3)\n",
      "Requirement already satisfied: httpx~=0.24 in c:\\users\\pauli\\anaconda3\\lib\\site-packages (from cobra->dfba) (0.25.0)\n",
      "Requirement already satisfied: importlib-resources in c:\\users\\pauli\\anaconda3\\lib\\site-packages (from cobra->dfba) (6.0.1)\n",
      "Requirement already satisfied: numpy>=1.13 in c:\\users\\pauli\\anaconda3\\lib\\site-packages (from cobra->dfba) (1.26.2)\n",
      "Requirement already satisfied: pydantic>=1.6 in c:\\users\\pauli\\anaconda3\\lib\\site-packages (from cobra->dfba) (1.10.13)\n",
      "Requirement already satisfied: python-libsbml~=5.19 in c:\\users\\pauli\\anaconda3\\lib\\site-packages (from cobra->dfba) (5.20.1)\n",
      "Requirement already satisfied: rich>=8.0 in c:\\users\\pauli\\anaconda3\\lib\\site-packages (from cobra->dfba) (13.5.3)\n",
      "Requirement already satisfied: ruamel.yaml~=0.16 in c:\\users\\pauli\\anaconda3\\lib\\site-packages (from cobra->dfba) (0.17.21)\n",
      "Requirement already satisfied: swiglpk in c:\\users\\pauli\\anaconda3\\lib\\site-packages (from cobra->dfba) (5.0.8)\n",
      "Requirement already satisfied: six>=1.9 in c:\\users\\pauli\\anaconda3\\lib\\site-packages (from optlang->dfba) (1.16.0)\n",
      "Requirement already satisfied: python-dateutil>=2.8.1 in c:\\users\\pauli\\anaconda3\\lib\\site-packages (from pandas->dfba) (2.8.2)\n",
      "Requirement already satisfied: pytz>=2020.1 in c:\\users\\pauli\\anaconda3\\lib\\site-packages (from pandas->dfba) (2022.7)\n",
      "Requirement already satisfied: mpmath>=0.19 in c:\\users\\pauli\\anaconda3\\lib\\site-packages (from sympy->dfba) (1.3.0)\n",
      "Requirement already satisfied: certifi in c:\\users\\pauli\\anaconda3\\lib\\site-packages (from httpx~=0.24->cobra->dfba) (2023.7.22)\n",
      "Requirement already satisfied: httpcore<0.19.0,>=0.18.0 in c:\\users\\pauli\\anaconda3\\lib\\site-packages (from httpx~=0.24->cobra->dfba) (0.18.0)\n",
      "Requirement already satisfied: idna in c:\\users\\pauli\\anaconda3\\lib\\site-packages (from httpx~=0.24->cobra->dfba) (3.4)\n",
      "Requirement already satisfied: sniffio in c:\\users\\pauli\\anaconda3\\lib\\site-packages (from httpx~=0.24->cobra->dfba) (1.2.0)\n",
      "Requirement already satisfied: typing-extensions>=4.2.0 in c:\\users\\pauli\\anaconda3\\lib\\site-packages (from pydantic>=1.6->cobra->dfba) (4.7.1)\n",
      "Requirement already satisfied: markdown-it-py>=2.2.0 in c:\\users\\pauli\\anaconda3\\lib\\site-packages (from rich>=8.0->cobra->dfba) (2.2.0)\n",
      "Requirement already satisfied: pygments<3.0.0,>=2.13.0 in c:\\users\\pauli\\anaconda3\\lib\\site-packages (from rich>=8.0->cobra->dfba) (2.15.1)\n",
      "Requirement already satisfied: anyio<5.0,>=3.0 in c:\\users\\pauli\\anaconda3\\lib\\site-packages (from httpcore<0.19.0,>=0.18.0->httpx~=0.24->cobra->dfba) (3.5.0)\n",
      "Requirement already satisfied: h11<0.15,>=0.13 in c:\\users\\pauli\\anaconda3\\lib\\site-packages (from httpcore<0.19.0,>=0.18.0->httpx~=0.24->cobra->dfba) (0.14.0)\n",
      "Requirement already satisfied: mdurl~=0.1 in c:\\users\\pauli\\anaconda3\\lib\\site-packages (from markdown-it-py>=2.2.0->rich>=8.0->cobra->dfba) (0.1.0)\n",
      "Building wheels for collected packages: dfba\n",
      "  Building wheel for dfba (pyproject.toml): started\n",
      "  Building wheel for dfba (pyproject.toml): finished with status 'error'\n",
      "Failed to build dfba\n",
      "Note: you may need to restart the kernel to use updated packages.\n"
     ]
    },
    {
     "name": "stderr",
     "output_type": "stream",
     "text": [
      "  error: subprocess-exited-with-error\n",
      "  \n",
      "  × Building wheel for dfba (pyproject.toml) did not run successfully.\n",
      "  │ exit code: 1\n",
      "  ╰─> [40 lines of output]\n",
      "      C:\\Users\\pauli\\AppData\\Local\\Temp\\pip-build-env-ikr1nwzv\\overlay\\Lib\\site-packages\\setuptools\\config\\setupcfg.py:293: _DeprecatedConfig: Deprecated config in `setup.cfg`\n",
      "      !!\n",
      "      \n",
      "              ********************************************************************************\n",
      "              The license_file parameter is deprecated, use license_files instead.\n",
      "      \n",
      "              This deprecation is overdue, please update your project and remove deprecated\n",
      "              calls to avoid build errors in the future.\n",
      "      \n",
      "              See https://setuptools.pypa.io/en/latest/userguide/declarative_config.html for details.\n",
      "              ********************************************************************************\n",
      "      \n",
      "      !!\n",
      "        parsed = self.parsers.get(option_name, lambda x: x)(value)\n",
      "      running bdist_wheel\n",
      "      running build\n",
      "      running build_py\n",
      "      creating build\n",
      "      creating build\\lib.win-amd64-cpython-311\n",
      "      creating build\\lib.win-amd64-cpython-311\\dfba\n",
      "      copying src\\dfba\\control.py -> build\\lib.win-amd64-cpython-311\\dfba\n",
      "      copying src\\dfba\\exchange.py -> build\\lib.win-amd64-cpython-311\\dfba\n",
      "      copying src\\dfba\\helpers.py -> build\\lib.win-amd64-cpython-311\\dfba\n",
      "      copying src\\dfba\\jit.py -> build\\lib.win-amd64-cpython-311\\dfba\n",
      "      copying src\\dfba\\library.py -> build\\lib.win-amd64-cpython-311\\dfba\n",
      "      copying src\\dfba\\model.py -> build\\lib.win-amd64-cpython-311\\dfba\n",
      "      copying src\\dfba\\types.py -> build\\lib.win-amd64-cpython-311\\dfba\n",
      "      copying src\\dfba\\variable.py -> build\\lib.win-amd64-cpython-311\\dfba\n",
      "      copying src\\dfba\\_version.py -> build\\lib.win-amd64-cpython-311\\dfba\n",
      "      copying src\\dfba\\__init__.py -> build\\lib.win-amd64-cpython-311\\dfba\n",
      "      creating build\\lib.win-amd64-cpython-311\\dfba\\plot\n",
      "      copying src\\dfba\\plot\\matplotlib.py -> build\\lib.win-amd64-cpython-311\\dfba\\plot\n",
      "      copying src\\dfba\\plot\\plotly.py -> build\\lib.win-amd64-cpython-311\\dfba\\plot\n",
      "      copying src\\dfba\\plot\\__init__.py -> build\\lib.win-amd64-cpython-311\\dfba\\plot\n",
      "      UPDATING build\\lib.win-amd64-cpython-311\\dfba/_version.py\n",
      "      set build\\lib.win-amd64-cpython-311\\dfba/_version.py to '0.1.8'\n",
      "      running build_ext\n",
      "      *******************************************************************************\n",
      "      cmake C:\\Users\\pauli\\AppData\\Local\\Temp\\pip-install-yvvyx4td\\dfba_3614f9d9a7da4aa88c352ce54dc8c882 -DCMAKE_LIBRARY_OUTPUT_DIRECTORY=C:\\Users\\pauli\\AppData\\Local\\Temp\\pip-install-yvvyx4td\\dfba_3614f9d9a7da4aa88c352ce54dc8c882\\build\\lib.win-amd64-cpython-311\\dfba -DCMAKE_BUILD_TYPE=Release\n",
      "      error: command 'cmake' failed: None\n",
      "      [end of output]\n",
      "  \n",
      "  note: This error originates from a subprocess, and is likely not a problem with pip.\n",
      "  ERROR: Failed building wheel for dfba\n",
      "ERROR: Could not build wheels for dfba, which is required to install pyproject.toml-based projects\n"
     ]
    }
   ],
   "source": [
    "pip install dfba"
   ]
  },
  {
   "cell_type": "code",
   "execution_count": null,
   "metadata": {},
   "outputs": [],
   "source": [
    "model = read_sbml_model(\"yeast8.xml\")"
   ]
  },
  {
   "cell_type": "code",
   "execution_count": null,
   "metadata": {},
   "outputs": [],
   "source": [
    "biomass_objective = model.optimize().objective_value\n",
    "model.reactions.GROWTH.lower_bound = biomass_objective*0.5 #set the minimum biomass to be 50% of the flux\n",
    "print(\"Biomass bounds now are:\", model.reactions.GROWTH.bounds)"
   ]
  },
  {
   "cell_type": "code",
   "execution_count": null,
   "metadata": {},
   "outputs": [],
   "source": [
    "model.objective = model.reactions.r_1180\n",
    "model.optimize()"
   ]
  }
 ],
 "metadata": {
  "kernelspec": {
   "display_name": "base",
   "language": "python",
   "name": "python3"
  },
  "language_info": {
   "codemirror_mode": {
    "name": "ipython",
    "version": 3
   },
   "file_extension": ".py",
   "mimetype": "text/x-python",
   "name": "python",
   "nbconvert_exporter": "python",
   "pygments_lexer": "ipython3",
   "version": "3.11.4"
  }
 },
 "nbformat": 4,
 "nbformat_minor": 2
}
