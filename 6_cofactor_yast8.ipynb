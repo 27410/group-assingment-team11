{
 "cells": [
  {
   "cell_type": "markdown",
   "metadata": {},
   "source": [
    "# Co-factor swap targets"
   ]
  },
  {
   "cell_type": "markdown",
   "metadata": {},
   "source": [
    "The co-factor balance is important for the fitness of the microorganisms, but in order to optimize the flux of heterologous pathways, it can be neccessary to swap co-factors in certain reactions. The \"CofactorSwapOptimization\" algorithm is a variant of Optswap, which swaps cofactors in reactions and sees what effect on the fitness function it has. In this case we define the fitness function as lycopene yield on glucose for swapping FAD with NADP, since that is the co-factor in our heterologous pathway."
   ]
  },
  {
   "cell_type": "code",
   "execution_count": 2,
   "metadata": {},
   "outputs": [
    {
     "ename": "SyntaxError",
     "evalue": "(unicode error) 'unicodeescape' codec can't decode bytes in position 2-3: truncated \\UXXXXXXXX escape (3366528614.py, line 4)",
     "output_type": "error",
     "traceback": [
      "\u001b[1;36m  Cell \u001b[1;32mIn[2], line 4\u001b[1;36m\u001b[0m\n\u001b[1;33m    model = read_sbml_model('C:\\Users\\pauli\\OneDrive\\Dokumenty\\DTU\\Cell factories\\group-assingment-team11\\Models/yeast8.xml')\u001b[0m\n\u001b[1;37m                                                                                                                            ^\u001b[0m\n\u001b[1;31mSyntaxError\u001b[0m\u001b[1;31m:\u001b[0m (unicode error) 'unicodeescape' codec can't decode bytes in position 2-3: truncated \\UXXXXXXXX escape\n"
     ]
    }
   ],
   "source": [
    "from cameo.strain_design.heuristic.evolutionary.objective_functions import product_yield\n",
    "from cameo.strain_design.heuristic.evolutionary_based import CofactorSwapOptimization\n",
    "from cobra.io import read_sbml_model\n",
    "model = read_sbml_model('C:\\Users\\pauli\\OneDrive\\Dokumenty\\DTU\\Cell factories\\group-assingment-team11\\Models/yeast8.xml')"
   ]
  },
  {
   "cell_type": "markdown",
   "metadata": {},
   "source": [
    "Here we define the co-factor swap algorithm and the parameters in the way described above."
   ]
  },
  {
   "cell_type": "code",
   "execution_count": 2,
   "metadata": {},
   "outputs": [
    {
     "name": "stdout",
     "output_type": "stream",
     "text": [
      "Starting optimization at Fri, 19 Nov 2021 12:15:35\n"
     ]
    },
    {
     "data": {
      "text/html": [
       "\n",
       "\n",
       "\n",
       "\n",
       "\n",
       "\n",
       "  <div class=\"bk-root\" id=\"f2c7c0c0-2ff0-4d6f-bdae-7c6217271514\" data-root-id=\"1001\"></div>\n"
      ]
     },
     "metadata": {},
     "output_type": "display_data"
    },
    {
     "data": {
      "application/javascript": "(function(root) {\n  function embed_document(root) {\n    \n  var docs_json = {\"8c2dcd04-e390-43ca-9a24-f073bf0a0fd9\":{\"roots\":{\"references\":[{\"attributes\":{\"below\":[{\"id\":\"1012\"}],\"center\":[{\"id\":\"1015\"},{\"id\":\"1019\"}],\"left\":[{\"id\":\"1016\"}],\"plot_height\":400,\"plot_width\":650,\"renderers\":[{\"id\":\"1025\"}],\"title\":{\"id\":\"1002\"},\"toolbar\":{\"id\":\"1020\"},\"x_range\":{\"id\":\"1004\"},\"x_scale\":{\"id\":\"1008\"},\"y_range\":{\"id\":\"1006\"},\"y_scale\":{\"id\":\"1010\"}},\"id\":\"1001\",\"subtype\":\"Figure\",\"type\":\"Plot\"},{\"attributes\":{\"data\":{\"x\":[],\"y\":[]},\"selected\":{\"id\":\"1032\"},\"selection_policy\":{\"id\":\"1033\"}},\"id\":\"1021\",\"type\":\"ColumnDataSource\"},{\"attributes\":{\"fill_color\":{\"value\":\"#1f77b4\"},\"line_color\":{\"value\":\"#1f77b4\"},\"x\":{\"field\":\"x\"},\"y\":{\"field\":\"y\"}},\"id\":\"1023\",\"type\":\"Circle\"},{\"attributes\":{},\"id\":\"1010\",\"type\":\"LinearScale\"},{\"attributes\":{},\"id\":\"1028\",\"type\":\"BasicTickFormatter\"},{\"attributes\":{\"axis\":{\"id\":\"1016\"},\"dimension\":1,\"ticker\":null},\"id\":\"1019\",\"type\":\"Grid\"},{\"attributes\":{},\"id\":\"1030\",\"type\":\"BasicTickFormatter\"},{\"attributes\":{\"axis_label\":\"Iteration\",\"formatter\":{\"id\":\"1028\"},\"ticker\":{\"id\":\"1013\"}},\"id\":\"1012\",\"type\":\"LinearAxis\"},{\"attributes\":{},\"id\":\"1006\",\"type\":\"DataRange1d\"},{\"attributes\":{},\"id\":\"1008\",\"type\":\"LinearScale\"},{\"attributes\":{\"data_source\":{\"id\":\"1021\"},\"glyph\":{\"id\":\"1023\"},\"hover_glyph\":null,\"muted_glyph\":null,\"nonselection_glyph\":{\"id\":\"1024\"},\"selection_glyph\":null,\"view\":{\"id\":\"1026\"}},\"id\":\"1025\",\"type\":\"GlyphRenderer\"},{\"attributes\":{\"source\":{\"id\":\"1021\"}},\"id\":\"1026\",\"type\":\"CDSView\"},{\"attributes\":{\"active_drag\":\"auto\",\"active_inspect\":\"auto\",\"active_multi\":null,\"active_scroll\":\"auto\",\"active_tap\":\"auto\"},\"id\":\"1020\",\"type\":\"Toolbar\"},{\"attributes\":{},\"id\":\"1017\",\"type\":\"BasicTicker\"},{\"attributes\":{\"axis_label\":\"Fitness\",\"formatter\":{\"id\":\"1030\"},\"ticker\":{\"id\":\"1017\"}},\"id\":\"1016\",\"type\":\"LinearAxis\"},{\"attributes\":{},\"id\":\"1004\",\"type\":\"DataRange1d\"},{\"attributes\":{\"axis\":{\"id\":\"1012\"},\"ticker\":null},\"id\":\"1015\",\"type\":\"Grid\"},{\"attributes\":{\"text\":\"Fitness plot\"},\"id\":\"1002\",\"type\":\"Title\"},{\"attributes\":{\"fill_alpha\":{\"value\":0.1},\"fill_color\":{\"value\":\"#1f77b4\"},\"line_alpha\":{\"value\":0.1},\"line_color\":{\"value\":\"#1f77b4\"},\"x\":{\"field\":\"x\"},\"y\":{\"field\":\"y\"}},\"id\":\"1024\",\"type\":\"Circle\"},{\"attributes\":{},\"id\":\"1032\",\"type\":\"Selection\"},{\"attributes\":{},\"id\":\"1033\",\"type\":\"UnionRenderers\"},{\"attributes\":{},\"id\":\"1013\",\"type\":\"BasicTicker\"}],\"root_ids\":[\"1001\"]},\"title\":\"Bokeh Application\",\"version\":\"2.2.1\"}};\n  var render_items = [{\"docid\":\"8c2dcd04-e390-43ca-9a24-f073bf0a0fd9\",\"notebook_comms_target\":\"1034\",\"root_ids\":[\"1001\"],\"roots\":{\"1001\":\"f2c7c0c0-2ff0-4d6f-bdae-7c6217271514\"}}];\n  root.Bokeh.embed.embed_items_notebook(docs_json, render_items);\n\n  }\n  if (root.Bokeh !== undefined) {\n    embed_document(root);\n  } else {\n    var attempts = 0;\n    var timer = setInterval(function(root) {\n      if (root.Bokeh !== undefined) {\n        clearInterval(timer);\n        embed_document(root);\n      } else {\n        attempts++;\n        if (attempts > 100) {\n          clearInterval(timer);\n          console.log(\"Bokeh: ERROR: Unable to run BokehJS code because BokehJS library is missing\");\n        }\n      }\n    }, 10, root)\n  }\n})(window);",
      "application/vnd.bokehjs_exec.v0+json": ""
     },
     "metadata": {
      "application/vnd.bokehjs_exec.v0+json": {
       "id": "1001"
      }
     },
     "output_type": "display_data"
    },
    {
     "name": "stderr",
     "output_type": "stream",
     "text": [
      "BokehUserWarning: ColumnDataSource's columns must be of the same length. Current lengths: ('x', 1), ('y', 0)\n"
     ]
    },
    {
     "data": {
      "application/vnd.jupyter.widget-view+json": {
       "model_id": "8e8d7149e8ec4eb0bc1839ac64c2da19",
       "version_major": 2,
       "version_minor": 0
      },
      "text/plain": [
       "HBox()"
      ]
     },
     "metadata": {},
     "output_type": "display_data"
    },
    {
     "name": "stdout",
     "output_type": "stream",
     "text": [
      "Finished after 00:02:58\n"
     ]
    }
   ],
   "source": [
    "Fluxes=model.optimize()\n",
    "model.objective = model.reactions.CrtI\n",
    "py = product_yield(model.reactions.CrtI, model.reactions.r_1714)\n",
    "swap_optimization = CofactorSwapOptimization(model=model, cofactor_id_swaps=([\"FAD_c\",\"FADH2_c\"],[\"NADP_c\",\"NADPH_c\"]),objective_function=py)\n",
    "solution=swap_optimization.run(max_size=10)"
   ]
  },
  {
   "cell_type": "markdown",
   "metadata": {},
   "source": [
    "Below we can see the results of the cofactor swap. It recommends 11 potential swaps that can increase the yield:"
   ]
  },
  {
   "cell_type": "code",
   "execution_count": 3,
   "metadata": {},
   "outputs": [
    {
     "data": {
      "text/html": [
       "\n",
       "        <h4>Result:</h4>\n",
       "        <ul>\n",
       "            <li>model: M_yeastGEM_v8__46__5__46__0</li>\n",
       "            <li>heuristic: GA</li>\n",
       "            <li>objective function: $$yield = \\frac{CrtI}{r\\_1714}$$</li>\n",
       "            <li>simulation method: pfba</li>\n",
       "            <li>target type: cofactor-swap</li>\n",
       "        <ul>\n",
       "        <div>\n",
       "<style scoped>\n",
       "    .dataframe tbody tr th:only-of-type {\n",
       "        vertical-align: middle;\n",
       "    }\n",
       "\n",
       "    .dataframe tbody tr th {\n",
       "        vertical-align: top;\n",
       "    }\n",
       "\n",
       "    .dataframe thead th {\n",
       "        text-align: right;\n",
       "    }\n",
       "</style>\n",
       "<table border=\"1\" class=\"dataframe\">\n",
       "  <thead>\n",
       "    <tr style=\"text-align: right;\">\n",
       "      <th></th>\n",
       "      <th>index</th>\n",
       "      <th>targets</th>\n",
       "      <th>fitness</th>\n",
       "    </tr>\n",
       "  </thead>\n",
       "  <tbody>\n",
       "    <tr>\n",
       "      <th>0</th>\n",
       "      <td>0</td>\n",
       "      <td>(r_0659,)</td>\n",
       "      <td>1.240740</td>\n",
       "    </tr>\n",
       "    <tr>\n",
       "      <th>1</th>\n",
       "      <td>1</td>\n",
       "      <td>(r_0455, r_0547)</td>\n",
       "      <td>1.240740</td>\n",
       "    </tr>\n",
       "    <tr>\n",
       "      <th>2</th>\n",
       "      <td>5</td>\n",
       "      <td>(r_1027, r_0455)</td>\n",
       "      <td>1.182349</td>\n",
       "    </tr>\n",
       "    <tr>\n",
       "      <th>3</th>\n",
       "      <td>6</td>\n",
       "      <td>(r_2140, r_0455)</td>\n",
       "      <td>1.129629</td>\n",
       "    </tr>\n",
       "    <tr>\n",
       "      <th>4</th>\n",
       "      <td>8</td>\n",
       "      <td>(r_0455, r_0481)</td>\n",
       "      <td>1.027389</td>\n",
       "    </tr>\n",
       "    <tr>\n",
       "      <th>5</th>\n",
       "      <td>9</td>\n",
       "      <td>(r_0471,)</td>\n",
       "      <td>0.981427</td>\n",
       "    </tr>\n",
       "    <tr>\n",
       "      <th>6</th>\n",
       "      <td>10</td>\n",
       "      <td>(r_0219,)</td>\n",
       "      <td>0.981427</td>\n",
       "    </tr>\n",
       "    <tr>\n",
       "      <th>7</th>\n",
       "      <td>17</td>\n",
       "      <td>(r_4292,)</td>\n",
       "      <td>0.975810</td>\n",
       "    </tr>\n",
       "    <tr>\n",
       "      <th>8</th>\n",
       "      <td>19</td>\n",
       "      <td>(r_0547,)</td>\n",
       "      <td>0.975810</td>\n",
       "    </tr>\n",
       "    <tr>\n",
       "      <th>9</th>\n",
       "      <td>20</td>\n",
       "      <td>(r_0732,)</td>\n",
       "      <td>0.975810</td>\n",
       "    </tr>\n",
       "    <tr>\n",
       "      <th>10</th>\n",
       "      <td>30</td>\n",
       "      <td>(r_0442,)</td>\n",
       "      <td>0.975810</td>\n",
       "    </tr>\n",
       "  </tbody>\n",
       "</table>\n",
       "</div>"
      ],
      "text/plain": [
       "<cameo.strain_design.heuristic.evolutionary.optimization.TargetOptimizationResult at 0x7ffa9251b760>"
      ]
     },
     "execution_count": 3,
     "metadata": {},
     "output_type": "execute_result"
    }
   ],
   "source": [
    "solution"
   ]
  },
  {
   "cell_type": "code",
   "execution_count": 5,
   "metadata": {},
   "outputs": [
    {
     "data": {
      "text/plain": [
       "0            (r_0659,)\n",
       "1     (r_0455, r_0547)\n",
       "2     (r_1027, r_0455)\n",
       "3     (r_2140, r_0455)\n",
       "4     (r_0455, r_0481)\n",
       "5            (r_0471,)\n",
       "6            (r_0219,)\n",
       "7            (r_4292,)\n",
       "8            (r_0547,)\n",
       "9            (r_0732,)\n",
       "10           (r_0442,)\n",
       "Name: targets, dtype: object"
      ]
     },
     "execution_count": 5,
     "metadata": {},
     "output_type": "execute_result"
    }
   ],
   "source": [
    "reactions=solution.data_frame.targets\n",
    "reactions"
   ]
  },
  {
   "cell_type": "markdown",
   "metadata": {},
   "source": [
    "Below we can see the reactions recommended in more detail:"
   ]
  },
  {
   "cell_type": "code",
   "execution_count": 7,
   "metadata": {
    "scrolled": true
   },
   "outputs": [
    {
     "name": "stdout",
     "output_type": "stream",
     "text": [
      "Reactions:\n",
      "isocitrate [cytoplasm] + NADP(+) [cytoplasm] ==> 2-oxoglutarate [cytoplasm] + carbon dioxide [cytoplasm] + NADPH [cytoplasm]\n",
      "\n",
      "Reactions:\n",
      "fumarate [cytoplasm] + FADH2 [cytoplasm] ==> H+ [cytoplasm] + succinate [cytoplasm] + FAD [cytoplasm]\n",
      "\n",
      "H+ [cytoplasm] + L-aspartate 4-semialdehyde [cytoplasm] + NADPH [cytoplasm] ==> L-homoserine [cytoplasm] + NADP(+) [cytoplasm]\n",
      "\n",
      "Reactions:\n",
      "H+ [cytoplasm] + sulphite [cytoplasm] + NADPH [cytoplasm] ==> H2O [cytoplasm] + hydrogen sulfide [cytoplasm] + NADP(+) [cytoplasm]\n",
      "\n",
      "fumarate [cytoplasm] + FADH2 [cytoplasm] ==> H+ [cytoplasm] + succinate [cytoplasm] + FAD [cytoplasm]\n",
      "\n",
      "Reactions:\n",
      "acetyl-CoA [cytoplasm] + H+ [cytoplasm] + malonyl-CoA [cytoplasm] + NADPH [cytoplasm] ==> carbon dioxide [cytoplasm] + coenzyme A [cytoplasm] + H2O [cytoplasm] + palmitoyl-CoA [cytoplasm] + NADP(+) [cytoplasm]\n",
      "\n",
      "fumarate [cytoplasm] + FADH2 [cytoplasm] ==> H+ [cytoplasm] + succinate [cytoplasm] + FAD [cytoplasm]\n",
      "\n",
      "Reactions:\n",
      "fumarate [cytoplasm] + FADH2 [cytoplasm] ==> H+ [cytoplasm] + succinate [cytoplasm] + FAD [cytoplasm]\n",
      "\n",
      "glutathione disulfide [cytoplasm] + H+ [cytoplasm] + NADPH [cytoplasm] ==> glutathione [cytoplasm] + NADP(+) [cytoplasm]\n",
      "\n",
      "Reactions:\n",
      "2-oxoglutarate [cytoplasm] + ammonium [cytoplasm] + H+ [cytoplasm] + NADPH [cytoplasm] ==> H2O [cytoplasm] + L-glutamate [cytoplasm] + NADP(+) [cytoplasm]\n",
      "\n",
      "Reactions:\n",
      "4-phospho-L-aspartate [cytoplasm] + H+ [cytoplasm] + NADPH [cytoplasm] ==> L-aspartate 4-semialdehyde [cytoplasm] + phosphate [cytoplasm] + NADP(+) [cytoplasm]\n",
      "\n",
      "Reactions:\n",
      "4-aminobutanal [cytoplasm] + H2O [cytoplasm] + NADP(+) [cytoplasm] ==> gamma-aminobutyrate [cytoplasm] + H+ [cytoplasm] + NADPH [cytoplasm]\n",
      "\n",
      "Reactions:\n",
      "H+ [cytoplasm] + L-aspartate 4-semialdehyde [cytoplasm] + NADPH [cytoplasm] ==> L-homoserine [cytoplasm] + NADP(+) [cytoplasm]\n",
      "\n",
      "Reactions:\n",
      "5,10-methylenetetrahydrofolate [cytoplasm] + NADP(+) [cytoplasm] ==> 5,10-methenyl-THF [cytoplasm] + NADPH [cytoplasm]\n",
      "\n",
      "Reactions:\n",
      "FMN [cytoplasm] + H+ [cytoplasm] + NADPH [cytoplasm] ==> FMNH2 [cytoplasm] + NADP(+) [cytoplasm]\n",
      "\n"
     ]
    }
   ],
   "source": [
    "for t in reactions:\n",
    "    print(\"Reactions:\")\n",
    "    for id in t:\n",
    "        r=model.reactions.get_by_id(id)\n",
    "        #print(r.name, id+\",\",\"Fitness:\", solution.data_frame.fitness[id][10])\n",
    "        s=\"\"\n",
    "        for rea in range(len(r.reactants)):\n",
    "            if rea==len(r.reactants)-1:\n",
    "                s+=r.reactants[rea].name+\" ==> \"\n",
    "            else:\n",
    "                s+=r.reactants[rea].name+\" + \"\n",
    "        for p in range(len(r.products)):\n",
    "            if p==len(r.products)-1:\n",
    "                s+=r.products[p].name\n",
    "            else:\n",
    "                s+=r.products[p].name+\" + \"\n",
    "        print(s)\n",
    "        print()"
   ]
  },
  {
   "cell_type": "markdown",
   "metadata": {},
   "source": [
    "If the co-factors are swapped in the reactions listed above, it could lead to an increase in the lycopene yield. Since the lycopene pathway used 4 FAD, we expect that co-factors can have a substantial effect on the yield. The fitness can be observed to go above 1, which would indicate that more than 1 lycopene can be created from 1 glucose molecule, however, this is impossible."
   ]
  }
 ],
 "metadata": {
  "kernelspec": {
   "display_name": "Python 3",
   "language": "python",
   "name": "python3"
  },
  "language_info": {
   "codemirror_mode": {
    "name": "ipython",
    "version": 3
   },
   "file_extension": ".py",
   "mimetype": "text/x-python",
   "name": "python",
   "nbconvert_exporter": "python",
   "pygments_lexer": "ipython3",
   "version": "3.11.4"
  }
 },
 "nbformat": 4,
 "nbformat_minor": 4
}
