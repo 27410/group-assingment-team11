{
 "cells": [
  {
   "cell_type": "code",
   "execution_count": 1,
   "metadata": {},
   "outputs": [],
   "source": [
    "from cobra.io import read_sbml_model\n",
    "model=read_sbml_model('Models/yeast8.xml')"
   ]
  },
  {
   "cell_type": "code",
   "execution_count": 2,
   "metadata": {},
   "outputs": [
    {
     "name": "stdout",
     "output_type": "stream",
     "text": [
      "r_1654: s_0420 <=>  | ammonium exchange | conc. = 1000.0\n",
      "r_1714: s_0565 <=>  | D-glucose exchange | conc. = 1.0\n",
      "r_1832: s_0796 <=>  | H+ exchange | conc. = 1000.0\n",
      "r_1861: s_0925 <=>  | iron(2+) exchange | conc. = 1000.0\n",
      "r_1992: s_1277 <=>  | oxygen exchange | conc. = 1000.0\n",
      "r_2005: s_1324 <=>  | phosphate exchange | conc. = 1000.0\n",
      "r_2020: s_1374 <=>  | potassium exchange | conc. = 1000.0\n",
      "r_2049: s_1438 <=>  | sodium exchange | conc. = 1000.0\n",
      "r_2060: s_1468 <=>  | sulphate exchange | conc. = 1000.0\n",
      "r_2100: s_0805 <=>  | water exchange | conc. = 1000.0\n",
      "r_4593: s_4200 <=>  | chloride exchange | conc. = 1000.0\n",
      "r_4594: s_4201 <=>  | Cu2(+) exchange | conc. = 1000.0\n",
      "r_4595: s_4202 <=>  | Mn(2+) exchange | conc. = 1000.0\n",
      "r_4596: s_4203 <=>  | Zn(2+) exchange | conc. = 1000.0\n",
      "r_4597: s_4204 <=>  | Mg(2+) exchange | conc. = 1000.0\n",
      "r_4600: s_4199 <=>  | Ca(2+) exchange | conc. = 1000.0\n"
     ]
    }
   ],
   "source": [
    "for m in model.medium.items():\n",
    "    print(model.reactions.get_by_id(m[0]), \"|\", model.reactions.get_by_id(m[0]).name, \"| conc. =\", m[1])"
   ]
  },
  {
   "cell_type": "code",
   "execution_count": 3,
   "metadata": {},
   "outputs": [
    {
     "name": "stdout",
     "output_type": "stream",
     "text": [
      "Maximum growth: 0.082 /h\n",
      "Maximum progesterone productivity: 0.0 mmol/gDW*h\n",
      "Maximum progesterone yield: 0.0 mmol progesterone/mmol glucose\n"
     ]
    }
   ],
   "source": [
    "# Maximum growth and progesterone productivity/yield:\n",
    "with model:\n",
    "    baseline_max_growth = model.optimize().objective_value\n",
    "    model.objective = model.reactions.r_1093\n",
    "    baseline_max_production = model.optimize().objective_value\n",
    "    glucose_flux = model.reactions.r_1714.flux\n",
    "    baseline_max_yield = baseline_max_production/(-1 * glucose_flux)\n",
    "print(f\"Maximum growth: {round(baseline_max_growth,3)} /h\")\n",
    "print(f\"Maximum progesterone productivity: {round(baseline_max_production,3)} mmol/gDW*h\")\n",
    "print(f\"Maximum progesterone yield: {round(baseline_max_yield,3)} mmol progesterone/mmol glucose\")"
   ]
  },
  {
   "cell_type": "code",
   "execution_count": 4,
   "metadata": {},
   "outputs": [
    {
     "name": "stdout",
     "output_type": "stream",
     "text": [
      "Glucose uptake: 1.0 mmol/gDW*h\n",
      "Maximum growth: 0.082 /h\n",
      "Maximum xylitol productivity: 0.0 mmol/gDW*h\n",
      "Maximum xyilitol yield: nan mmol xylitol/mmol glucose\n"
     ]
    },
    {
     "name": "stderr",
     "output_type": "stream",
     "text": [
      "C:\\Users\\pauli\\AppData\\Local\\Temp\\ipykernel_41052\\3379447133.py:12: RuntimeWarning: invalid value encountered in scalar divide\n",
      "  max_yield = xylitol_production/(-1 * glucose_flux)\n"
     ]
    }
   ],
   "source": [
    "# Production for a dual model objective of BIOMASS and progesterone:\n",
    "with model: \n",
    "    medium = model.medium\n",
    "    model.medium=medium\n",
    "    Glucose_exchange = model.reactions.get_by_id('r_1714') \n",
    "\n",
    "    model.objective = {model.reactions.get_by_id('r_2111'): baseline_max_production, \n",
    "                    model.reactions.get_by_id('r_1093'): baseline_max_growth} # objective is to maximise the production of progesterone while also growing as much as possible\n",
    "    solution = model.optimize()\n",
    "    xylitol_production = solution.fluxes['r_1093']\n",
    "    glucose_flux = model.reactions.r_1718.flux\n",
    "    max_yield = xylitol_production/(-1 * glucose_flux)\n",
    "    print('Glucose uptake:',format(medium[Glucose_exchange.id]), 'mmol/gDW*h')\n",
    "    print('Maximum growth:', round(solution.fluxes['r_2111'],3), '/h')\n",
    "    print('Maximum xylitol productivity:', round(xylitol_production,3), 'mmol/gDW*h') # calculate productivity\n",
    "    print('Maximum xyilitol yield:', round(max_yield,3), 'mmol xylitol/mmol glucose') # calculate yield on galactose"
   ]
  },
  {
   "cell_type": "code",
   "execution_count": 5,
   "metadata": {},
   "outputs": [
    {
     "name": "stdout",
     "output_type": "stream",
     "text": [
      "Medium with glucose (before): {'r_1654': 1000.0, 'r_1714': 1.0, 'r_1832': 1000.0, 'r_1861': 1000.0, 'r_1992': 1000.0, 'r_2005': 1000.0, 'r_2020': 1000.0, 'r_2049': 1000.0, 'r_2060': 1000.0, 'r_2100': 1000.0, 'r_4593': 1000.0, 'r_4594': 1000.0, 'r_4595': 1000.0, 'r_4596': 1000.0, 'r_4597': 1000.0, 'r_4600': 1000.0}\n",
      "\n",
      "Medium with galactose (after): {'r_1654': 1000.0, 'r_1718': 1.0, 'r_1832': 1000.0, 'r_1861': 1000.0, 'r_1992': 1000.0, 'r_2005': 1000.0, 'r_2020': 1000.0, 'r_2049': 1000.0, 'r_2060': 1000.0, 'r_2100': 1000.0, 'r_4593': 1000.0, 'r_4594': 1000.0, 'r_4595': 1000.0, 'r_4596': 1000.0, 'r_4597': 1000.0, 'r_4600': 1000.0}\n",
      "\n",
      "When objective is set to only progesterone production:\n",
      "Galactose uptake: 1.0 mmol/gDW*h\n",
      "Maximum growth: 0.03 /h\n",
      "Maximum progesterone productivity on galactose: 1.0 mmol/gDW*h\n",
      "Maximum progesterone yield on galactose: 1.0 mmol progesterone/mmol galactose\n",
      "\n",
      "When objective is set at both growth and progesterone production:\n",
      "Medium before: {'r_1654': 1000.0, 'r_1714': 1.0, 'r_1832': 1000.0, 'r_1861': 1000.0, 'r_1992': 1000.0, 'r_2005': 1000.0, 'r_2020': 1000.0, 'r_2049': 1000.0, 'r_2060': 1000.0, 'r_2100': 1000.0, 'r_4593': 1000.0, 'r_4594': 1000.0, 'r_4595': 1000.0, 'r_4596': 1000.0, 'r_4597': 1000.0, 'r_4600': 1000.0}\n",
      "\n",
      "Galactose uptake: 1.0 mmol/gDW*h\n",
      "Maximum growth: 0.02 /h\n",
      "Maximum progesterone productivity on galactose: 1.0 mmol/gDW*h\n",
      "Maximum progesterone yield on galactose: 1.0 mmol progesterone/mmol galactose\n"
     ]
    }
   ],
   "source": [
    "# Growth and progesterone yield/productivity on galactose:\n",
    "with model: #galactose\n",
    "    Glucose_exchange = model.reactions.get_by_id('r_1714') #define glucose reaction\n",
    "    Galactose_exchange = model.reactions.get_by_id('r_1718') #define galactose reaction\n",
    "    print('Medium with glucose (before):', model.medium)\n",
    "    print('')\n",
    "    medium=model.medium\n",
    "    medium[Glucose_exchange.id] = 0 # Set glucose to zero\n",
    "    medium[Galactose_exchange.id] = 1.0 # add galactose to medium\n",
    "    model.medium = medium\n",
    "    print('Medium with galactose (after):',model.medium)\n",
    "    print() \n",
    "    print('When objective is set to only progesterone production:')\n",
    "    model.objective = model.reactions.r_1093 # Objective is to lead flux through the reaction producing progesterone to maximise progesterone production \n",
    "    solution1 = model.optimize()\n",
    "    solution = model.optimize().objective_value\n",
    "    progesterone_production = solution\n",
    "    galactose_flux = model.reactions.r_1718.flux\n",
    "    max_yield_gal = progesterone_production/(-1 * galactose_flux)\n",
    "    print('Galactose uptake:',format(medium[Galactose_exchange.id]),'mmol/gDW*h')\n",
    "    print('Maximum growth:', round(solution1.fluxes['r_2111'],3), '/h')\n",
    "    print('Maximum progesterone productivity on galactose:', round(progesterone_production,3), 'mmol/gDW*h') # calculate productivity\n",
    "    print('Maximum progesterone yield on galactose:', round(max_yield_gal,3), 'mmol progesterone/mmol galactose') # calculate yield on galactose\n",
    "\n",
    "with model: #galactose\n",
    "    print()\n",
    "    print('When objective is set at both growth and progesterone production:')\n",
    "    Glucose_exchange = model.reactions.get_by_id('r_1714') #define glucose reaction\n",
    "    Galactose_exchange = model.reactions.get_by_id('r_1718') #define galactose reaction\n",
    "    medium = model.medium\n",
    "    print('Medium before:', model.medium)\n",
    "    print('')\n",
    "    medium[Glucose_exchange.id] = 0 # Set glucose to zero\n",
    "    medium[Galactose_exchange.id] = 1.0 # add galactose to medium\n",
    "    model.medium = medium\n",
    "    #print('Medium after:',model.medium)\n",
    "    #print('') \n",
    "    model.objective = {model.reactions.get_by_id('r_2111'): baseline_max_production, \n",
    "                    model.reactions.get_by_id('r_1093'): baseline_max_growth} # objective is to maximise the production of progesterone while also growing as much as possible\n",
    "    solution = model.optimize()\n",
    "    progesterone_production = solution.fluxes['r_1093']\n",
    "    galactose_flux = model.reactions.r_1718.flux\n",
    "    max_yield_gal = progesterone_production/(-1 * galactose_flux)\n",
    "    print('Galactose uptake:',format(medium[Galactose_exchange.id]),'mmol/gDW*h')\n",
    "    print('Maximum growth:', round(solution.fluxes['r_2111'],3), '/h')\n",
    "    print('Maximum progesterone productivity on galactose:', round(progesterone_production,3), 'mmol/gDW*h') # calculate productivity\n",
    "    print('Maximum progesterone yield on galactose:', round(max_yield_gal,3), 'mmol progesterone/mmol galactose') # calculate yield on galactose"
   ]
  },
  {
   "cell_type": "code",
   "execution_count": null,
   "metadata": {},
   "outputs": [],
   "source": []
  },
  {
   "cell_type": "code",
   "execution_count": null,
   "metadata": {},
   "outputs": [],
   "source": []
  }
 ],
 "metadata": {
  "kernelspec": {
   "display_name": "base",
   "language": "python",
   "name": "python3"
  },
  "language_info": {
   "codemirror_mode": {
    "name": "ipython",
    "version": 3
   },
   "file_extension": ".py",
   "mimetype": "text/x-python",
   "name": "python",
   "nbconvert_exporter": "python",
   "pygments_lexer": "ipython3",
   "version": "3.11.4"
  }
 },
 "nbformat": 4,
 "nbformat_minor": 2
}
