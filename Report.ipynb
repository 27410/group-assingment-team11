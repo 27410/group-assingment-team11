{
 "cells": [
  {
   "cell_type": "markdown",
   "metadata": {},
   "source": [
    "# Biosynthesis of Xylitol by Saccharomyces cerevisiae "
   ]
  },
  {
   "cell_type": "markdown",
   "metadata": {},
   "source": [
    "## 1. Introduction"
   ]
  },
  {
   "cell_type": "code",
   "execution_count": null,
   "metadata": {},
   "outputs": [],
   "source": []
  },
  {
   "cell_type": "markdown",
   "metadata": {},
   "source": []
  },
  {
   "cell_type": "markdown",
   "metadata": {},
   "source": [
    "### 1.1 Literature review of the compound (<500 words)\n",
    "\n",
    "#### Applications of the product\n",
    "\n",
    "Categorized as a sugar alcohol, that stimulates the taste receptors for sweetness on a tongue. However, it contains 40% fewer calories than normal sugar. \n",
    "\n",
    "Xylitol was globally researched and approved as a natural sweetener U.S. Food and Drug Administration (FDA). 1 \n",
    "\n",
    "Xylitol know also as E967 is a food sweetener used in sweets like chewing gums, toffees, soft candies, jellies, chocolates and chewing tablets. It replaces the use of sucrose in soft drinks, milk, breads, preserved fruit, biscuits, yogurts, and jams to extend the shelf life of the product, and provide a sweet taste. \n",
    "\n",
    "According to the studies xylitol prevents demineralization of teeth and bones, otitis media infection, respiratory tract infections, inflammation and cancer progression. Due to its metabolism there is an insignificant effect on blood glucose and plasma insulin levels that allows to use it for diabetics patients. Moreover, xylitol has also been used as a drug carrier due to its high permeability and non-toxic nature. Diverse application in Food industry, Pharmaceutical and health care products makes xylitol is one of the top 12 bio-products with increasing market demand. That can be satisfy with developing of large-scale biotransformation production.\n",
    "\n",
    "#### Evaluation of market potential\n",
    "\n",
    "As xylitol is used in industries like cosmetics and toiletries, pharmaceuticals and oral healthcare, nowadays its use is increasing. This is because a higher demand for natural sweeteners as substitutes for sugar, they are needed for people who can’t take it like diabetic or obese people. \n",
    "\n",
    "Xylitol market is currently growing, and the compound annual growth rate expected for this market between 2023 and 2030 is of 5.7%. The higher market share is in the USA followed by Asia and Europe, because of the growing awareness about products with sugar, and xylitol offers more health benefits.\n",
    "\n",
    "However there are some restrictions that restricts the market growth, the most important ones are that this compound is toxic for dogs and that raw materials prices can fluctuate, compromising xylitol production.\n",
    "\n",
    "Some of the most important companies producing xylitol are Roquette Frères, NovaGreen and Cargill."
   ]
  },
  {
   "cell_type": "markdown",
   "metadata": {},
   "source": [
    "### 1.2 Literature review of the cell factory (<500 words)"
   ]
  },
  {
   "cell_type": "markdown",
   "metadata": {},
   "source": [
    "For thousands of years, the yeast Saccharomyces cerevisiae (S. cerevisiae) has served as a cell factory for the production of bread, beer, and wine. In more recent years, this yeast has also served as a cell factory for producing many different fuels, chemicals, food ingredients, and pharmaceuticals. (https://pubmed.ncbi.nlm.nih.gov/30925027/)\n",
    "\n",
    "Xylitol is a sugar alcohol that can be produced in Saccharomyces cerevisiae through a metabolic pathway known as the pentose phosphate pathway (PPP). The conversion of xylose, a five-carbon sugar commonly found in plant biomass, into xylitol in yeast involves several enzymatic steps. Here is an overview of the metabolic pathway to produce xylitol in S. cerevisiae:\n",
    "\n",
    "Xylose Uptake: The first step in xylitol production is the uptake of xylose from the surrounding environment into the yeast cell. S. cerevisiae can naturally transport xylose into the cell through specific transporters.\n",
    "\n",
    "Xylose Isomerization: Once inside the cell, xylose is converted into xylulose by the enzyme xylose isomerase. This reaction is necessary because the subsequent steps of the pathway involve xylulose rather than xylose.\n",
    "\n",
    "Xylulose Conversion: Xylulose is then phosphorylated by xylulose kinase, resulting in xylulose-5-phosphate.\n",
    "\n",
    "Xylulose-5-Phosphate Reduction: Xylulose-5-phosphate is reduced to xylitol by the enzyme xylitol dehydrogenase (XDH). This reduction step consumes NADH, which is oxidized to NAD+.\n",
    "\n",
    "The overall chemical reaction for the production of xylitol in Saccharomyces cerevisiae is as follows:\n",
    "\n",
    "Xylulose-5-phosphate + NADH → Xylitol + NAD+\n",
    "\n",
    "Xylitol is the desired product, and it can be accumulated within the yeast cells. This pathway allows S. cerevisiae to convert xylose into xylitol, which can be used for various applications, including as a sugar substitute and in the production of sugar-free food products.\n",
    "\n",
    "It's worth noting that while S. cerevisiae can naturally metabolize xylose, its efficiency in converting xylose into xylitol is often limited. Bioengineering techniques are frequently employed to improve the efficiency of this pathway, including the introduction of genes from other organisms or the optimization of native yeast genes involved in xylose metabolism and xylitol production.\n"
   ]
  },
  {
   "cell_type": "markdown",
   "metadata": {},
   "source": [
    "## 2. Problem definition (<300 words)"
   ]
  },
  {
   "cell_type": "markdown",
   "metadata": {},
   "source": [
    "## 3. *If Project category I:* Reconstruction of a new GSM for your cell factory host of interest (<1500 words)"
   ]
  },
  {
   "cell_type": "markdown",
   "metadata": {},
   "source": [
    "## 3. *If Project category II:* Selection and assessment of existing GSM (<500 words)"
   ]
  },
  {
   "cell_type": "markdown",
   "metadata": {},
   "source": [
    "Systematic analysis of Saccharomyces cerevisiae metabolic functions and pathways has been the subject of extensive studies and established in many aspects. With the reconstruction of the yeast genome-scale metabolic (GSM) network and in silico simulation of the GSM model, the nature of the underlying cellular processes can be tested and validated with the increasing metabolic knowledge."
   ]
  },
  {
   "cell_type": "markdown",
   "metadata": {},
   "source": []
  },
  {
   "cell_type": "markdown",
   "metadata": {},
   "source": [
    "## 4. Computer-Aided Cell Factory Engineering (<1500 words if Category II project; <500 words for Category I project)"
   ]
  },
  {
   "cell_type": "markdown",
   "metadata": {},
   "source": [
    "## 5. Discussion (<500 words)"
   ]
  },
  {
   "cell_type": "markdown",
   "metadata": {},
   "source": [
    "## 6. Conclusion (<200 words)"
   ]
  },
  {
   "cell_type": "markdown",
   "metadata": {},
   "source": [
    "## References"
   ]
  },
  {
   "cell_type": "code",
   "execution_count": null,
   "metadata": {},
   "outputs": [],
   "source": []
  }
 ],
 "metadata": {
  "kernelspec": {
   "display_name": "base",
   "language": "python",
   "name": "python3"
  },
  "language_info": {
   "codemirror_mode": {
    "name": "ipython",
    "version": 3
   },
   "file_extension": ".py",
   "mimetype": "text/x-python",
   "name": "python",
   "nbconvert_exporter": "python",
   "pygments_lexer": "ipython3",
   "version": "3.11.4"
  }
 },
 "nbformat": 4,
 "nbformat_minor": 4
}
