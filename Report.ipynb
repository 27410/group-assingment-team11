{
 "cells": [
  {
   "cell_type": "markdown",
   "metadata": {},
   "source": [
    "# Biosynthesis of Isoamyl Acetate by Saccharomyces cerevisiae "
   ]
  },
  {
   "cell_type": "markdown",
   "metadata": {},
   "source": [
    "## 1. Introduction"
   ]
  },
  {
   "cell_type": "markdown",
   "metadata": {},
   "source": [
    "### 1.1 Literature review of the compound (<500 words)\n",
    "\n",
    "### Overview of the product\n",
    "\n",
    "Esters are amongst the most important flavour compounds in alcoholic beverages (Lopes et al., 2017). They are formed as byproducts in the reaction of esterification of alcohols with acetyl coenzyme A (see Figure 1) (Yoshimoto and Bogaki, 2023). One of the principal esters produced during alcohol fermentation is isoamyl acetate which gives a banana-like flavour (Furukawa, 2012). Isoamyl acetate is produced from a reaction between amyl alcohol and acetyl coenzyme A catalyzed by the enzyme isoamyl alcohol acetyl transferase (Yoshimoto and Bogaki, 2023). \n",
    "\n",
    "\n",
    "<p align=\"center\">\n",
    "  <img src=\"Pictures/iso_ace_pathway.jpg\" alt=\"Pathway\">\n",
    "  <br>\n",
    "  <em>Figure 1. Isoamyl acetate synthesis pathway in Saccharomyces cerevisiae (Sánchez-Castañeda et al., 2018) (Yoshimoto and Bogaki, 2023) </em>\n",
    "</p>\n",
    "\n",
    "\n",
    "#### Applications of the product\n",
    "\n",
    "Isoamyl acetate is a flavoring and fragrance additive in various products because of its fruity banana flavor and aroma (Lopes et al., 2017). It is used as an additive to food like different candies which try to emulate the sweet taste of bananas. It is added to several alcoholic beverages as a way to add complexity to wines (Lopes et al., 2017). Even the pharmaceutical industry uses isoamyl acetate as an additive to make chewing tablets more attractive and easier for children to eat. Another application of isoamyl acetate include cosmetics and personal care industry as an odor additive to products like perfume and body creams (Torres, et al., 2010).\n",
    "\n",
    "#### Market potential \n",
    "\n",
    "From market observations done in the period between 2018 and 2023, the CAGR of isoamyl acetate was estimated to be above 3%. This means there's a growing and healthy global demand for this compound in multiple industries. The main growing market for this compound has been the Asian-Pacific market where personal care interest has skyrocketed in the last few years. The Asian-Pacific market's global share has been estimated to be 45% of all isoamyl acetate traded. The main countries with growing industries needing isoamyl acetate are China, Japan, India, and South Korea. \n",
    "\n",
    "A future market can also be estimated to exist in countries like Vietnam. This is because of its growing population and cheap labor which is, for some, a more enticing alternative to China. This pivot of production and labor away from China is because of recent hostilities with China and the risks totalitarian regimes like China can have to business.\n"
   ]
  },
  {
   "cell_type": "markdown",
   "metadata": {},
   "source": [
    "### 1.2 Literature review of the cell factory (<500 words)"
   ]
  },
  {
   "cell_type": "markdown",
   "metadata": {},
   "source": [
    "Microbial biosynthesis of isoamyl acetate is celebrated for its sustainability, utilizing cell factories capable of converting various substrates, such as agro-industrial by-products, into high-value products. The precision of enzymatic reactions in organisms like Saccharomyces cerevisiae results in fewer side products and greater product purity, advantageous for flavor manufacturing(Zhang et al. 2022). Fermentation, typically conducted under mild conditions, is energy-efficient and has a lesser environmental footprint than conventional chemical processes (Jegannathan and Nielsen 2013).\n",
    "\n",
    "However, the route to biological production is fraught with obstacles. The intricacies of enhancing metabolic pathways for improved yields can be both resource-intensive and complex. Maintaining the genetic stability of engineered strains during large-scale fermentation poses additional challenges, as does the downstream separation and purification of the product from fermentation media.\n",
    "\n",
    "Saccharomyces cerevisiae is a preferred host for isoamyl acetate biosynthesis, leveraging its natural ester-producing capabilities showcased in alcoholic fermentation processes. Genetic optimization of this yeast can improve precursor conversion efficiency, drawing from its established industrial utility and vast body of research (Singh et al. 2008).\n",
    "\n",
    "Alternative microbial factories, such as E. coli and Kluyveromyces lactis, offer distinct traits. E. coli's rapid growth and genetic malleability are advantageous, though it lacks inherent pathways for ester synthesis (Vadali et al. 2004). K. lactis is noted for its metabolic uniqueness and usage in dairy fermentation, providing alternative avenues for production ((Furukawa, 2012). The preferred status of S. cerevisiae is attributed to its esterification proficiency, GRAS status, and robustness, which eclipse other alternatives in terms of efficiency, cost, and safety.\n",
    "\n",
    "As the field of cell factory design advances, the selection of production organisms remains pivotal. The dominance of S. cerevisiae is underscored by its inherent capabilities and proven track record in industrial applications. Ongoing developments in metabolic engineering and synthetic biology are poised to further refine these bioprocesses, reinforcing the potential of microbial production pathways over traditional synthetic methods (Varman et al. 2011)."
   ]
  },
  {
   "cell_type": "markdown",
   "metadata": {},
   "source": [
    "## 2. Problem definition (<300 words)\n",
    "\n",
    "## ADD REFERENCES\n",
    "\n",
    "Product-related issues include low production rates, which limit industrial scalability and economic feasibility. Additionally, the concentrations of isoamyl acetate achieved in fermentation broths are often suboptimal, necessitating costly downstream processing to reach commercially viable levels. Another concern is the low yield of isoamyl acetate relative to the glucose consumed, which reflects inefficiencies in the metabolic pathway of S. cerevisiae.\n",
    "\n",
    "Host cell-related problems present additional complications. Slow growth rates of S. cerevisiae can delay production timelines, impacting throughput. The toxicity of isoamyl acetate at higher concentrations can also impair cell health, further reducing productivity. Moreover, the introduction of new substrates to enhance ester synthesis may disrupt native metabolic balance, leading to a proliferation of byproducts that could interfere with isoamyl acetate purification and quality.\n",
    "\n",
    "This project aims to address these challenges through metabolic engineering strategies to enhance the growth rate and robustness of S. cerevisiae, minimize the formation of byproducts, and increase the production rate, concentration, and yield of isoamyl acetate. By optimizing the metabolic pathways and fermentation processes, we intend to develop a more efficient, cost-effective, and scalable production method for high-quality isoamyl acetate."
   ]
  },
  {
   "cell_type": "markdown",
   "metadata": {},
   "source": [
    "## 3. *If Project category II:* Selection and assessment of existing GSM (<500 words)"
   ]
  },
  {
   "cell_type": "markdown",
   "metadata": {},
   "source": [
    "Genome-scale metabolic models (GEMs) represent extensive knowledgebases that provide a platform for model simulations and integrative analysis of omics data. Our choice of host organism, S. cerevisiae, is a very common and well-researched organism, thus multiple genome-scale metabolic models (GSMs) exist. In order to choose the most optimal GSM available, 6 potential S. cerevisiae models were obtained form BioModels iFF708, iLL672, iMM904,\tiND750,\tyeast_7.6 and yeast8. \n",
    "\n",
    "The first S. cerevisiae model to be established, iFF708, integrates 1175 reactions and 733 metabolites (Förster et al., 2003). It has been noted for accurate prediction of various cellular functions (Famili et al., 2003) and single gene deletion forecasts (Förster et al., 2003).  The subsequent model, iND750, distinguishes itself with full compartmentalization and includes 750 genes and their associated transcripts, proteins, and reactions (Duarte et al., 2004). Its validation came from extensive gene deletion studies and analysis of metabolic phenotypes  (Duarte et al., 2004), and it further incorporates regulatory elements to predict gene expression and outcomes in various transcription factor mutants (Herrgard et al., 2006).  The third model, iLL672, is an evolution of iFF708; addresses and removes several dead-end reactions found in iFF708, thereby refining the accuracy of predictions for single gene deletions (Kuepfer et al., 2005). The iMM904 metabolic network was reconstructed based on iND750 to investigate how changes in the extracellular metabolome can be used to study systemic changes in intracellular metabolic states (Mo et al., 2009). It has shown consistency in the predicted intracellular flux changes with published measurements on intracellular metabolite levels and fluxes (Mo et al., 2009). Furthermore, model 7.6 incorporates more reactions, genes and metabolites than the previous model, iMM904. The last model developed was yeast8, which includes less metabolites and reactions than 7.6 but annotations are in general better, being this a crucial factor to decide one model or another.\n",
    "\n",
    "Using memote, it is possible to assess different quality measures of the GSMs, including stochiometry, annotation, and reaction/metabolite statistics. The chosen models were compared using memote and the results are summarised in the table below.\n",
    "\n",
    "| Measure | iFF708 |\tiND750 |\tiLL672 | iMM904 |\t yeast_7.6 |\tyeast8 |\n",
    "| ---- | ---- | - | - | - | - | - | \n",
    "| Total Metabolites | 796 | 1,061 | 671 | 1,228 |  3,370 | 2,806 |\n",
    "| Total Reactions | 1,379 | 1,266 | 1,195 | 1,577 |  4,643 | 4,131 |\n",
    "| Total Genes | 619 | 0 | 0 | 905 | 750 | 1,146 | 1,163 |\n",
    "| Stochiometric Consistency  | 0.0% | 100.0% | 0.0% | 100.0% |  0.0% | 0.0%|\n",
    "| Mass Balance  | 0.0%| 97.3%| 0.0% |0.0%|40.4%|93.8%|\n",
    "| Metabolite Connectivity  | 100.0%  | 100.0% | 100.0% |100.0% | 100.0% | 100.0% | \n",
    "| Metabolite Annotation | 0.0% | 0.0% | 0.0% | 0.0% |  100.0% | 100.0% |\n",
    "| Reaction Annotation | 0.0% | 0.0% | 0.0% | 0.0% |  100.0% | 100.0% |\n",
    "| Gene Annotation | 0.0% | 0.0% | 0.0% | 0.0% | 0.0% | 100.0% |\n",
    "| **Total score** |15%\t| 37% |\t15%\t| 31%\t| \t32%\t| 66% |\n",
    "\n",
    "The report gave a structured overview on the most important aspects of the models. Yeast 8 and yeast 7.6  clearly overperformed the other models in terms of the number of metabolites, reactions, genes and annotations. Ultimately, yeast 8 was chosen due to it's highest total score and the presence of gene annotations, as opposed to yeast 7.6."
   ]
  },
  {
   "cell_type": "markdown",
   "metadata": {},
   "source": [
    "## 4. Computer-Aided Cell Factory Engineering (<1500 words for Category II project)"
   ]
  },
  {
   "cell_type": "markdown",
   "metadata": {},
   "source": [
    "\n",
    "### 1. Theoretical yields "
   ]
  },
  {
   "cell_type": "markdown",
   "metadata": {},
   "source": [
    "The theoretical yield represents the amount of isoamyl acetate that can be obtained per amount of glucose added to the media. Theoretical yields of biomass and isoamyl acetate for s. cerevisiae in the default medium are:\n",
    "\n",
    "0.03 mmol biomass/h and 0.37 mmol isoamyl acetate/gDW*h.\n",
    "\n",
    "In order to find the most optimal medium composition for our process, growth rate needs to be considered as well as the isoamyl acetate yield - as when having more cells more product is made overall.\n",
    "\n",
    "Isoamyl acetate productivity and cell growth increases with higher glucose concentrations up till ~550mmol/L, it does not correspond to the changes in the yield - product per unit of glucose (see Figure 2). Noticeably, whereas isoamyl acetate yield stays relatively the same up till ~400mmol/L glucose, biomass yield starts decreasing already above ~100mmol\\L glucose. \n",
    "\n",
    "Additional simulation was run with leucine addition to the medium (at 100mmol/L glucose), which showed further increase in the product yield - from 0.35 to 0.36mmol isoamyl acetate/mmol glucose and growth - from 3.8\\h to 7.62\\h for 39mmol/L leucine . Addition of more leucine increases the product yield but compromises the growth.\n",
    "\n",
    "The most optimal medium composition could be chosen by the substrate-cost-to-yield analysis and the actual fermentation experiments. However, this initial simulation gives a good overview on the possible glucose and leucine ranges to be tested.\n",
    "\n",
    "<p align=\"center\">\n",
    "  <img src=\"Pictures/Media_significance.png\" alt=\"Media significance\">\n",
    "  <br>\n",
    "  <em>Figure 2. Productivities and yields of growth and isoamyl acetate production when changing glucose concentration in the media</em>\n",
    "</p>\n",
    "\n",
    "\n",
    "See in depth analysis in Notebook [03_Theoretical_yields_and_media_optimization](03_Theoretical_yields_and_media_optimization.ipynb)"
   ]
  },
  {
   "cell_type": "markdown",
   "metadata": {},
   "source": [
    "### 2. Phenotype phase plane\n",
    "\n",
    "In the phenotype phase plane 4 different graphs were constructed, two focused on oxygens effect on biomass production and product formation, while the last two illustrated the glucose's effect on these. These simulations were done to find the optimum flux for biomass and Isoamyl acetate production. \n",
    "\n",
    "<p align=\"center\">\n",
    "  <img src=\"Pictures/PPP.jpeg.jpg\" alt=\"Phenotypa phase plane\" width=\"1000\">\n",
    "  <br>\n",
    "  <em>Figure 3. FSEOF: Downregulated reactions</em>\n",
    "</p>\n",
    "\n",
    "It is logical to think that in order to achieve maximum biomass production and Isoamyl acetate formation. The cell must consume as much glucose as possible as fast as possible. But when looking at the graphs this is not to full story, when the flux of glucose increases above 579 mmol/gDW/h, the biomass production rate decreases substantially. Meanwhile, the Isoamyl acetate formation rate begins to plateau at 450 and reaches its top point at 632 mmol/gDW/h, but it slowly decreases in efficiency afterward. Therefore, it can be concluded that the glucose uptake rate should be optimized for biomass since it has a minimal effect on product formation. \n",
    "When evaluating the oxygen graphs, the same optimum flux can be observed on both graphs. This optimum is 316 mmol/gDW/h which then rapidly decreases afterwards. This rapid decrease in efficiency at high oxygen uptake rates can be because of oxidative stresses in the cell because of the high oxygen concentration compared to cell size. \n",
    "\n",
    "See in depth analysis in Notebook [04_Phenotype_phase_plane](04_Phenotype_phase_plane.ipynb)\n"
   ]
  },
  {
   "cell_type": "markdown",
   "metadata": {},
   "source": [
    "### 3. Regulation gene targets\n",
    "\n",
    "To optimize the cell factory for increased production of isoamyl acetate we performed FSEOF analysis, which stands for Flux Scanning based on Enforced Objective Flux, is a method used to identify which reactions within a metabolic network can have their fluxes adjusted to enhance the yield of a desired product.\n",
    "Among downregulated reactions were highlighted following reactions will the lowest final flux in the range from -0.524184 to -0.500763,   as more impactful.\n",
    "1. Citrate transport (r_1126, final flux: -0.524184)\n",
    "(S)-malate + citrate ==> (S)-malate + citrate\n",
    "2. 2-isopropylmalate hydratase (r_0023, final flux: -0.504071)\n",
    "2-isopropylmaleic acid + H2O ==> 2-isopropylmalate\n",
    "3. 3-isopropylmalate dehydratase (r_0060, final flux: -0.504071)\n",
    "(2R,3S)-3-isopropylmalate ==> 2-isopropylmaleic acid + H2O\n",
    "4. 2-isopropylmalate transport (r_1574, final flux: -0.504071)\n",
    "2-isopropylmalate ==> 2-isopropylmalate\n",
    "5. Isoamyl alcohol transport (r_1864, final flux: -0.500763)\n",
    "isoamylol ==> isoamylol\n",
    "\n",
    "Downregulation of these reaction affects on enhanced utilization of recursors for isoamyl acetate production. Citrate transport and 2-isopropylmalate converstions optimize accumulation of acetyl-coA and leucin, respectively, those compounds are known as important precursors. It was, indeed, shown by Vadali et. al (2004) that increase in the intracellular levels of CoA and acetyl-Coenzyme A leads to higher isoamyl acetate production. Moreover, inhibiting isoamyl alchohol transport utilization for other reactions than isoamyl acetate production results in target compound aggregation.\n",
    "\n",
    "<p align=\"center\">\n",
    "  <img src=\"Pictures/Downregulation_targets.png\" alt=\"Downregulated reactions\">\n",
    "  <br>\n",
    "  <em>Figure 4. FSEOF: Downregulated reactions</em>\n",
    "</p>\n",
    "\n",
    "Overexpression targets with the highest final flux in the range from 0.2068805 to 0.512811 can be theoretically adjusted to potentially boost the supply of essential precursors or energy needed for isoamyl acetate synthesis.\n",
    "1. malic enzyme (r_0719, final flux: 0.512811)\n",
    "(S)-malate + NADP(+) ==> carbon dioxide + NADPH + pyruvate\n",
    "2. glycine transport (r_1811, final flux: 0.316483)\n",
    "L-glycine ==> L-glycine\n",
    "3. glycerol-3-phosphate dehydrogenase (r_0491, final flux: 0.206805)\n",
    "dihydroxyacetone phosphate + H+ + NADH ==> glycerol 3-phosphate + NAD\n",
    "\n",
    "\n",
    "Improving the functionality of malic enzyme and glycerol-3-phosphate dehydrogenase might significantly increase the availability of NADPH and NAD, respectively, which are vital co-factors necessary for the production of target compounds. Additionally, glycine is a key component in the synthesis of leucine, serving as the primary precursor in the leucine pathway.\n",
    "\n",
    "<p align=\"center\">\n",
    "  <img src=\"Pictures/Overexpression_targets.png\" alt=\" Overexpression reactions\">\n",
    "  <br>\n",
    "  <em>Figure 5. FSEOF: Upregulated reactions</em>\n",
    "</p>\n",
    "\n",
    "However, choosing a target for downregulation or overexpression is not only about selecting the reaction with the highest flux change. It also depends on the metabolic pathway context, the connection of the reaction to isoamyl acetate production, and the potential metabolic burden that overexpression might cause. Additional experimental validation would be essential to confirm the benefits of downregulation or overexpressing this reaction in the context of the whole cell metabolism.\n",
    "\n",
    "See in depth analysis in Notebook [05_Gene_target_analysis](05_Gene_target_analysis.ipynb)"
   ]
  },
  {
   "cell_type": "markdown",
   "metadata": {},
   "source": [
    "### 4. Co-factor swap\n",
    "\n",
    "The analysis of the isoamyl acetate synthesis pathway revealed NAD+-depended reaction of reducing isoamyl aldehyde (3-methylbutanal) to isoamyl alcohol (isoamylol) by aldehyde dehydrogenase:\n",
    "\n",
    "r_0180: aldehyde dehydrogenase (isoamyl alcohol, NAD): s_0236(3-methyilbutanal) + s_0799 (glyoxylate)+ s_1205 (NADH) --> s_0931 (isoamylol) + s_1200 (NAD)\n",
    "\n",
    "Isoamyl alcohol created in the above reaction is then transformed into isoamyl acetate in the reaction with Acetyl-CoA. Therefore, it was hypothesised that inceasing the availability of NAD+ can contribute to an increase in isoamyl acetate production. This would be achieved by changing NAD+/NADH utilization into NADP+/NADH in the chosen reactions in the metabolic pathways.\n",
    "\n",
    "CofactorSwapOptimization by cameo was run on the model with its objective set to isoamyl acetate production. It reveled 4 NAD+/NADH-dependent reactions most suitable for co-factor swapping to benefit the model objective:\n",
    "\n",
    "1. (S)-malate + NAD <=> H+ + NADH + oxaloacetate\n",
    "2. dihydroxyacetone phosphate + H+ + NADH --> glycerol 3-phosphate + NAD\n",
    "3. acetaldehyde + H+ + NADH --> ethanol + NAD\n",
    "4. H+ + NADH + ubiquinone-6 --> NAD + ubiquinol-6\n",
    "\n",
    "Co-factor swapping in the chosen reactions was executed by deleting the reaction genes and adding the reactions with the swapped co-factors to the model. Subsequently, the biomass production and isoamyl acetate productions were assessed. The analysis revealed ~70% and ~20% increase in biomass production and isoamyl acetate yield, respectively, as seen in FigX.\n",
    "\n",
    "\n",
    "<p align=\"center\">\n",
    "  <img src=\"Pictures/co-factor_swap_results.jpeg\" alt=\"Co-factor Swap Results\">\n",
    "  <br>\n",
    "  <em>Figure 6. Co-factor swap results</em>\n",
    "</p>\n",
    "\n",
    "See in depth analysis in Notebook [06_Co-factor_swap](06_Co-factor_swap.ipynb)\n"
   ]
  },
  {
   "cell_type": "markdown",
   "metadata": {},
   "source": [
    "### 5. Dynamic flux-based analysis\n",
    "\n",
    "Dynamic flux-based analysis (DFBA) helps predict the growth and metabolic production rates over time, which is crucial for optimizing the conditions for cell growth and product formation. \n",
    "\n",
    "Since phenotype phase plane analysis has shown the highest biomass and isoamyl acetate productivity with ~200 mmol/gDW*h, the fermentation was run in the aerobic conditions.\n",
    "\n",
    "The simulation was visualized as seen in FigX. During the initial ~7.5h glucose declines sharply as it's consumed for cell growth and metabolism, dropping close to zero, coinciding with the drop of biomass production. The concentration of isoamyl acetate, on the other hand, increases steadily over time, even after the biomass reaches plateau. It makes sense, because we adjusted the lower bounds for the reaction and set the model objective to isoamyl acetate production. Ultimately, at the point of almost complete glucose depletion, the isaomyl acetate yiled reaches 0.45mmol/L. It would require more simulations to uncover how the production would proceed upon the continuous addition of the substrate, liquid echange, etc. or enriched medium. However, this initial DFBA gives a promising view on the fermentation in aerobic conditions with glucose as the sole carbon source.\n",
    "\n",
    "<p align=\"center\">\n",
    "  <img src=\"Pictures/batch_fermentation_simulation.png\" alt=\"Batch Fermentation Simulation\" width=\"600\">\n",
    "  <br>\n",
    "  <em>Figure 7. DFBA: Batch fermentation simulation results</em>\n",
    "</p>\n",
    "\n",
    "See in depth analysis in Notebook [07_Dynamic_FBA](07_Dynamic_FBA.ipynb)"
   ]
  },
  {
   "cell_type": "markdown",
   "metadata": {},
   "source": [
    "## 5. Discussion (<500 words)"
   ]
  },
  {
   "cell_type": "markdown",
   "metadata": {},
   "source": [
    "\n",
    "The experimental process, as outlined in this study, reveals some potential solutions for boosting isoamyl acetate production in s. creveisiae. This far, the biggest effect on the yield was simple medium recomposition, however, this solution might not be to most cost-effective in the long run. While higher glucose and leucine concentrations theoretically lead to increased biomass growth and product yield, practical constraints such as cost and potential inhibitory effects must be weighed. Selecting an optimal glucose and leucine concentration thus becomes a decision influenced by both biological and economic factors. On the other hand, co-factor swapping showed a ~1.2-fold increase in our compound production. In addition, gene ragulation targets suggest a few promising way to increase substrate availability towards isoamyl acetate production, and some of the proposed solutions can be related to an existing literature (Vadali et. al 2004). \n",
    "\n",
    "\n",
    "<!-- Notably, the correlation between glucose concentration and isoamyl acetate production emerges as a pivotal factor in optimizing the production process. Although, the plateau observed in isoamyl acetate yield beyond the 500 mmol/L glucose concentration indicates a metabolic limitation or substrate inhibition. It is suggested to consider an optimal glucose concentration range at 150 mmol/L, which balances cost-efficiency with maximal production yield. -->\n",
    "<!-- \n",
    "Consistency, observed in production and efficiency, is indicative of a robust and scalable process, an essential attribute for industrial applications. Nevertheless, it is important to consider the potential challenges in scaling up the process, particularly in maintaining process control and product quality. -->\n",
    "\n",
    "<!-- The Dynamic Flux-Based Analysis (DFBA) employed in this study provided valuable predictive insights into the fermentation process under aerobic conditions.  -->\n",
    "<!-- The final titer of 0.31 mmol/L for isoamyl acetate, achieved in the batch fermentation simulation, although promising, suggests room for further optimization. Enhancing the isoamyl acetate titer could involve modifying fermentation conditions, such as oxygen levels or pHcto improve the flux towards isoamyl acetate synthesis. -->\n",
    "\n",
    "<!-- Moreover, the study highlights the need for a balance between theoretical and practical considerations.  -->"
   ]
  },
  {
   "cell_type": "markdown",
   "metadata": {},
   "source": [
    "## 6. Conclusion (<200 words)"
   ]
  },
  {
   "cell_type": "markdown",
   "metadata": {},
   "source": [
    "## References"
   ]
  },
  {
   "cell_type": "markdown",
   "metadata": {},
   "source": [
    "Förster, Jochen, Iman Famili, Pengcheng Fu, Bernhard Palsson, and Jens Nielsen. “Genome-Scale Reconstruction of the Saccharomyces cerevisiae Metabolic Network”. Genome research 13 (Mar. 2003): 244–53. https://doi.org/10.1101/gr.234503.\n",
    "\n",
    "Förster, Jochen, Iman Famili, Bernhard Palsson, and Jens Nielsen. “Large-Scale Evaluation of In Silico Gene Deletions in Saccharomyces cerevisiae”. Omics : a journal of integrative biology 7 (Feb. 2003): 193–202. https://doi.org/10.1089/153623103322246584.\n",
    "\n",
    "Furukawa, S. “8 - Sake: quality characteristics, flavour chemistry and sensory analysis”. In Alcoholic Beverages, ed. by John Piggott, 180–195. Woodhead Publishing Series in Food Science, Technology and Nutrition. Woodhead Publishing, 2012. isbn: 978-0-85709-051-5. https://doi.org/https://doi.org/10.1533/9780857095176.2.180\n",
    "\n",
    "Famili, Iman, Jochen Forster, Jens Nielsen, and Bernhard Palsson. “Saccharomyces cerevisiae phenotypes can be predicted by using constraint-based analysis of a genome-scale reconstructed metabolic network”. Proceedings of the National Academy of Sciences of the United States of America 100 (Nov. 2003): 13134–9. https ://doi.org/10.1073/pnas.2235812100.\n",
    "\n",
    "Duarte, Natalie, Bernhard Palsson, and Pengcheng fu. “Integrated analysis of metabolic phenotypes in Saccha-romyces cerevisiae”. BMC genomics 5 (Oct. 2004): 63. https://doi.org/10.1186/1471-2164-5-63.\n",
    "\n",
    "Herrgård, Markus, Baek-Seok Lee, Vasiliy Portnoy, and Bernhard Palsson. “Integrated analysis of regulatory and metabolic networks reveals novel regulatory mechanisms in Saccharomyces cerevisiae”. Genome research 16 (June 2006): 627–35. https://doi.org/10.1101/gr.4083206.\n",
    "\n",
    "Mo, Monica, Bernhard Palsson, and Markus Herrgård. “Connecting extracellular metabolomic measurements to intracellular flux states in yeast”. BMC systems biology 3 (Apr. 2009): 37. https://doi.org/10.1186/1752-0509-3-37.\n",
    "\n",
    "Duarte, Natalie, Markus Herrgård, and Bernhard Palsson. “Reconstruction and Validation of Saccharomyces cerevisiae iND750, a Fully Compartmentalized Genome-Scale Metabolic Model”. Genome research 14 (Aug. 2004): 1298–309. https://doi.org/10.1101/gr.2250904.\n",
    "\n",
    "Nielsen, Per, and Jegannathan Kenthorai Raman. “Environmental assessment of enzyme use in industrial production: A literature review”. Journal of Cleaner Production (Nov. 2012). https://doi.org/10.1016/j.jclepro.2012.11.005.\n",
    "\n",
    "V, Ravi, C Horton, F Rudolph, George Bennett, and Ka-Yiu San. “Production of isoamyl acetate in ackA-pta and/or ldh mutants of Escherichia coli with overexpression of yeast ATF2”. Applied microbiology and biotechnology 63 (Mar. 2004): 698–704. https://doi.org/10.1007/s00253-003-1452-y.\n",
    "\n",
    "Vadali, Ravishankar, George Bennett, and Ka-Yiu San. “Enhanced Isoamyl Acetate Production upon Manipu-lation of the Acetyl-CoA Node in Escherichia coli”. Biotechnology progress 20 (June 2004): 692–7. https://doi.org/10.1021/bp034326y.\n",
    "\n",
    "\n",
    "Sachiko, Iizuka. “Sake: Quality characteristics, flavour chemistry and sensory analysis”, 180–195. Dec. 2012. isbn: 9780857090515. https://doi.org/10.1016/B978-0-85709-051-5.50008-0.\n",
    "\n",
    "Singh, R, P Vadlani, Mary Harrison, George Bennett, and Ka-Yiu San. “Aerobic production of isoamyl acetate by overexpression of the yeast alcohol acetyl-transferases AFT1 and AFT2 in Escherichia coli and using low-cost fermentation ingredients”. Bioprocess and biosystems engineering 31 (July 2008): 299–306. https://doi.org/10.1007/s00449-007-0159-3.\n",
    "\n",
    "Varman, Arul Mozhy, Yi Xiao, Effendi Leonard, and Yinjie Tang. “Statistics-based model for prediction of chemical biosynthesis yield from Saccharomyces cerevisiae”. Microbial cell factories 10 (June 2011): 45. https://doi.org/10.1186/1475-2859-10-45.\n",
    "\n",
    "Zhang, Qiang, Naiyong Xiao, Huiya Xu, Zhihang Tian, Bowen Li, Weiqiang Qiu, and Wenzheng Shi. “Changes of Physicochemical Characteristics and Flavor during Suanyu Fermentation with Lactiplantibacillus plantarum and Saccharomyces cerevisiae”. Foods 11 (Dec. 2022): 4085. https://doi.org/10.3390/foods11244085.*\n"
   ]
  },
  {
   "cell_type": "markdown",
   "metadata": {},
   "source": []
  }
 ],
 "metadata": {
  "kernelspec": {
   "display_name": "base",
   "language": "python",
   "name": "python3"
  },
  "language_info": {
   "codemirror_mode": {
    "name": "ipython",
    "version": 3
   },
   "file_extension": ".py",
   "mimetype": "text/x-python",
   "name": "python",
   "nbconvert_exporter": "python",
   "pygments_lexer": "ipython3",
   "version": "3.11.4"
  }
 },
 "nbformat": 4,
 "nbformat_minor": 4
}
