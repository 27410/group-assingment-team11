{
 "cells": [
  {
   "cell_type": "markdown",
   "metadata": {},
   "source": [
    "# Biosynthesis of Isoamyl Acetate by Saccharomyces cerevisiae "
   ]
  },
  {
   "cell_type": "markdown",
   "metadata": {},
   "source": [
    "Reactions regarding isoamyl acetate:\n",
    "\n",
    "r_0160(alcohol acetyltransferase (isoamyl alcohol)):  s_0373 (acetyl-CoA) + s_0929 (isoamyl alcohol) --> s_0529 (CoA) + s_0927 (isoamyl acetate)\n",
    "\n"
   ]
  },
  {
   "cell_type": "markdown",
   "metadata": {},
   "source": [
    "## 1. Introduction"
   ]
  },
  {
   "cell_type": "markdown",
   "metadata": {},
   "source": []
  },
  {
   "cell_type": "markdown",
   "metadata": {},
   "source": [
    "### 1.1 Literature review of the compound (<500 words)\n",
    "\n",
    "#### Applications of the product\n",
    "\n",
    "Categorized as a sugar alcohol, that stimulates the taste receptors for sweetness on a tongue. However, it contains 40% fewer calories than normal sugar. \n",
    "\n",
    "Xylitol was globally researched and approved as a natural sweetener U.S. Food and Drug Administration (FDA). 1 \n",
    "\n",
    "Xylitol know also as E967 is a food sweetener used in sweets like chewing gums, toffees, soft candies, jellies, chocolates and chewing tablets. It replaces the use of sucrose in soft drinks, milk, breads, preserved fruit, biscuits, yogurts, and jams to extend the shelf life of the product, and provide a sweet taste. \n",
    "\n",
    "According to the studies xylitol prevents demineralization of teeth and bones, otitis media infection, respiratory tract infections, inflammation and cancer progression. Due to its metabolism there is an insignificant effect on blood glucose and plasma insulin levels that allows to use it for diabetics patients. Moreover, xylitol has also been used as a drug carrier due to its high permeability and non-toxic nature. Diverse application in Food industry, Pharmaceutical and health care products makes xylitol is one of the top 12 bio-products with increasing market demand. That can be satisfy with developing of large-scale biotransformation production.\n",
    "\n",
    "#### Evaluation of market potential\n",
    "\n",
    "As xylitol is used in industries like cosmetics and toiletries, pharmaceuticals and oral healthcare, nowadays its use is increasing. This is because a higher demand for natural sweeteners as substitutes for sugar, they are needed for people who can’t take it like diabetic or obese people. \n",
    "\n",
    "Xylitol market is currently growing, and the compound annual growth rate expected for this market between 2023 and 2030 is of 5.7%. The higher market share is in the USA followed by Asia and Europe, because of the growing awareness about products with sugar, and xylitol offers more health benefits.\n",
    "\n",
    "However there are some restrictions that restricts the market growth, the most important ones are that this compound is toxic for dogs and that raw materials prices can fluctuate, compromising xylitol production.\n",
    "\n",
    "Some of the most important companies producing xylitol are Roquette Frères, NovaGreen and Cargill."
   ]
  },
  {
   "cell_type": "markdown",
   "metadata": {},
   "source": [
    "### 1.2 Literature review of the cell factory (<500 words)"
   ]
  },
  {
   "cell_type": "markdown",
   "metadata": {},
   "source": [
    "For thousands of years, the yeast Saccharomyces cerevisiae (S. cerevisiae) has served as a cell factory for the production of bread, beer, and wine. In more recent years, this yeast has also served as a cell factory for producing many different fuels, chemicals, food ingredients, and pharmaceuticals. (https://pubmed.ncbi.nlm.nih.gov/30925027/)\n",
    "\n",
    "Xylitol is a sugar alcohol that can be produced in Saccharomyces cerevisiae through a metabolic pathway known as the pentose phosphate pathway (PPP). The conversion of xylose, a five-carbon sugar commonly found in plant biomass, into xylitol in yeast involves several enzymatic steps. Here is an overview of the metabolic pathway to produce xylitol in S. cerevisiae:\n",
    "\n",
    "Xylose Uptake: The first step in xylitol production is the uptake of xylose from the surrounding environment into the yeast cell. S. cerevisiae can naturally transport xylose into the cell through specific transporters.\n",
    "\n",
    "Xylose Isomerization: Once inside the cell, xylose is converted into xylulose by the enzyme xylose isomerase. This reaction is necessary because the subsequent steps of the pathway involve xylulose rather than xylose.\n",
    "\n",
    "Xylulose Conversion: Xylulose is then phosphorylated by xylulose kinase, resulting in xylulose-5-phosphate.\n",
    "\n",
    "Xylulose-5-Phosphate Reduction: Xylulose-5-phosphate is reduced to xylitol by the enzyme xylitol dehydrogenase (XDH). This reduction step consumes NADH, which is oxidized to NAD+.\n",
    "\n",
    "The overall chemical reaction for the production of xylitol in Saccharomyces cerevisiae is as follows:\n",
    "\n",
    "Xylulose-5-phosphate + NADH → Xylitol + NAD+\n",
    "\n",
    "Xylitol is the desired product, and it can be accumulated within the yeast cells. This pathway allows S. cerevisiae to convert xylose into xylitol, which can be used for various applications, including as a sugar substitute and in the production of sugar-free food products.\n",
    "\n",
    "It's worth noting that while S. cerevisiae can naturally metabolize xylose, its efficiency in converting xylose into xylitol is often limited. Bioengineering techniques are frequently employed to improve the efficiency of this pathway, including the introduction of genes from other organisms or the optimization of native yeast genes involved in xylose metabolism and xylitol production.\n"
   ]
  },
  {
   "cell_type": "markdown",
   "metadata": {},
   "source": [
    "## 2. Problem definition (<300 words)"
   ]
  },
  {
   "cell_type": "markdown",
   "metadata": {},
   "source": [
    "1. Overexpression of D-xylose and D-xylulose reductase\t\n",
    "\t\t\t\t\n",
    "Overexpression of D-xylose and D-xylulose reductase leads to increased conversion of Delta-Xylose and Delta-xylulose into the desired product Xylitol. \n",
    "\n",
    "2.\tInhibition or knockout of L-ditol 2-dehydrogenase \n",
    "\n",
    "Inhibiting or knocking out the functionality of L-ditol 2-dehydrogenase leads to an accumulation of Xylitol within the Saccharomyces cerevisiae. Since Lditol 2-dehydrogenase oxidizes Xylitol into Delta-Xylulose. Therefore, this change streamlines the pathway towards the desired product. \n",
    "\n",
    "3.\tInserting or increasing Xylose and Xylitol transporters\n",
    "\n",
    "By inserting or increasing the amount of Xylitol extracellular transporters, The accumulated product can be successfully excreted into the media. This leads to a fitness increase of the cell and availability of reactant since the product-to-reactant concentration evened out. \n",
    "\n",
    "\n",
    "Delta-Xylose extracellular transporters can increase the availability of Delta-Xylose inside the cell by transporting Xylose through the extracellular membrane. This increase in substrate increases the reactant concentration which in turn increases the reactivity of the D-xylose reductase. \n",
    "\n",
    "4.\tIncreasing cofactor availability \n",
    "\n",
    "To reduce D-Xylose and D-Xylulose, energy in the form of NADP+ or NAD+ is needed. Increasing the availability of these will increase the reactivity of  reductase enzymes and in turn the conversion into Xylitol. This can be achieved by overexpressing the G6PHD and 6PGDH pathways. \n"
   ]
  },
  {
   "cell_type": "markdown",
   "metadata": {},
   "source": [
    "## 3. *If Project category I:* Reconstruction of a new GSM for your cell factory host of interest (<1500 words)"
   ]
  },
  {
   "cell_type": "markdown",
   "metadata": {},
   "source": [
    "## 3. *If Project category II:* Selection and assessment of existing GSM (<500 words)"
   ]
  },
  {
   "cell_type": "markdown",
   "metadata": {},
   "source": [
    "Systematic analysis of Saccharomyces cerevisiae metabolic functions and pathways has been the subject of extensive studies and established in many aspects. With the reconstruction of the yeast genome-scale metabolic (GSM) network and in silico simulation of the GSM model, the nature of the underlying cellular processes can be tested and validated with the increasing metabolic knowledge."
   ]
  },
  {
   "cell_type": "markdown",
   "metadata": {},
   "source": []
  },
  {
   "cell_type": "markdown",
   "metadata": {},
   "source": [
    "## 4. Computer-Aided Cell Factory Engineering (<1500 words if Category II project; <500 words for Category I project)"
   ]
  },
  {
   "cell_type": "markdown",
   "metadata": {},
   "source": [
    "## 5. Discussion (<500 words)"
   ]
  },
  {
   "cell_type": "markdown",
   "metadata": {},
   "source": [
    "## 6. Conclusion (<200 words)"
   ]
  },
  {
   "cell_type": "markdown",
   "metadata": {},
   "source": [
    "## References"
   ]
  },
  {
   "cell_type": "code",
   "execution_count": 11,
   "metadata": {},
   "outputs": [],
   "source": [
    "#!conda uninstall markupsafe\n",
    "!conda install markupsafe\n"
   ]
  },
  {
   "cell_type": "code",
   "execution_count": 1,
   "metadata": {},
   "outputs": [
    {
     "name": "stdout",
     "output_type": "stream",
     "text": [
      "Requirement already satisfied: markupsafe in c:\\users\\pablo\\anaconda\\lib\\site-packages (2.1.3)\n",
      "Note: you may need to restart the kernel to use updated packages.\n"
     ]
    }
   ],
   "source": [
    "\n",
    "pip install markupsafe\n"
   ]
  },
  {
   "cell_type": "code",
   "execution_count": 3,
   "metadata": {},
   "outputs": [
    {
     "ename": "ImportError",
     "evalue": "cannot import name 'find_gene_knockout_reactions' from 'cobra.manipulation.delete' (c:\\Users\\Pablo\\Anaconda\\Lib\\site-packages\\cobra\\manipulation\\delete.py)",
     "output_type": "error",
     "traceback": [
      "\u001b[1;31m---------------------------------------------------------------------------\u001b[0m",
      "\u001b[1;31mImportError\u001b[0m                               Traceback (most recent call last)",
      "\u001b[1;32mc:\\Users\\Pablo\\Desktop\\DTU1\\Computer\\Group work\\group-assingment-team11\\Report.ipynb Cell 19\u001b[0m line \u001b[0;36m1\n\u001b[1;32m----> <a href='vscode-notebook-cell:/c%3A/Users/Pablo/Desktop/DTU1/Computer/Group%20work/group-assingment-team11/Report.ipynb#X25sZmlsZQ%3D%3D?line=0'>1</a>\u001b[0m \u001b[39mfrom\u001b[39;00m \u001b[39mcameo\u001b[39;00m\u001b[39m.\u001b[39;00m\u001b[39mstrain_design\u001b[39;00m\u001b[39m.\u001b[39;00m\u001b[39mheuristic\u001b[39;00m\u001b[39m.\u001b[39;00m\u001b[39mevolutionary_based\u001b[39;00m \u001b[39mimport\u001b[39;00m OptGene\n\u001b[0;32m      <a href='vscode-notebook-cell:/c%3A/Users/Pablo/Desktop/DTU1/Computer/Group%20work/group-assingment-team11/Report.ipynb#X25sZmlsZQ%3D%3D?line=1'>2</a>\u001b[0m \u001b[39mfrom\u001b[39;00m \u001b[39mcobra\u001b[39;00m\u001b[39m.\u001b[39;00m\u001b[39mio\u001b[39;00m \u001b[39mimport\u001b[39;00m read_sbml_model\n",
      "File \u001b[1;32mc:\\Users\\Pablo\\Anaconda\\Lib\\site-packages\\cameo\\strain_design\\__init__.py:18\u001b[0m\n\u001b[0;32m     15\u001b[0m \u001b[39mfrom\u001b[39;00m \u001b[39m__future__\u001b[39;00m \u001b[39mimport\u001b[39;00m absolute_import\n\u001b[0;32m     17\u001b[0m \u001b[39mfrom\u001b[39;00m \u001b[39mcameo\u001b[39;00m\u001b[39m.\u001b[39;00m\u001b[39mstrain_design\u001b[39;00m\u001b[39m.\u001b[39;00m\u001b[39mdeterministic\u001b[39;00m \u001b[39mimport\u001b[39;00m OptKnock, FSEOF, DifferentialFVA\n\u001b[1;32m---> 18\u001b[0m \u001b[39mfrom\u001b[39;00m \u001b[39mcameo\u001b[39;00m\u001b[39m.\u001b[39;00m\u001b[39mstrain_design\u001b[39;00m\u001b[39m.\u001b[39;00m\u001b[39mheuristic\u001b[39;00m \u001b[39mimport\u001b[39;00m OptGene\n",
      "File \u001b[1;32mc:\\Users\\Pablo\\Anaconda\\Lib\\site-packages\\cameo\\strain_design\\heuristic\\__init__.py:17\u001b[0m\n\u001b[0;32m      1\u001b[0m \u001b[39m# Copyright 2014 Novo Nordisk Foundation Center for Biosustainability, DTU.\u001b[39;00m\n\u001b[0;32m      2\u001b[0m \u001b[39m#\u001b[39;00m\n\u001b[0;32m      3\u001b[0m \u001b[39m# Licensed under the Apache License, Version 2.0 (the \"License\");\u001b[39;00m\n\u001b[1;32m   (...)\u001b[0m\n\u001b[0;32m     12\u001b[0m \u001b[39m# See the License for the specific language governing permissions and\u001b[39;00m\n\u001b[0;32m     13\u001b[0m \u001b[39m# limitations under the License.\u001b[39;00m\n\u001b[0;32m     15\u001b[0m \u001b[39mfrom\u001b[39;00m \u001b[39m__future__\u001b[39;00m \u001b[39mimport\u001b[39;00m absolute_import\n\u001b[1;32m---> 17\u001b[0m \u001b[39mfrom\u001b[39;00m \u001b[39mcameo\u001b[39;00m\u001b[39m.\u001b[39;00m\u001b[39mstrain_design\u001b[39;00m\u001b[39m.\u001b[39;00m\u001b[39mheuristic\u001b[39;00m\u001b[39m.\u001b[39;00m\u001b[39mevolutionary_based\u001b[39;00m \u001b[39mimport\u001b[39;00m OptGene\n",
      "File \u001b[1;32mc:\\Users\\Pablo\\Anaconda\\Lib\\site-packages\\cameo\\strain_design\\heuristic\\evolutionary_based.py:38\u001b[0m\n\u001b[0;32m     34\u001b[0m \u001b[39mfrom\u001b[39;00m \u001b[39mcameo\u001b[39;00m\u001b[39m.\u001b[39;00m\u001b[39mstrain_design\u001b[39;00m\u001b[39m.\u001b[39;00m\u001b[39mheuristic\u001b[39;00m\u001b[39m.\u001b[39;00m\u001b[39mevolutionary\u001b[39;00m\u001b[39m.\u001b[39;00m\u001b[39mobjective_functions\u001b[39;00m \u001b[39mimport\u001b[39;00m biomass_product_coupled_min_yield, \\\n\u001b[0;32m     35\u001b[0m     biomass_product_coupled_yield\n\u001b[0;32m     36\u001b[0m \u001b[39mfrom\u001b[39;00m \u001b[39mcameo\u001b[39;00m\u001b[39m.\u001b[39;00m\u001b[39mstrain_design\u001b[39;00m\u001b[39m.\u001b[39;00m\u001b[39mheuristic\u001b[39;00m\u001b[39m.\u001b[39;00m\u001b[39mevolutionary\u001b[39;00m\u001b[39m.\u001b[39;00m\u001b[39moptimization\u001b[39;00m \u001b[39mimport\u001b[39;00m GeneKnockoutOptimization, \\\n\u001b[0;32m     37\u001b[0m     ReactionKnockoutOptimization, CofactorSwapOptimization, NADH_NADPH\n\u001b[1;32m---> 38\u001b[0m \u001b[39mfrom\u001b[39;00m \u001b[39mcameo\u001b[39;00m\u001b[39m.\u001b[39;00m\u001b[39mstrain_design\u001b[39;00m\u001b[39m.\u001b[39;00m\u001b[39mheuristic\u001b[39;00m\u001b[39m.\u001b[39;00m\u001b[39mevolutionary\u001b[39;00m\u001b[39m.\u001b[39;00m\u001b[39mprocessing\u001b[39;00m \u001b[39mimport\u001b[39;00m process_reaction_knockout_solution, \\\n\u001b[0;32m     39\u001b[0m     process_gene_knockout_solution, process_reaction_swap_solution\n\u001b[0;32m     40\u001b[0m \u001b[39mfrom\u001b[39;00m \u001b[39mcameo\u001b[39;00m\u001b[39m.\u001b[39;00m\u001b[39mutil\u001b[39;00m \u001b[39mimport\u001b[39;00m TimeMachine\n\u001b[0;32m     41\u001b[0m \u001b[39mfrom\u001b[39;00m \u001b[39mcameo\u001b[39;00m\u001b[39m.\u001b[39;00m\u001b[39mcore\u001b[39;00m\u001b[39m.\u001b[39;00m\u001b[39mutils\u001b[39;00m \u001b[39mimport\u001b[39;00m get_reaction_for\n",
      "File \u001b[1;32mc:\\Users\\Pablo\\Anaconda\\Lib\\site-packages\\cameo\\strain_design\\heuristic\\evolutionary\\processing.py:14\u001b[0m\n\u001b[0;32m      1\u001b[0m \u001b[39m# Copyright 2016 Novo Nordisk Foundation Center for Biosustainability, DTU.\u001b[39;00m\n\u001b[0;32m      2\u001b[0m \n\u001b[0;32m      3\u001b[0m \u001b[39m# Licensed under the Apache License, Version 2.0 (the \"License\");\u001b[39;00m\n\u001b[1;32m   (...)\u001b[0m\n\u001b[0;32m     12\u001b[0m \u001b[39m# See the License for the specific language governing permissions and\u001b[39;00m\n\u001b[0;32m     13\u001b[0m \u001b[39m# limitations under the License.\u001b[39;00m\n\u001b[1;32m---> 14\u001b[0m \u001b[39mfrom\u001b[39;00m \u001b[39mcobra\u001b[39;00m\u001b[39m.\u001b[39;00m\u001b[39mmanipulation\u001b[39;00m\u001b[39m.\u001b[39;00m\u001b[39mdelete\u001b[39;00m \u001b[39mimport\u001b[39;00m find_gene_knockout_reactions\n\u001b[0;32m     15\u001b[0m \u001b[39mfrom\u001b[39;00m \u001b[39mcameo\u001b[39;00m\u001b[39m.\u001b[39;00m\u001b[39mcore\u001b[39;00m\u001b[39m.\u001b[39;00m\u001b[39mmanipulation\u001b[39;00m \u001b[39mimport\u001b[39;00m swap_cofactors\n\u001b[0;32m     17\u001b[0m \u001b[39mfrom\u001b[39;00m \u001b[39mcameo\u001b[39;00m \u001b[39mimport\u001b[39;00m flux_variability_analysis\n",
      "\u001b[1;31mImportError\u001b[0m: cannot import name 'find_gene_knockout_reactions' from 'cobra.manipulation.delete' (c:\\Users\\Pablo\\Anaconda\\Lib\\site-packages\\cobra\\manipulation\\delete.py)"
     ]
    }
   ],
   "source": [
    "from cameo.strain_design.heuristic.evolutionary_based import OptGene\n",
    "from cobra.io import read_sbml_model"
   ]
  },
  {
   "cell_type": "code",
   "execution_count": 1,
   "metadata": {},
   "outputs": [
    {
     "data": {
      "application/javascript": "(function(root) {\n  function now() {\n    return new Date();\n  }\n\n  const force = true;\n\n  if (typeof root._bokeh_onload_callbacks === \"undefined\" || force === true) {\n    root._bokeh_onload_callbacks = [];\n    root._bokeh_is_loading = undefined;\n  }\n\nconst JS_MIME_TYPE = 'application/javascript';\n  const HTML_MIME_TYPE = 'text/html';\n  const EXEC_MIME_TYPE = 'application/vnd.bokehjs_exec.v0+json';\n  const CLASS_NAME = 'output_bokeh rendered_html';\n\n  /**\n   * Render data to the DOM node\n   */\n  function render(props, node) {\n    const script = document.createElement(\"script\");\n    node.appendChild(script);\n  }\n\n  /**\n   * Handle when an output is cleared or removed\n   */\n  function handleClearOutput(event, handle) {\n    const cell = handle.cell;\n\n    const id = cell.output_area._bokeh_element_id;\n    const server_id = cell.output_area._bokeh_server_id;\n    // Clean up Bokeh references\n    if (id != null && id in Bokeh.index) {\n      Bokeh.index[id].model.document.clear();\n      delete Bokeh.index[id];\n    }\n\n    if (server_id !== undefined) {\n      // Clean up Bokeh references\n      const cmd_clean = \"from bokeh.io.state import curstate; print(curstate().uuid_to_server['\" + server_id + \"'].get_sessions()[0].document.roots[0]._id)\";\n      cell.notebook.kernel.execute(cmd_clean, {\n        iopub: {\n          output: function(msg) {\n            const id = msg.content.text.trim();\n            if (id in Bokeh.index) {\n              Bokeh.index[id].model.document.clear();\n              delete Bokeh.index[id];\n            }\n          }\n        }\n      });\n      // Destroy server and session\n      const cmd_destroy = \"import bokeh.io.notebook as ion; ion.destroy_server('\" + server_id + \"')\";\n      cell.notebook.kernel.execute(cmd_destroy);\n    }\n  }\n\n  /**\n   * Handle when a new output is added\n   */\n  function handleAddOutput(event, handle) {\n    const output_area = handle.output_area;\n    const output = handle.output;\n\n    // limit handleAddOutput to display_data with EXEC_MIME_TYPE content only\n    if ((output.output_type != \"display_data\") || (!Object.prototype.hasOwnProperty.call(output.data, EXEC_MIME_TYPE))) {\n      return\n    }\n\n    const toinsert = output_area.element.find(\".\" + CLASS_NAME.split(' ')[0]);\n\n    if (output.metadata[EXEC_MIME_TYPE][\"id\"] !== undefined) {\n      toinsert[toinsert.length - 1].firstChild.textContent = output.data[JS_MIME_TYPE];\n      // store reference to embed id on output_area\n      output_area._bokeh_element_id = output.metadata[EXEC_MIME_TYPE][\"id\"];\n    }\n    if (output.metadata[EXEC_MIME_TYPE][\"server_id\"] !== undefined) {\n      const bk_div = document.createElement(\"div\");\n      bk_div.innerHTML = output.data[HTML_MIME_TYPE];\n      const script_attrs = bk_div.children[0].attributes;\n      for (let i = 0; i < script_attrs.length; i++) {\n        toinsert[toinsert.length - 1].firstChild.setAttribute(script_attrs[i].name, script_attrs[i].value);\n        toinsert[toinsert.length - 1].firstChild.textContent = bk_div.children[0].textContent\n      }\n      // store reference to server id on output_area\n      output_area._bokeh_server_id = output.metadata[EXEC_MIME_TYPE][\"server_id\"];\n    }\n  }\n\n  function register_renderer(events, OutputArea) {\n\n    function append_mime(data, metadata, element) {\n      // create a DOM node to render to\n      const toinsert = this.create_output_subarea(\n        metadata,\n        CLASS_NAME,\n        EXEC_MIME_TYPE\n      );\n      this.keyboard_manager.register_events(toinsert);\n      // Render to node\n      const props = {data: data, metadata: metadata[EXEC_MIME_TYPE]};\n      render(props, toinsert[toinsert.length - 1]);\n      element.append(toinsert);\n      return toinsert\n    }\n\n    /* Handle when an output is cleared or removed */\n    events.on('clear_output.CodeCell', handleClearOutput);\n    events.on('delete.Cell', handleClearOutput);\n\n    /* Handle when a new output is added */\n    events.on('output_added.OutputArea', handleAddOutput);\n\n    /**\n     * Register the mime type and append_mime function with output_area\n     */\n    OutputArea.prototype.register_mime_type(EXEC_MIME_TYPE, append_mime, {\n      /* Is output safe? */\n      safe: true,\n      /* Index of renderer in `output_area.display_order` */\n      index: 0\n    });\n  }\n\n  // register the mime type if in Jupyter Notebook environment and previously unregistered\n  if (root.Jupyter !== undefined) {\n    const events = require('base/js/events');\n    const OutputArea = require('notebook/js/outputarea').OutputArea;\n\n    if (OutputArea.prototype.mime_types().indexOf(EXEC_MIME_TYPE) == -1) {\n      register_renderer(events, OutputArea);\n    }\n  }\n  if (typeof (root._bokeh_timeout) === \"undefined\" || force === true) {\n    root._bokeh_timeout = Date.now() + 5000;\n    root._bokeh_failed_load = false;\n  }\n\n  const NB_LOAD_WARNING = {'data': {'text/html':\n     \"<div style='background-color: #fdd'>\\n\"+\n     \"<p>\\n\"+\n     \"BokehJS does not appear to have successfully loaded. If loading BokehJS from CDN, this \\n\"+\n     \"may be due to a slow or bad network connection. Possible fixes:\\n\"+\n     \"</p>\\n\"+\n     \"<ul>\\n\"+\n     \"<li>re-rerun `output_notebook()` to attempt to load from CDN again, or</li>\\n\"+\n     \"<li>use INLINE resources instead, as so:</li>\\n\"+\n     \"</ul>\\n\"+\n     \"<code>\\n\"+\n     \"from bokeh.resources import INLINE\\n\"+\n     \"output_notebook(resources=INLINE)\\n\"+\n     \"</code>\\n\"+\n     \"</div>\"}};\n\n  function display_loaded() {\n    const el = document.getElementById(null);\n    if (el != null) {\n      el.textContent = \"BokehJS is loading...\";\n    }\n    if (root.Bokeh !== undefined) {\n      if (el != null) {\n        el.textContent = \"BokehJS \" + root.Bokeh.version + \" successfully loaded.\";\n      }\n    } else if (Date.now() < root._bokeh_timeout) {\n      setTimeout(display_loaded, 100)\n    }\n  }\n\n  function run_callbacks() {\n    try {\n      root._bokeh_onload_callbacks.forEach(function(callback) {\n        if (callback != null)\n          callback();\n      });\n    } finally {\n      delete root._bokeh_onload_callbacks\n    }\n    console.debug(\"Bokeh: all callbacks have finished\");\n  }\n\n  function load_libs(css_urls, js_urls, callback) {\n    if (css_urls == null) css_urls = [];\n    if (js_urls == null) js_urls = [];\n\n    root._bokeh_onload_callbacks.push(callback);\n    if (root._bokeh_is_loading > 0) {\n      console.debug(\"Bokeh: BokehJS is being loaded, scheduling callback at\", now());\n      return null;\n    }\n    if (js_urls == null || js_urls.length === 0) {\n      run_callbacks();\n      return null;\n    }\n    console.debug(\"Bokeh: BokehJS not loaded, scheduling load and callback at\", now());\n    root._bokeh_is_loading = css_urls.length + js_urls.length;\n\n    function on_load() {\n      root._bokeh_is_loading--;\n      if (root._bokeh_is_loading === 0) {\n        console.debug(\"Bokeh: all BokehJS libraries/stylesheets loaded\");\n        run_callbacks()\n      }\n    }\n\n    function on_error(url) {\n      console.error(\"failed to load \" + url);\n    }\n\n    for (let i = 0; i < css_urls.length; i++) {\n      const url = css_urls[i];\n      const element = document.createElement(\"link\");\n      element.onload = on_load;\n      element.onerror = on_error.bind(null, url);\n      element.rel = \"stylesheet\";\n      element.type = \"text/css\";\n      element.href = url;\n      console.debug(\"Bokeh: injecting link tag for BokehJS stylesheet: \", url);\n      document.body.appendChild(element);\n    }\n\n    for (let i = 0; i < js_urls.length; i++) {\n      const url = js_urls[i];\n      const element = document.createElement('script');\n      element.onload = on_load;\n      element.onerror = on_error.bind(null, url);\n      element.async = false;\n      element.src = url;\n      console.debug(\"Bokeh: injecting script tag for BokehJS library: \", url);\n      document.head.appendChild(element);\n    }\n  };\n\n  function inject_raw_css(css) {\n    const element = document.createElement(\"style\");\n    element.appendChild(document.createTextNode(css));\n    document.body.appendChild(element);\n  }\n\n  const js_urls = [\"https://cdn.bokeh.org/bokeh/release/bokeh-3.2.1.min.js\", \"https://cdn.bokeh.org/bokeh/release/bokeh-gl-3.2.1.min.js\", \"https://cdn.bokeh.org/bokeh/release/bokeh-widgets-3.2.1.min.js\", \"https://cdn.bokeh.org/bokeh/release/bokeh-tables-3.2.1.min.js\", \"https://cdn.bokeh.org/bokeh/release/bokeh-mathjax-3.2.1.min.js\"];\n  const css_urls = [];\n\n  const inline_js = [    function(Bokeh) {\n      Bokeh.set_log_level(\"info\");\n    },\nfunction(Bokeh) {\n    }\n  ];\n\n  function run_inline_js() {\n    if (root.Bokeh !== undefined || force === true) {\n          for (let i = 0; i < inline_js.length; i++) {\n      inline_js[i].call(root, root.Bokeh);\n    }\n} else if (Date.now() < root._bokeh_timeout) {\n      setTimeout(run_inline_js, 100);\n    } else if (!root._bokeh_failed_load) {\n      console.log(\"Bokeh: BokehJS failed to load within specified timeout.\");\n      root._bokeh_failed_load = true;\n    } else if (force !== true) {\n      const cell = $(document.getElementById(null)).parents('.cell').data().cell;\n      cell.output_area.append_execute_result(NB_LOAD_WARNING)\n    }\n  }\n\n  if (root._bokeh_is_loading === 0) {\n    console.debug(\"Bokeh: BokehJS loaded, going straight to plotting\");\n    run_inline_js();\n  } else {\n    load_libs(css_urls, js_urls, function() {\n      console.debug(\"Bokeh: BokehJS plotting callback run at\", now());\n      run_inline_js();\n    });\n  }\n}(window));",
      "application/vnd.bokehjs_load.v0+json": ""
     },
     "metadata": {},
     "output_type": "display_data"
    }
   ],
   "source": [
    "import cameo"
   ]
  },
  {
   "cell_type": "code",
   "execution_count": 2,
   "metadata": {},
   "outputs": [
    {
     "name": "stdout",
     "output_type": "stream",
     "text": [
      "Collecting markupsafe==1.1.1\n",
      "  Using cached MarkupSafe-1.1.1-py3-none-any.whl\n",
      "Installing collected packages: markupsafe\n",
      "  Attempting uninstall: markupsafe\n",
      "    Found existing installation: MarkupSafe 2.1.3\n",
      "    Uninstalling MarkupSafe-2.1.3:\n",
      "      Successfully uninstalled MarkupSafe-2.1.3\n",
      "Note: you may need to restart the kernel to use updated packages.\n"
     ]
    },
    {
     "name": "stderr",
     "output_type": "stream",
     "text": [
      "ERROR: Could not install packages due to an OSError: [WinError 5] Acceso denegado: 'C:\\\\Users\\\\Pablo\\\\Anaconda\\\\Lib\\\\site-packages\\\\~arkupsafe\\\\_speedups.cp311-win_amd64.pyd'\n",
      "Consider using the `--user` option or check the permissions.\n",
      "\n"
     ]
    }
   ],
   "source": [
    "pip install markupsafe==1.1.1\n"
   ]
  },
  {
   "cell_type": "code",
   "execution_count": null,
   "metadata": {},
   "outputs": [],
   "source": [
    "\n"
   ]
  }
 ],
 "metadata": {
  "kernelspec": {
   "display_name": "base",
   "language": "python",
   "name": "python3"
  },
  "language_info": {
   "codemirror_mode": {
    "name": "ipython",
    "version": 3
   },
   "file_extension": ".py",
   "mimetype": "text/x-python",
   "name": "python",
   "nbconvert_exporter": "python",
   "pygments_lexer": "ipython3",
   "version": "3.11.4"
  }
 },
 "nbformat": 4,
 "nbformat_minor": 4
}
