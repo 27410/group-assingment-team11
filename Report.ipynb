{
 "cells": [
  {
   "cell_type": "markdown",
   "metadata": {},
   "source": [
    "# Biosynthesis of Xylitol by Saccharomyces cerevisiae "
   ]
  },
  {
   "cell_type": "markdown",
   "metadata": {},
   "source": [
    "## 1. Introduction"
   ]
  },
  {
   "cell_type": "code",
   "execution_count": null,
   "metadata": {},
   "outputs": [],
   "source": []
  },
  {
   "cell_type": "markdown",
   "metadata": {},
   "source": []
  },
  {
   "cell_type": "markdown",
   "metadata": {},
   "source": [
    "### 1.1 Literature review of the compound (<500 words)"
   ]
  },
  {
   "cell_type": "markdown",
   "metadata": {},
   "source": [
    "### 1.2 Literature review of the cell factory (<500 words)"
   ]
  },
  {
   "cell_type": "markdown",
   "metadata": {},
   "source": [
    "For thousands of years, the yeast Saccharomyces cerevisiae (S. cerevisiae) has served as a cell factory for the production of bread, beer, and wine. In more recent years, this yeast has also served as a cell factory for producing many different fuels, chemicals, food ingredients, and pharmaceuticals. (https://pubmed.ncbi.nlm.nih.gov/30925027/)\n",
    "\n",
    "Xylitol is a sugar alcohol that can be produced in Saccharomyces cerevisiae through a metabolic pathway known as the pentose phosphate pathway (PPP). The conversion of xylose, a five-carbon sugar commonly found in plant biomass, into xylitol in yeast involves several enzymatic steps. Here is an overview of the metabolic pathway to produce xylitol in S. cerevisiae:\n",
    "\n",
    "Xylose Uptake: The first step in xylitol production is the uptake of xylose from the surrounding environment into the yeast cell. S. cerevisiae can naturally transport xylose into the cell through specific transporters.\n",
    "\n",
    "Xylose Isomerization: Once inside the cell, xylose is converted into xylulose by the enzyme xylose isomerase. This reaction is necessary because the subsequent steps of the pathway involve xylulose rather than xylose.\n",
    "\n",
    "Xylulose Conversion: Xylulose is then phosphorylated by xylulose kinase, resulting in xylulose-5-phosphate.\n",
    "\n",
    "Xylulose-5-Phosphate Reduction: Xylulose-5-phosphate is reduced to xylitol by the enzyme xylitol dehydrogenase (XDH). This reduction step consumes NADH, which is oxidized to NAD+.\n",
    "\n",
    "The overall chemical reaction for the production of xylitol in Saccharomyces cerevisiae is as follows:\n",
    "\n",
    "Xylulose-5-phosphate + NADH → Xylitol + NAD+\n",
    "\n",
    "Xylitol is the desired product, and it can be accumulated within the yeast cells. This pathway allows S. cerevisiae to convert xylose into xylitol, which can be used for various applications, including as a sugar substitute and in the production of sugar-free food products.\n",
    "\n",
    "It's worth noting that while S. cerevisiae can naturally metabolize xylose, its efficiency in converting xylose into xylitol is often limited. Bioengineering techniques are frequently employed to improve the efficiency of this pathway, including the introduction of genes from other organisms or the optimization of native yeast genes involved in xylose metabolism and xylitol production.\n"
   ]
  },
  {
   "cell_type": "markdown",
   "metadata": {},
   "source": [
    "## 2. Problem definition (<300 words)"
   ]
  },
  {
   "cell_type": "markdown",
   "metadata": {},
   "source": [
    "## 3. *If Project category I:* Reconstruction of a new GSM for your cell factory host of interest (<1500 words)"
   ]
  },
  {
   "cell_type": "markdown",
   "metadata": {},
   "source": [
    "or"
   ]
  },
  {
   "cell_type": "markdown",
   "metadata": {},
   "source": [
    "## 3. *If Project category II:* Selection and assessment of existing GSM (<500 words)"
   ]
  },
  {
   "cell_type": "markdown",
   "metadata": {},
   "source": [
    "## 4. Computer-Aided Cell Factory Engineering (<1500 words if Category II project; <500 words for Category I project)"
   ]
  },
  {
   "cell_type": "markdown",
   "metadata": {},
   "source": [
    "## 5. Discussion (<500 words)"
   ]
  },
  {
   "cell_type": "markdown",
   "metadata": {},
   "source": [
    "## 6. Conclusion (<200 words)"
   ]
  },
  {
   "cell_type": "markdown",
   "metadata": {},
   "source": [
    "## References"
   ]
  },
  {
   "cell_type": "code",
   "execution_count": null,
   "metadata": {},
   "outputs": [],
   "source": []
  }
 ],
 "metadata": {
  "kernelspec": {
   "display_name": "base",
   "language": "python",
   "name": "python3"
  },
  "language_info": {
   "codemirror_mode": {
    "name": "ipython",
    "version": 3
   },
   "file_extension": ".py",
   "mimetype": "text/x-python",
   "name": "python",
   "nbconvert_exporter": "python",
   "pygments_lexer": "ipython3",
   "version": "3.11.4"
  }
 },
 "nbformat": 4,
 "nbformat_minor": 4
}
