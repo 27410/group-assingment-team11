{
 "cells": [
  {
   "cell_type": "markdown",
   "metadata": {},
   "source": [
    "# Biosynthesis of isoamyl acetate by Saccharomyces cerevisiae "
   ]
  },
  {
   "cell_type": "markdown",
   "metadata": {},
   "source": [
    "## 1. Introduction"
   ]
  },
  {
   "cell_type": "code",
   "execution_count": null,
   "metadata": {},
   "outputs": [],
   "source": []
  },
  {
   "cell_type": "markdown",
   "metadata": {},
   "source": []
  },
  {
   "cell_type": "markdown",
   "metadata": {},
   "source": [
    "### 1.1 Literature review of the compound (<500 words)\n",
    "\n",
    "#### Applications of the product\n",
    "\n",
    "Categorized as a sugar alcohol, that stimulates the taste receptors for sweetness on a tongue. However, it contains 40% fewer calories than normal sugar. \n",
    "\n",
    "Xylitol was globally researched and approved as a natural sweetener U.S. Food and Drug Administration (FDA). 1 \n",
    "\n",
    "Xylitol know also as E967 is a food sweetener used in sweets like chewing gums, toffees, soft candies, jellies, chocolates and chewing tablets. It replaces the use of sucrose in soft drinks, milk, breads, preserved fruit, biscuits, yogurts, and jams to extend the shelf life of the product, and provide a sweet taste. \n",
    "\n",
    "According to the studies xylitol prevents demineralization of teeth and bones, otitis media infection, respiratory tract infections, inflammation and cancer progression. Due to its metabolism there is an insignificant effect on blood glucose and plasma insulin levels that allows to use it for diabetics patients. Moreover, xylitol has also been used as a drug carrier due to its high permeability and non-toxic nature. Diverse application in Food industry, Pharmaceutical and health care products makes xylitol is one of the top 12 bio-products with increasing market demand. That can be satisfy with developing of large-scale biotransformation production.\n",
    "\n",
    "#### Evaluation of market potential\n",
    "\n",
    "As xylitol is used in industries like cosmetics and toiletries, pharmaceuticals and oral healthcare, nowadays its use is increasing. This is because a higher demand for natural sweeteners as substitutes for sugar, they are needed for people who can’t take it like diabetic or obese people. \n",
    "\n",
    "Xylitol market is currently growing, and the compound annual growth rate expected for this market between 2023 and 2030 is of 5.7%. The higher market share is in the USA followed by Asia and Europe, because of the growing awareness about products with sugar, and xylitol offers more health benefits.\n",
    "\n",
    "However there are some restrictions that restricts the market growth, the most important ones are that this compound is toxic for dogs and that raw materials prices can fluctuate, compromising xylitol production.\n",
    "\n",
    "Some of the most important companies producing xylitol are Roquette Frères, NovaGreen and Cargill."
   ]
  },
  {
   "cell_type": "markdown",
   "metadata": {},
   "source": [
    "### 1.2 Literature review of the cell factory (<500 words)"
   ]
  },
  {
   "cell_type": "markdown",
   "metadata": {},
   "source": [
    "Genome-scale metabolic models (GEMs) represent extensive knowledgebases that provide a platform for model simulations and integrative analysis of omics data. Our choice of host organism, S. cerevisiae, is a very common and well-researched organism, thus multiple genome-scale metabolic models (GSMs) exist. In order to choose the most optimal GSM available, 6 potential S. cerevisiae models were obtained form BioModels iFF708, iLL672, iMM904,\tiND750,\tyeast_7.6 and yeast8. \n",
    "\n",
    "The first S. cerevisiae model to be established, iFF708, integrates 1175 reactions and 733 metabolites (Förster et al., 2003). It has been noted for accurate prediction of various cellular functions (Famili et al., 2003) and single gene deletion forecasts (Förster et al., 2003).  The subsequent model, iND750, distinguishes itself with full compartmentalization and includes 750 genes and their associated transcripts, proteins, and reactions (Duarte et al., 2004). Its validation came from extensive gene deletion studies and analysis of metabolic phenotypes  (Duarte et al., 2004), and it further incorporates regulatory elements to predict gene expression and outcomes in various transcription factor mutants (Herrgard et al., 2006).  The third model, iLL672, is an evolution of iFF708; addresses and removes several dead-end reactions found in iFF708, thereby refining the accuracy of predictions for single gene deletions (Kuepfer et al., 2005).\n",
    "\n",
    "Using memote, it is possible to assess different quality measures of the GSMs, including stochiometry, annotation, and reaction/metabolite statistics. The chosen models were compared using memote and the results are summarised in the table below.\n",
    "\n",
    "iND750 is an improved version of the model iFF708, whereas iMM904 was reconstructed based on iND750. Yeast8 is the current consensus genome-scale metabolic model of Saccharomyces cerevisiae, continuously updated and tracked on a GitHub repository. For its development, several databases were used for gene annotation, resulting in an enriched GSM (Lu et al., 2019).\n",
    "\n",
    "| Measure | iFF708 |\tiIN800 |\tiLL672 | iMM904 |\tiND750 |\tyeast_7.6 |\tyeast8 |\n",
    "| ---- | ---- | - | - | - | - | - | - |\n",
    "| Total Metabolites | 796 | 1,824 | 671 | 1,228 | 1,061 | 3,370 | 2,806 |\n",
    "| Total Reactions | 1,379 | 1,837 | 1,195 | 1,577 | 1,266 | 4,643 | 4,131 |\n",
    "| Total Genes | 619 | 0 | 0 | 905 | 750 | 1,146 | 1,163 |\n",
    "| Stochiometric Consistency  | 0.0% | 0.0% | 0.0% | 100.0% | 100.0% | 0.0% | 0.0%|\n",
    "| Mass Balance  | 0.0%| 0.7%|0.0%|0.0%|97.3%|40.4%|93.8%|\n",
    "| Metabolite Connectivity  | 100.0% | 61.2% | 100.0% | 100.0% |100.0% | 100.0% | 100.0% | \n",
    "| Metabolite Annotation | 0.0% | 100.0% | 0.0% | 0.0% | 0.0% | 100.0% | 100.0% |\n",
    "| Reaction Annotation | 0.0% | 100.0% | 0.0% | 0.0% | 0.0% | 100.0% | 100.0% |\n",
    "| Gene Annotation | 0.0% | 0.0% | 0.0% | 0.0% | 0.0% | 0.0% | 100.0% |\n",
    "| **Total score** |15%\t| 23%|\t15%\t| 31%\t| 37% |\t32%\t| 66% |\n",
    "\n",
    "The report gave a clear overview on the most important aspects of the models. Yeast 8 and yeast 7.6  clearly overperformed the other models in terms of the number of metabolites, reactions, genes and annotations. Ultimately, yeast 8 was chosen due to it's highest total score and the presence of gene annotations (as opposed to yeast 7.6)"
   ]
  },
  {
   "cell_type": "markdown",
   "metadata": {},
   "source": [
    "## 2. Problem definition (<300 words)"
   ]
  },
  {
   "cell_type": "markdown",
   "metadata": {},
   "source": [
    "\n"
   ]
  },
  {
   "cell_type": "markdown",
   "metadata": {},
   "source": [
    "## 3. *If Project category II:* Selection and assessment of existing GSM (<500 words)"
   ]
  },
  {
   "cell_type": "markdown",
   "metadata": {},
   "source": [
    "Systematic analysis of Saccharomyces cerevisiae metabolic functions and pathways has been the subject of extensive studies and established in many aspects. With the reconstruction of the yeast genome-scale metabolic (GSM) network and in silico simulation of the GSM model, the nature of the underlying cellular processes can be tested and validated with the increasing metabolic knowledge."
   ]
  },
  {
   "cell_type": "markdown",
   "metadata": {},
   "source": []
  },
  {
   "cell_type": "markdown",
   "metadata": {},
   "source": [
    "## 4. Computer-Aided Cell Factory Engineering (<1500 words if Category II project; <500 words for Category I project)"
   ]
  },
  {
   "cell_type": "markdown",
   "metadata": {},
   "source": [
    "## 5. Discussion (<500 words)"
   ]
  },
  {
   "cell_type": "markdown",
   "metadata": {},
   "source": [
    "## 6. Conclusion (<200 words)"
   ]
  },
  {
   "cell_type": "markdown",
   "metadata": {},
   "source": [
    "## References"
   ]
  },
  {
   "cell_type": "code",
   "execution_count": null,
   "metadata": {},
   "outputs": [],
   "source": []
  }
 ],
 "metadata": {
  "kernelspec": {
   "display_name": "base",
   "language": "python",
   "name": "python3"
  },
  "language_info": {
   "codemirror_mode": {
    "name": "ipython",
    "version": 3
   },
   "file_extension": ".py",
   "mimetype": "text/x-python",
   "name": "python",
   "nbconvert_exporter": "python",
   "pygments_lexer": "ipython3",
   "version": "3.11.4"
  }
 },
 "nbformat": 4,
 "nbformat_minor": 4
}
