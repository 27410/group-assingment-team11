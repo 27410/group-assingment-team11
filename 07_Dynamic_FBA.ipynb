{
 "cells": [
  {
   "cell_type": "code",
   "execution_count": 3,
   "metadata": {},
   "outputs": [],
   "source": [
    "from IPython.display import display\n",
    "import re\n",
    "from cobra.io import read_sbml_model\n",
    "from dfba import ControlParameter, DfbaModel, ExchangeFlux, KineticVariable\n",
    "from dfba.plot.matplotlib import *"
   ]
  },
  {
   "cell_type": "markdown",
   "metadata": {},
   "source": [
    "## Dynamic Flux Based Analysis\n",
    "\n",
    "Calculating a single number for the isoamyl acetate yield and flux - as we mostly do during this report - gives little information about what the final titres will be.  Traditional flux analysis (often called Flux Balance Analysis or FBA) is static, meaning it provides a snapshot of the metabolic fluxes under a given set of conditions. In contrast, dynamic flux analysis (DFBA) considers how these fluxes change over time. This is crucial for understanding how cells respond to different environmental conditions or genetic modifications.\n",
    "To get a better idea of how the isoamyl acetate and biomass titres change over time, it can be insightful to mimick real conditions by simulating a simple batch fermentation by DFBA.\n",
    "\n",
    "The code is run in the following steps:\n",
    " - Load libraries and model\n",
    " - Calculcate optimal fluxes for biomass and progesterone and adjust the lowerbound for progesterone.\n",
    " - Make DFBA model\n",
    " - Add Kinetic variables \n",
    " - Add Exchange Fluxes\n",
    " - Add right-hand-side expressions (rhs) for kinetic variables\n",
    " - Lower/upper bound expressions for exchange fluxes\n",
    " - Define initial conditions\n",
    " - Run simulation and plot concentrations and trajectories.\n",
    " - Investigate relationship between initial glucose concentration and final progesterone titre"
   ]
  },
  {
   "cell_type": "code",
   "execution_count": 4,
   "metadata": {},
   "outputs": [],
   "source": [
    "from cobra.io import read_sbml_model"
   ]
  },
  {
   "cell_type": "code",
   "execution_count": 5,
   "metadata": {},
   "outputs": [
    {
     "name": "stdout",
     "output_type": "stream",
     "text": [
      "Scaling...\n",
      " A: min|aij| =  1.000e+00  max|aij| =  1.000e+00  ratio =  1.000e+00\n",
      "Problem data seem to be well scaled\n"
     ]
    },
    {
     "data": {
      "text/html": [
       "\n",
       "        <table>\n",
       "            <tr>\n",
       "                <td><strong>Name</strong></td>\n",
       "                <td>yeastGEM_v8__46__7__46__1</td>\n",
       "            </tr><tr>\n",
       "                <td><strong>Memory address</strong></td>\n",
       "                <td>0x040a556a080</td>\n",
       "            </tr><tr>\n",
       "                <td><strong>Number of metabolites</strong></td>\n",
       "                <td>2806</td>\n",
       "            </tr><tr>\n",
       "                <td><strong>Number of reactions</strong></td>\n",
       "                <td>4131</td>\n",
       "            </tr><tr>\n",
       "                <td><strong>Number of groups</strong></td>\n",
       "                <td>106</td>\n",
       "            </tr><tr>\n",
       "                <td><strong>Objective expression</strong></td>\n",
       "                <td>1.0*r_2111 - 1.0*r_2111_reverse_58b69</td>\n",
       "            </tr><tr>\n",
       "                <td><strong>Compartments</strong></td>\n",
       "                <td>cell envelope, cytoplasm, extracellular, mitochondrion, nucleus, peroxisome, endoplasmic reticulum, Golgi, lipid particle, vacuole, endoplasmic reticulum membrane, vacuolar membrane, Golgi membrane, mitochondrial membrane</td>\n",
       "            </tr>\n",
       "          </table>"
      ],
      "text/plain": [
       "<Model yeastGEM_v8__46__7__46__1 at 0x40a556a080>"
      ]
     },
     "execution_count": 5,
     "metadata": {},
     "output_type": "execute_result"
    }
   ],
   "source": [
    "model = read_sbml_model(\"yeast8.xml\")\n",
    "model\n"
   ]
  },
  {
   "cell_type": "markdown",
   "metadata": {},
   "source": [
    "To ensure that our strain can grow while producing isoamyl acetate, we find the optimal isoamyl acetate productivity and growth rate (see 03_maximum theoretical yield). To simulate the optimal model in steady state, we define a progesterone productivity from the obtained results:"
   ]
  },
  {
   "cell_type": "code",
   "execution_count": 6,
   "metadata": {},
   "outputs": [
    {
     "name": "stdout",
     "output_type": "stream",
     "text": [
      "Maximum growth rate: 0.08192821423406454 gDW/h\n",
      "Maximum isoamyl acetate production: 0.556403433387518 mmol/gDW*h\n"
     ]
    }
   ],
   "source": [
    "# max growth rate and max progesterone productivity\n",
    "with model:\n",
    "    baseline_max_growth = model.optimize().objective_value\n",
    "    model.objective = model.reactions.r_1180\n",
    "    baseline_max_production = model.optimize().objective_value\n",
    "print(f\"Maximum growth rate: {baseline_max_growth} gDW/h\")\n",
    "print(f\"Maximum isoamyl acetate production: {baseline_max_production} mmol/gDW*h\")"
   ]
  },
  {
   "cell_type": "code",
   "execution_count": 7,
   "metadata": {},
   "outputs": [
    {
     "name": "stdout",
     "output_type": "stream",
     "text": [
      "For model with biomass production and isoamyl acetate production set as an ojective:\n",
      "Max growth rate: 0.032358322856891095 gDW/h\n",
      "Max isoamyl acetate yield: 0.36903040785530083 mmol/gDW*h\n"
     ]
    }
   ],
   "source": [
    "# growth and isoamyl acetate productivity when both are set to be objective\n",
    "with model:\n",
    "    model.objective = {model.reactions.get_by_id('r_2111'): baseline_max_production, \n",
    "                    model.reactions.get_by_id('r_1180'): baseline_max_growth} # objective is to lead flux through the reaction producing progesterone top maximise production\n",
    "    solution = model.optimize()\n",
    "    growth = solution.fluxes['r_2111']\n",
    "    isoamyl_acetate = solution.fluxes['r_1180'] \n",
    "    o_uptake = solution.fluxes['r_1992']\n",
    "    glc_uptake = solution.fluxes['r_1714']\n",
    "\n",
    "print(\"For model with biomass production and isoamyl acetate production set as an ojective:\")\n",
    "print(f\"Max growth rate: {growth} gDW/h\")\n",
    "print(f\"Max isoamyl acetate yield: {isoamyl_acetate} mmol/gDW*h\")"
   ]
  },
  {
   "cell_type": "markdown",
   "metadata": {},
   "source": [
    "Now we have calculated the optimal fluxes for isoamyl acetate and biomass when they are both set to the objective for the model. Unfortunately, this DFBA simulation does not work when two reactions are set as the objective. \n",
    "Therefore, we chose to biomass as the objective and then force the isoa flux to the value ~0.36 gDW/h, as calculated above."
   ]
  },
  {
   "cell_type": "code",
   "execution_count": 8,
   "metadata": {},
   "outputs": [
    {
     "name": "stdout",
     "output_type": "stream",
     "text": [
      "Setting isoamyl acetate production to: 0.36903040785530083 mmol/gDW*h\n"
     ]
    }
   ],
   "source": [
    "model.reactions.r_1180.lower_bound = growth\n",
    "print(f\"Setting isoamyl acetate production to: {isoamyl_acetate} mmol/gDW*h\")"
   ]
  },
  {
   "cell_type": "code",
   "execution_count": 9,
   "metadata": {},
   "outputs": [],
   "source": [
    "model.solver = \"glpk\"\n",
    "dfba_model = DfbaModel(model)"
   ]
  },
  {
   "cell_type": "code",
   "execution_count": 10,
   "metadata": {},
   "outputs": [],
   "source": [
    "# Defining kinetic variables\n",
    "# These variables represent concentrations of these components that can change dynamically over the course of the simulation.\n",
    "X = KineticVariable(\"Biomass\")\n",
    "V = KineticVariable(\"Volume\")\n",
    "Gluc = KineticVariable(\"Glucose\")\n",
    "Isoa = KineticVariable(\"IsoamylAcetate\")\n",
    "\n",
    "# The kinetic variables are added to the DFBA model, which will be part of the dynamic simulation.\n",
    "dfba_model.add_kinetic_variables([X, Gluc, Isoa, V])"
   ]
  },
  {
   "cell_type": "code",
   "execution_count": 11,
   "metadata": {},
   "outputs": [],
   "source": [
    "# Exchange fluxes\n",
    "# The rates at which these substances are produced or consumed by the cell.\n",
    "mu = ExchangeFlux(\"r_2111\")\n",
    "v_G = ExchangeFlux(\"r_1714\")\n",
    "v_O = ExchangeFlux(\"r_1992\")\n",
    "v_I = ExchangeFlux(\"r_1180\")\n",
    "                   \n",
    "# The exchange fluxes are added to the DFBA model. These will dictate the dynamics of how substances are exchanged with the environment.                   \n",
    "dfba_model.add_exchange_fluxes([mu, v_G, v_O, v_I])"
   ]
  },
  {
   "cell_type": "code",
   "execution_count": 12,
   "metadata": {},
   "outputs": [],
   "source": [
    "Vgmax = 8.5\n",
    "Kg = 0.5\n",
    "D = 0.044\n",
    "Gin = 10.0\n",
    "Vomax = 8.0\n",
    "Oxy = ControlParameter(\"Oxygen\", [7.7], [Vomax, 0.0])"
   ]
  },
  {
   "cell_type": "code",
   "execution_count": 13,
   "metadata": {},
   "outputs": [],
   "source": [
    "dfba_model.add_rhs_expression(\"Volume\", D)\n",
    "dfba_model.add_rhs_expression(\"Biomass\", mu * X - D * X / V)\n",
    "dfba_model.add_rhs_expression(\"Glucose\", v_G * X + D * (Gin - Gluc) / V)\n",
    "dfba_model.add_rhs_expression(\"IsoamylAcetate\", v_I * X - D * Isoa / V)\n"
   ]
  },
  {
   "cell_type": "code",
   "execution_count": 14,
   "metadata": {},
   "outputs": [],
   "source": [
    "# add lower/upper bound expressions for exchange fluxes in dfba_model together\n",
    "# with expression that must be non-negative for correct evaluation of bounds\n",
    "dfba_model.add_exchange_flux_lb(\"r_1714\", Vgmax * (Gluc / (Kg + Gluc)), Gluc)\n",
    "dfba_model.add_exchange_flux_lb(\"r_1992\", Oxy, control_parameters=Oxy)\n"
   ]
  },
  {
   "cell_type": "code",
   "execution_count": 15,
   "metadata": {},
   "outputs": [
    {
     "name": "stdout",
     "output_type": "stream",
     "text": [
      "GLPK Simplex Optimizer 5.0\n",
      "2806 rows, 8262 columns, 31164 non-zeros\n",
      "      0: obj =   3.083301471e-01 inf =   3.033e-01 (5)\n",
      "     40: obj =   2.993197645e-01 inf =   6.802e-16 (0)\n",
      "*   138: obj =   3.934046390e-01 inf =   5.156e-15 (0)\n",
      "OPTIMAL LP SOLUTION FOUND\n",
      "\n",
      "\n",
      "Final Run Statistics: \n",
      "\n",
      "Number of steps                    = 36\n",
      "Number of residual evaluations     = 128\n",
      "Number of Jacobian evaluations     = 19\n",
      "Number of nonlinear iterations     = 62\n",
      "Number of error test failures      = 2\n",
      "Number of nonlinear conv. failures = 0\n",
      "Number of root fn. evaluations     = 117\n",
      "\n",
      "GLPK Simplex Optimizer 5.0\n",
      "2806 rows, 8262 columns, 31164 non-zeros\n",
      "    138: obj =   3.018693189e-01 inf =   1.452e-03 (2)\n",
      "    147: obj =   3.018206820e-01 inf =   1.434e-15 (0)\n",
      "*   198: obj =   3.018438368e-01 inf =   2.555e-16 (0) 1\n",
      "OPTIMAL LP SOLUTION FOUND\n",
      "\n",
      "Final Run Statistics: \n",
      "\n",
      "Number of steps                    = 0\n",
      "Number of residual evaluations     = 0\n",
      "Number of Jacobian evaluations     = 15\n",
      "Number of nonlinear iterations     = 0\n",
      "Number of error test failures      = 0\n",
      "Number of nonlinear conv. failures = 0\n",
      "Number of root fn. evaluations     = 0\n",
      "\n",
      "Total simulation time was 77.7623 seconds\n",
      "\n"
     ]
    }
   ],
   "source": [
    "# add initial conditions for kinetic variables in dfba_model biomass (gDW/L),\n",
    "# metabolites (g/L)\n",
    "dfba_model.add_initial_conditions(\n",
    "    {\n",
    "        \"Volume\": 0.5,\n",
    "        \"Biomass\": 0.05,\n",
    "        \"Glucose\": 10.0,\n",
    "        \"IsoamylAcetate\": 0.0,\n",
    "    }\n",
    ")\n",
    "\n",
    "# simulate model across interval t = [0.0,16.0](hours) with outputs for plotting every 0.1h\n",
    "concentrations, trajectories = dfba_model.simulate(0.0, 16.0, 0.1, [\"r_2111\", \"r_1992\", \"r_1714\",\"r_1180\"])\n"
   ]
  },
  {
   "cell_type": "code",
   "execution_count": 16,
   "metadata": {},
   "outputs": [
    {
     "data": {
      "image/png": "[encoded data removed]",
      "text/plain": [
       "<Figure size 640x480 with 2 Axes>"
      ]
     },
     "metadata": {},
     "output_type": "display_data"
    }
   ],
   "source": [
    "# plotting concentration in steady state\n",
    "plot_concentrations(concentrations)\n",
    "plt.title(\" \\n Batch fermentation simulation \\n\", size=15)\n",
    "plt.savefig('Bacth_fermentation_simul.png',bbox_inches='tight')"
   ]
  },
  {
   "cell_type": "code",
   "execution_count": 17,
   "metadata": {},
   "outputs": [
    {
     "data": {
      "text/html": [
       "<div>\n",
       "<style scoped>\n",
       "    .dataframe tbody tr th:only-of-type {\n",
       "        vertical-align: middle;\n",
       "    }\n",
       "\n",
       "    .dataframe tbody tr th {\n",
       "        vertical-align: top;\n",
       "    }\n",
       "\n",
       "    .dataframe thead th {\n",
       "        text-align: right;\n",
       "    }\n",
       "</style>\n",
       "<table border=\"1\" class=\"dataframe\">\n",
       "  <thead>\n",
       "    <tr style=\"text-align: right;\">\n",
       "      <th></th>\n",
       "      <th>time</th>\n",
       "      <th>Biomass</th>\n",
       "      <th>Glucose</th>\n",
       "      <th>IsoamylAcetate</th>\n",
       "      <th>Volume</th>\n",
       "    </tr>\n",
       "  </thead>\n",
       "  <tbody>\n",
       "    <tr>\n",
       "      <th>0</th>\n",
       "      <td>0.0</td>\n",
       "      <td>0.050000</td>\n",
       "      <td>10.000000</td>\n",
       "      <td>0.000000</td>\n",
       "      <td>0.500</td>\n",
       "    </tr>\n",
       "    <tr>\n",
       "      <th>10</th>\n",
       "      <td>1.0</td>\n",
       "      <td>0.068208</td>\n",
       "      <td>9.542307</td>\n",
       "      <td>0.001832</td>\n",
       "      <td>0.544</td>\n",
       "    </tr>\n",
       "    <tr>\n",
       "      <th>20</th>\n",
       "      <td>2.0</td>\n",
       "      <td>0.094082</td>\n",
       "      <td>8.940247</td>\n",
       "      <td>0.004250</td>\n",
       "      <td>0.588</td>\n",
       "    </tr>\n",
       "    <tr>\n",
       "      <th>30</th>\n",
       "      <td>3.0</td>\n",
       "      <td>0.130430</td>\n",
       "      <td>8.135409</td>\n",
       "      <td>0.007497</td>\n",
       "      <td>0.632</td>\n",
       "    </tr>\n",
       "    <tr>\n",
       "      <th>40</th>\n",
       "      <td>4.0</td>\n",
       "      <td>0.181183</td>\n",
       "      <td>7.048867</td>\n",
       "      <td>0.011917</td>\n",
       "      <td>0.676</td>\n",
       "    </tr>\n",
       "    <tr>\n",
       "      <th>50</th>\n",
       "      <td>5.0</td>\n",
       "      <td>0.251847</td>\n",
       "      <td>5.575884</td>\n",
       "      <td>0.017996</td>\n",
       "      <td>0.720</td>\n",
       "    </tr>\n",
       "    <tr>\n",
       "      <th>60</th>\n",
       "      <td>6.0</td>\n",
       "      <td>0.348992</td>\n",
       "      <td>3.610455</td>\n",
       "      <td>0.026369</td>\n",
       "      <td>0.764</td>\n",
       "    </tr>\n",
       "    <tr>\n",
       "      <th>70</th>\n",
       "      <td>7.0</td>\n",
       "      <td>0.477616</td>\n",
       "      <td>1.198999</td>\n",
       "      <td>0.037890</td>\n",
       "      <td>0.808</td>\n",
       "    </tr>\n",
       "    <tr>\n",
       "      <th>80</th>\n",
       "      <td>8.0</td>\n",
       "      <td>0.567263</td>\n",
       "      <td>0.066990</td>\n",
       "      <td>0.052849</td>\n",
       "      <td>0.852</td>\n",
       "    </tr>\n",
       "    <tr>\n",
       "      <th>90</th>\n",
       "      <td>9.0</td>\n",
       "      <td>0.577700</td>\n",
       "      <td>0.055718</td>\n",
       "      <td>0.068335</td>\n",
       "      <td>0.896</td>\n",
       "    </tr>\n",
       "    <tr>\n",
       "      <th>100</th>\n",
       "      <td>10.0</td>\n",
       "      <td>0.586350</td>\n",
       "      <td>0.051956</td>\n",
       "      <td>0.083534</td>\n",
       "      <td>0.940</td>\n",
       "    </tr>\n",
       "    <tr>\n",
       "      <th>110</th>\n",
       "      <td>11.0</td>\n",
       "      <td>0.593976</td>\n",
       "      <td>0.048687</td>\n",
       "      <td>0.098476</td>\n",
       "      <td>0.984</td>\n",
       "    </tr>\n",
       "    <tr>\n",
       "      <th>120</th>\n",
       "      <td>12.0</td>\n",
       "      <td>0.600701</td>\n",
       "      <td>0.045828</td>\n",
       "      <td>0.113183</td>\n",
       "      <td>1.028</td>\n",
       "    </tr>\n",
       "    <tr>\n",
       "      <th>130</th>\n",
       "      <td>13.0</td>\n",
       "      <td>0.606634</td>\n",
       "      <td>0.043307</td>\n",
       "      <td>0.127676</td>\n",
       "      <td>1.072</td>\n",
       "    </tr>\n",
       "    <tr>\n",
       "      <th>140</th>\n",
       "      <td>14.0</td>\n",
       "      <td>0.611867</td>\n",
       "      <td>0.041068</td>\n",
       "      <td>0.141971</td>\n",
       "      <td>1.116</td>\n",
       "    </tr>\n",
       "    <tr>\n",
       "      <th>150</th>\n",
       "      <td>15.0</td>\n",
       "      <td>0.616478</td>\n",
       "      <td>0.039066</td>\n",
       "      <td>0.156084</td>\n",
       "      <td>1.160</td>\n",
       "    </tr>\n",
       "    <tr>\n",
       "      <th>160</th>\n",
       "      <td>16.0</td>\n",
       "      <td>0.620549</td>\n",
       "      <td>0.037265</td>\n",
       "      <td>0.170029</td>\n",
       "      <td>1.204</td>\n",
       "    </tr>\n",
       "  </tbody>\n",
       "</table>\n",
       "</div>"
      ],
      "text/plain": [
       "     time   Biomass    Glucose  IsoamylAcetate  Volume\n",
       "0     0.0  0.050000  10.000000        0.000000   0.500\n",
       "10    1.0  0.068208   9.542307        0.001832   0.544\n",
       "20    2.0  0.094082   8.940247        0.004250   0.588\n",
       "30    3.0  0.130430   8.135409        0.007497   0.632\n",
       "40    4.0  0.181183   7.048867        0.011917   0.676\n",
       "50    5.0  0.251847   5.575884        0.017996   0.720\n",
       "60    6.0  0.348992   3.610455        0.026369   0.764\n",
       "70    7.0  0.477616   1.198999        0.037890   0.808\n",
       "80    8.0  0.567263   0.066990        0.052849   0.852\n",
       "90    9.0  0.577700   0.055718        0.068335   0.896\n",
       "100  10.0  0.586350   0.051956        0.083534   0.940\n",
       "110  11.0  0.593976   0.048687        0.098476   0.984\n",
       "120  12.0  0.600701   0.045828        0.113183   1.028\n",
       "130  13.0  0.606634   0.043307        0.127676   1.072\n",
       "140  14.0  0.611867   0.041068        0.141971   1.116\n",
       "150  15.0  0.616478   0.039066        0.156084   1.160\n",
       "160  16.0  0.620549   0.037265        0.170029   1.204"
      ]
     },
     "execution_count": 17,
     "metadata": {},
     "output_type": "execute_result"
    }
   ],
   "source": [
    "concentrations.iloc[::10]"
   ]
  },
  {
   "cell_type": "code",
   "execution_count": 18,
   "metadata": {},
   "outputs": [
    {
     "data": {
      "text/plain": [
       "Text(0.5, 1.0, '\\n Fluxes for batch fermentation simulation \\n')"
      ]
     },
     "execution_count": 18,
     "metadata": {},
     "output_type": "execute_result"
    },
    {
     "data": {
      "image/png": "[encoded data removed]",
      "text/plain": [
       "<Figure size 640x480 with 1 Axes>"
      ]
     },
     "metadata": {},
     "output_type": "display_data"
    }
   ],
   "source": [
    "# Plotting fluxes at steady state\n",
    "plot_trajectories(trajectories)\n",
    "plt.title(\"\\n Fluxes for batch fermentation simulation \\n\", size=15)"
   ]
  }
 ],
 "metadata": {
  "kernelspec": {
   "display_name": "Python 3 (ipykernel)",
   "language": "python",
   "name": "python3"
  },
  "language_info": {
   "codemirror_mode": {
    "name": "ipython",
    "version": 3
   },
   "file_extension": ".py",
   "mimetype": "text/x-python",
   "name": "python",
   "nbconvert_exporter": "python",
   "pygments_lexer": "ipython3",
   "version": "3.7.3"
  }
 },
 "nbformat": 4,
 "nbformat_minor": 2
}
