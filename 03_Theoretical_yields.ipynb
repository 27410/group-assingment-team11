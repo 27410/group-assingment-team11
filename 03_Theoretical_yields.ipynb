{
 "cells": [
  {
   "cell_type": "code",
   "execution_count": 2,
   "metadata": {},
   "outputs": [],
   "source": [
    "from cobra.io import read_sbml_model\n",
    "model=read_sbml_model('Models/yeast8.xml')"
   ]
  },
  {
   "cell_type": "code",
   "execution_count": 3,
   "metadata": {},
   "outputs": [
    {
     "name": "stdout",
     "output_type": "stream",
     "text": [
      "r_1654: s_0420 <=>  | ammonium exchange | conc. = 1000.0\n",
      "r_1714: s_0565 <=>  | D-glucose exchange | conc. = 1.0\n",
      "r_1832: s_0796 <=>  | H+ exchange | conc. = 1000.0\n",
      "r_1861: s_0925 <=>  | iron(2+) exchange | conc. = 1000.0\n",
      "r_1992: s_1277 <=>  | oxygen exchange | conc. = 1000.0\n",
      "r_2005: s_1324 <=>  | phosphate exchange | conc. = 1000.0\n",
      "r_2020: s_1374 <=>  | potassium exchange | conc. = 1000.0\n",
      "r_2049: s_1438 <=>  | sodium exchange | conc. = 1000.0\n",
      "r_2060: s_1468 <=>  | sulphate exchange | conc. = 1000.0\n",
      "r_2100: s_0805 <=>  | water exchange | conc. = 1000.0\n",
      "r_4593: s_4200 <=>  | chloride exchange | conc. = 1000.0\n",
      "r_4594: s_4201 <=>  | Cu2(+) exchange | conc. = 1000.0\n",
      "r_4595: s_4202 <=>  | Mn(2+) exchange | conc. = 1000.0\n",
      "r_4596: s_4203 <=>  | Zn(2+) exchange | conc. = 1000.0\n",
      "r_4597: s_4204 <=>  | Mg(2+) exchange | conc. = 1000.0\n",
      "r_4600: s_4199 <=>  | Ca(2+) exchange | conc. = 1000.0\n"
     ]
    }
   ],
   "source": [
    "for m in model.medium.items():\n",
    "    print(model.reactions.get_by_id(m[0]), \"|\", model.reactions.get_by_id(m[0]).name, \"| conc. =\", m[1])"
   ]
  },
  {
   "cell_type": "code",
   "execution_count": 4,
   "metadata": {},
   "outputs": [
    {
     "name": "stdout",
     "output_type": "stream",
     "text": [
      "Maximum productivity of isoamyl acetate = 0.556403433387521 mmol/gDW*h\n",
      "Maximum theoretical yield = 0.556403433387521 mmol-lyco/mmol-glc\n"
     ]
    }
   ],
   "source": [
    "with model:\n",
    "    model.objective = model.reactions.r_1180 #Setting the objective to the reaction, which is producing isoamyl acetate\n",
    "    isoamyl_acetate_production = model.optimize().objective_value\n",
    "    print('Maximum productivity of isoamyl acetate =', isoamyl_acetate_production, 'mmol/gDW*h')\n",
    "\n",
    "    glc_uptake_flux = model.reactions.r_1714.flux \n",
    "    max_yield = isoamyl_acetate_production / (-1*glc_uptake_flux)\n",
    "    print('Maximum theoretical yield =', max_yield, 'mmol-lyco/mmol-glc')"
   ]
  },
  {
   "cell_type": "code",
   "execution_count": 5,
   "metadata": {},
   "outputs": [
    {
     "name": "stdout",
     "output_type": "stream",
     "text": [
      "At glucose concentration = 1.0: Maximum theoretical growth rate = 0.08192815876562447 h^-1\n",
      "At glucose concentration = 1000: Maximum theoretical growth rate = 19.817859616711633 h^-1\n"
     ]
    }
   ],
   "source": [
    "medium_glc_ex = model.reactions.get_by_id('r_1714')\n",
    "medium = model.medium\n",
    "with model: #modification are done locally within the indent\n",
    "    growth_rate = model.optimize().objective_value\n",
    "    print(\"At glucose concentration = {}:\".format(medium[medium_glc_ex.id]), \"Maximum theoretical growth rate =\", growth_rate, \"h^-1\")\n",
    "    \n",
    "    medium[medium_glc_ex.id] = 1000 #glucose level is changed \n",
    "    model.medium = medium\n",
    "    \n",
    "    growth_rate = model.optimize().objective_value\n",
    "    print(\"At glucose concentration = {}:\".format(medium[medium_glc_ex.id]), \"Maximum theoretical growth rate =\", growth_rate, \"h^-1\")    "
   ]
  },
  {
   "cell_type": "code",
   "execution_count": 6,
   "metadata": {},
   "outputs": [
    {
     "name": "stdout",
     "output_type": "stream",
     "text": [
      "At glucose concentration = 1.0:\n",
      "Maximum theoretical productivity of isoamyl acetate = 0.5564034333875177 mmol/(gDW*h^-1)\n",
      "Maximum theoretical yield = 0.5564034333875177 mmol-lyco/mmol-glc\n",
      "\n",
      "At glucose concentration = 700:\n",
      "Maximum theoretical productivity of isoamyl acetate = 265.04418604651164 mmol/(gDW*h*^-1)\n",
      "Maximum theoretical yield = 0.4943261726903769 mmol-lyco/mmol-glc\n",
      "\n"
     ]
    }
   ],
   "source": [
    "medium = model.medium\n",
    "with model:\n",
    "    model.objective = model.reactions.r_1180 #Setting the objective to the reaction, which is producing isoamyl acetate\n",
    "    isoamyl_acetate_production = model.optimize().objective_value\n",
    "    print(\"At glucose concentration = {}:\".format(medium[medium_glc_ex.id]))\n",
    "    print('Maximum theoretical productivity of isoamyl acetate =', isoamyl_acetate_production, 'mmol/(gDW*h^-1)')\n",
    "    \n",
    "    glc_uptake_flux = model.reactions.r_1714.flux \n",
    "    max_yield = isoamyl_acetate_production / (-1*glc_uptake_flux)\n",
    "    print('Maximum theoretical yield =', max_yield, 'mmol-lyco/mmol-glc\\n')\n",
    "    \n",
    "    medium[medium_glc_ex.id] = 700\n",
    "    model.medium = medium\n",
    "\n",
    "    isoamyl_acetate_production = model.optimize().objective_value\n",
    "    glc_uptake_flux = model.reactions.r_1714.flux\n",
    "    max_yield = isoamyl_acetate_production / (-1*glc_uptake_flux)\n",
    "    print(\"At glucose concentration = {}:\".format(medium[medium_glc_ex.id]))\n",
    "    print('Maximum theoretical productivity of isoamyl acetate =', isoamyl_acetate_production, 'mmol/(gDW*h*^-1)')\n",
    "    print('Maximum theoretical yield =', max_yield, 'mmol-lyco/mmol-glc\\n')"
   ]
  }
 ],
 "metadata": {
  "kernelspec": {
   "display_name": "base",
   "language": "python",
   "name": "python3"
  },
  "language_info": {
   "codemirror_mode": {
    "name": "ipython",
    "version": 3
   },
   "file_extension": ".py",
   "mimetype": "text/x-python",
   "name": "python",
   "nbconvert_exporter": "python",
   "pygments_lexer": "ipython3",
   "version": "3.11.4"
  }
 },
 "nbformat": 4,
 "nbformat_minor": 2
}
