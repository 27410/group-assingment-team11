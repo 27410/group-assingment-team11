{
 "cells": [
  {
   "cell_type": "markdown",
   "metadata": {},
   "source": [
    "# 3. Theoretical yields"
   ]
  },
  {
   "cell_type": "markdown",
   "metadata": {},
   "source": [
    "First we load the model"
   ]
  },
  {
   "cell_type": "code",
   "execution_count": 2,
   "metadata": {},
   "outputs": [],
   "source": [
    "from cobra.io import read_sbml_model\n",
    "model=read_sbml_model('Models/yeast8.xml')"
   ]
  },
  {
   "cell_type": "markdown",
   "metadata": {},
   "source": [
    "Then we review the default medium composition, printing the different species' concentrations "
   ]
  },
  {
   "cell_type": "code",
   "execution_count": 3,
   "metadata": {},
   "outputs": [
    {
     "name": "stdout",
     "output_type": "stream",
     "text": [
      "r_1654: s_0420 <=>  | ammonium exchange | conc. = 1000.0\n",
      "r_1714: s_0565 <=>  | D-glucose exchange | conc. = 1.0\n",
      "r_1832: s_0796 <=>  | H+ exchange | conc. = 1000.0\n",
      "r_1861: s_0925 <=>  | iron(2+) exchange | conc. = 1000.0\n",
      "r_1992: s_1277 <=>  | oxygen exchange | conc. = 1000.0\n",
      "r_2005: s_1324 <=>  | phosphate exchange | conc. = 1000.0\n",
      "r_2020: s_1374 <=>  | potassium exchange | conc. = 1000.0\n",
      "r_2049: s_1438 <=>  | sodium exchange | conc. = 1000.0\n",
      "r_2060: s_1468 <=>  | sulphate exchange | conc. = 1000.0\n",
      "r_2100: s_0805 <=>  | water exchange | conc. = 1000.0\n",
      "r_4593: s_4200 <=>  | chloride exchange | conc. = 1000.0\n",
      "r_4594: s_4201 <=>  | Cu2(+) exchange | conc. = 1000.0\n",
      "r_4595: s_4202 <=>  | Mn(2+) exchange | conc. = 1000.0\n",
      "r_4596: s_4203 <=>  | Zn(2+) exchange | conc. = 1000.0\n",
      "r_4597: s_4204 <=>  | Mg(2+) exchange | conc. = 1000.0\n",
      "r_4600: s_4199 <=>  | Ca(2+) exchange | conc. = 1000.0\n"
     ]
    }
   ],
   "source": [
    "# Review the default medium composition\n",
    "for m in model.medium.items():\n",
    "    print(model.reactions.get_by_id(m[0]), \"|\", model.reactions.get_by_id(m[0]).name, \"| conc. =\", m[1])"
   ]
  },
  {
   "cell_type": "markdown",
   "metadata": {},
   "source": [
    "We set the objective to the reaction, which is producing isoamyl acetate, and we optimize our model, obtaining the maximum isoamyl acetate productivity\n",
    "\n",
    "Now, we can calcualte the theoretical yiel, which represents how many isoamyl acetate mol can be obtained from one mol of glucose, calculated as the proportion between the glucose uptake and isoamyl acetate production"
   ]
  },
  {
   "cell_type": "code",
   "execution_count": 4,
   "metadata": {},
   "outputs": [
    {
     "name": "stdout",
     "output_type": "stream",
     "text": [
      "Maximum productivity of isoamyl acetate = 0.56 mmol/gDW*h\n",
      "Maximum theoretical yield = 0.56 mmol-isoa/mmol-glc\n"
     ]
    }
   ],
   "source": [
    "with model:\n",
    "    model.objective = model.reactions.r_1180 \n",
    "    isoamyl_acetate_production = model.optimize().objective_value\n",
    "    print(\"Maximum productivity of isoamyl acetate = {:.2f} mmol/gDW*h\".format(isoamyl_acetate_production))\n",
    "\n",
    "    glc_uptake_flux = model.reactions.r_1714.flux \n",
    "    max_yield = isoamyl_acetate_production / (-1*glc_uptake_flux)\n",
    "    print(\"Maximum theoretical yield = {:.2f} mmol-isoa/mmol-glc\".format(max_yield))"
   ]
  },
  {
   "cell_type": "markdown",
   "metadata": {},
   "source": [
    "Without any genetic engineering and glucose as the main carbon source in the medium, the maximum hypothetical production of isoamyl acetate is 0.56 mmol/gDW*h"
   ]
  },
  {
   "cell_type": "markdown",
   "metadata": {},
   "source": [
    "### Effect of the glucose uptake when growth is set as the objective"
   ]
  },
  {
   "cell_type": "markdown",
   "metadata": {},
   "source": [
    "Now we change glucose concentration in our medium, and setting growth rate as the objective we check how the growth rate and isoamyl acetate production changes"
   ]
  },
  {
   "cell_type": "code",
   "execution_count": 13,
   "metadata": {},
   "outputs": [
    {
     "name": "stdout",
     "output_type": "stream",
     "text": [
      "At glucose concentration = 1.0:\n",
      "Maximum theoretical growth rate = 0.08 mmol/gDW*h\n",
      "Maximum theoretical yield = 0.08 mmol/mmol-glc\n",
      "\n",
      "At glucose concentration = 10:\n",
      "Maximum theoretical growth rate = 0.85 mmol/gDW*h\n",
      "Maximum theoretical yield = 0.08 mmol/mmol-glc\n",
      "\n",
      "At glucose concentration = 100:\n",
      "Maximum theoretical growth rate = 8.50 mmol/gDW*h\n",
      "Maximum theoretical yield = 0.08 mmol/mmol-glc\n",
      "\n",
      "At glucose concentration = 200:\n",
      "Maximum theoretical growth rate = 11.76 mmol/gDW*h\n",
      "Maximum theoretical yield = 0.06 mmol/mmol-glc\n",
      "\n",
      "At glucose concentration = 500:\n",
      "Maximum theoretical growth rate = 18.08 mmol/gDW*h\n",
      "Maximum theoretical yield = 0.04 mmol/mmol-glc\n",
      "\n",
      "At glucose concentration = 600:\n",
      "Maximum theoretical growth rate = 19.82 mmol/gDW*h\n",
      "Maximum theoretical yield = 0.03 mmol/mmol-glc\n",
      "\n",
      "At glucose concentration = 650:\n",
      "Maximum theoretical growth rate = 19.82 mmol/gDW*h\n",
      "Maximum theoretical yield = 0.03 mmol/mmol-glc\n",
      "\n"
     ]
    }
   ],
   "source": [
    "medium_glc_ex = model.reactions.get_by_id('r_1714') \n",
    "\n",
    "# Increase glucose concentration in the medium\n",
    "medium = model.medium\n",
    "with model: \n",
    "    growth_rate = model.optimize().objective_value\n",
    "    glc_uptake_flux = model.reactions.r_1714.flux\n",
    "    max_yield = growth_rate / (-1*glc_uptake_flux)\n",
    "    print(\"At glucose concentration = {}:\".format(medium[medium_glc_ex.id]))\n",
    "    print(\"Maximum theoretical growth rate = {:.2f} mmol/gDW*h\".format(growth_rate))\n",
    "    print(\"Maximum theoretical yield = {:.2f} mmol/mmol-glc\\n\".format(max_yield))\n",
    "    \n",
    "    # Glucose level 10-fold increase \n",
    "    medium[medium_glc_ex.id] = 10 \n",
    "    model.medium = medium\n",
    "    growth_rate = model.optimize().objective_value\n",
    "    glc_uptake_flux = model.reactions.r_1714.flux\n",
    "    max_yield = growth_rate / (-1*glc_uptake_flux)\n",
    "    print(\"At glucose concentration = {}:\".format(medium[medium_glc_ex.id]))\n",
    "    print(\"Maximum theoretical growth rate = {:.2f} mmol/gDW*h\".format(growth_rate))\n",
    "    print(\"Maximum theoretical yield = {:.2f} mmol/mmol-glc\\n\".format(max_yield))\n",
    " \n",
    "    # Glucose level 100-fold increase \n",
    "    medium[medium_glc_ex.id] = 100 \n",
    "    model.medium = medium\n",
    "    growth_rate = model.optimize().objective_value\n",
    "    glc_uptake_flux = model.reactions.r_1714.flux\n",
    "    max_yield = growth_rate / (-1*glc_uptake_flux)\n",
    "    print(\"At glucose concentration = {}:\".format(medium[medium_glc_ex.id]))\n",
    "    print(\"Maximum theoretical growth rate = {:.2f} mmol/gDW*h\".format(growth_rate))\n",
    "    print(\"Maximum theoretical yield = {:.2f} mmol/mmol-glc\\n\".format(max_yield))\n",
    "\n",
    "     # Glucose level 200-fold increase \n",
    "    medium[medium_glc_ex.id] = 200\n",
    "    model.medium = medium\n",
    "    growth_rate = model.optimize().objective_value\n",
    "    glc_uptake_flux = model.reactions.r_1714.flux\n",
    "    max_yield = growth_rate / (-1*glc_uptake_flux)\n",
    "    print(\"At glucose concentration = {}:\".format(medium[medium_glc_ex.id]))\n",
    "    print(\"Maximum theoretical growth rate = {:.2f} mmol/gDW*h\".format(growth_rate))\n",
    "    print(\"Maximum theoretical yield = {:.2f} mmol/mmol-glc\\n\".format(max_yield))\n",
    "\n",
    "    # Glucose level 500-fold increase \n",
    "    medium[medium_glc_ex.id] = 500\n",
    "    model.medium = medium\n",
    "    growth_rate = model.optimize().objective_value\n",
    "    glc_uptake_flux = model.reactions.r_1714.flux\n",
    "    max_yield = growth_rate / (-1*glc_uptake_flux)\n",
    "    print(\"At glucose concentration = {}:\".format(medium[medium_glc_ex.id]))\n",
    "    print(\"Maximum theoretical growth rate = {:.2f} mmol/gDW*h\".format(growth_rate))\n",
    "    print(\"Maximum theoretical yield = {:.2f} mmol/mmol-glc\\n\".format(max_yield))\n",
    "\n",
    "\n",
    "    # Glucose level 600-fold increase \n",
    "    medium[medium_glc_ex.id] = 600\n",
    "    model.medium = medium\n",
    "    growth_rate = model.optimize().objective_value\n",
    "    glc_uptake_flux = model.reactions.r_1714.flux\n",
    "    max_yield = growth_rate / (-1*glc_uptake_flux)\n",
    "    print(\"At glucose concentration = {}:\".format(medium[medium_glc_ex.id]))\n",
    "    print(\"Maximum theoretical growth rate = {:.2f} mmol/gDW*h\".format(growth_rate))\n",
    "    print(\"Maximum theoretical yield = {:.2f} mmol/mmol-glc\\n\".format(max_yield))\n",
    "\n",
    "    # Glucose level 650-fold increase \n",
    "    medium[medium_glc_ex.id] = 650\n",
    "    model.medium = medium\n",
    "    growth_rate = model.optimize().objective_value\n",
    "    glc_uptake_flux = model.reactions.r_1714.flux\n",
    "    max_yield = growth_rate / (-1*glc_uptake_flux)\n",
    "    print(\"At glucose concentration = {}:\".format(medium[medium_glc_ex.id]))\n",
    "    print(\"Maximum theoretical growth rate = {:.2f} mmol/gDW*h\".format(growth_rate))\n",
    "    print(\"Maximum theoretical yield = {:.2f} mmol/mmol-glc\\n\".format(max_yield))\n",
    "       "
   ]
  },
  {
   "cell_type": "markdown",
   "metadata": {},
   "source": [
    "Growth rate raises with increasing glucose level up till 600-fold glucose concentration increase. Maximal growth rate reaches 19.82 mmol/gDW*h. It can also be seen that past the point of 100-fold increase in glucose level, the yield drops, i.e. increase in glucose concentration does not scale equally with the growth rate anymore."
   ]
  },
  {
   "cell_type": "markdown",
   "metadata": {},
   "source": [
    "### Effect of the glucose uptake when isoamyl acetate production is set as the objective"
   ]
  },
  {
   "cell_type": "markdown",
   "metadata": {},
   "source": [
    "We repeat the same as before but with growth rate as the objective we check how the growth rate and isoamyl acetate production changes"
   ]
  },
  {
   "cell_type": "code",
   "execution_count": 6,
   "metadata": {},
   "outputs": [
    {
     "name": "stdout",
     "output_type": "stream",
     "text": [
      "At glucose concentration = 1.0:\n",
      "Maximum theoretical isoamyl acetate productivity = 0.56 mmol/gDW*h\n",
      "Maximum theoretical yield = 0.56 mmol/mmol-glc\n",
      "\n",
      "At glucose concentration = 100:\n",
      "Maximum theoretical isoamyl acetate productivity  = 56.72 mmol/gDW*h\n",
      "Maximum theoretical yield = 0.57 mmol/mmol-glc\n",
      "\n",
      "At glucose concentration = 600:\n",
      "Maximum theoretical isoamyl acetate productivity  = 265.04 mmol/gDW*h\n",
      "Maximum theoretical yield = 0.49 mmol/mmol-glc\n",
      "\n"
     ]
    }
   ],
   "source": [
    "medium = model.medium\n",
    "with model:\n",
    "    model.objective = model.reactions.r_1180 \n",
    "    isoamyl_acetate_production = model.optimize().objective_value  \n",
    "    glc_uptake_flux = model.reactions.r_1714.flux \n",
    "    max_yield = isoamyl_acetate_production / (-1*glc_uptake_flux)\n",
    "    print(\"At glucose concentration = {}:\".format(medium[medium_glc_ex.id]))\n",
    "    print(\"Maximum theoretical isoamyl acetate productivity = {:.2f} mmol/gDW*h\".format(isoamyl_acetate_production))\n",
    "    print(\"Maximum theoretical yield = {:.2f} mmol/mmol-glc\\n\".format(max_yield))\n",
    "\n",
    "    medium[medium_glc_ex.id] = 100\n",
    "    model.medium = medium\n",
    "    isoamyl_acetate_production = model.optimize().objective_value\n",
    "    glc_uptake_flux = model.reactions.r_1714.flux\n",
    "    max_yield = isoamyl_acetate_production / (-1*glc_uptake_flux)\n",
    "    print(\"At glucose concentration = {}:\".format(medium[medium_glc_ex.id]))\n",
    "    print(\"Maximum theoretical isoamyl acetate productivity  = {:.2f} mmol/gDW*h\".format(isoamyl_acetate_production))\n",
    "    print(\"Maximum theoretical yield = {:.2f} mmol/mmol-glc\\n\".format(max_yield))\n",
    "    \n",
    "    medium[medium_glc_ex.id] = 600\n",
    "    model.medium = medium\n",
    "    isoamyl_acetate_production = model.optimize().objective_value\n",
    "    glc_uptake_flux = model.reactions.r_1714.flux\n",
    "    max_yield = isoamyl_acetate_production / (-1*glc_uptake_flux)\n",
    "    print(\"At glucose concentration = {}:\".format(medium[medium_glc_ex.id]))\n",
    "    print(\"Maximum theoretical isoamyl acetate productivity  = {:.2f} mmol/gDW*h\".format(isoamyl_acetate_production))\n",
    "    print(\"Maximum theoretical yield = {:.2f} mmol/mmol-glc\\n\".format(max_yield))"
   ]
  },
  {
   "cell_type": "markdown",
   "metadata": {},
   "source": [
    "By increasing glucose concentration, isoamyl acetate production always increases, but yield reaches its maximum at gl_conc=100 with 0.57 mmol/mmol-glc. We can also see that this maximum is almost reached also for gl_conc=1 (0.56 mmol/mmol-glc). This means that the theoretical yield can get its maximum value with a low glucose concentration. "
   ]
  },
  {
   "cell_type": "markdown",
   "metadata": {},
   "source": [
    "### Effect of the glucose uptake when both growth and isoamyl actetate poduction are set as the objective"
   ]
  },
  {
   "cell_type": "markdown",
   "metadata": {},
   "source": [
    "Now different glucose concentrations are tested, setting as objective both growth rate and isoamyl acetate production. The goal is to look for the conditions in which these rates are as high as possible but maintaining glucose concentration as low as possible in order to not waste media and money."
   ]
  },
  {
   "cell_type": "code",
   "execution_count": 48,
   "metadata": {},
   "outputs": [
    {
     "name": "stdout",
     "output_type": "stream",
     "text": [
      "Glucose uptake: 100 mmol/gDW*h\n",
      "Maximum growth: 3.8 /h\n",
      "Maximum isoamyl acetate productivity: 34.82 mmol/gDW*h\n",
      "Maximum isoamyl acetate yield: 0.35 mmol isoamyl acetate/mmol glucose\n"
     ]
    }
   ],
   "source": [
    "with model: \n",
    "\n",
    "    medium[medium_glc_ex.id] = 100\n",
    "    model.medium = medium\n",
    "    baseline_max_growth = model.optimize().objective_value\n",
    "    model.objective = model.reactions.r_1180\n",
    "    baseline_max_production = model.optimize().objective_value\n",
    "    Glucose_exchange = model.reactions.get_by_id('r_1714') \n",
    "    model.objective = {model.reactions.get_by_id('r_2111'): baseline_max_production, \n",
    "                    model.reactions.get_by_id('r_1180'): baseline_max_growth} # objective is to maximise the production of isoamyl acetate while also growing as much as possible\n",
    "    solution = model.optimize()\n",
    "    isoamyl_acetate_production = solution.fluxes['r_1180']\n",
    "    glucose_flux = model.reactions.r_1714.flux\n",
    "    max_yield = isoamyl_acetate_production/(-1 * glucose_flux)\n",
    "    print('Glucose uptake:',format(medium[Glucose_exchange.id]), 'mmol/gDW*h')\n",
    "    print('Maximum growth:', round(solution.fluxes['r_2111'],2), '/h')\n",
    "    print('Maximum isoamyl acetate productivity:', round(isoamyl_acetate_production,2), 'mmol/gDW*h') # calculate productivity\n",
    "    print('Maximum isoamyl acetate yield:', round(max_yield,2), 'mmol isoamyl acetate/mmol glucose') # calculate yield on glucose"
   ]
  },
  {
   "cell_type": "code",
   "execution_count": 49,
   "metadata": {},
   "outputs": [
    {
     "name": "stdout",
     "output_type": "stream",
     "text": [
      "Glucose uptake: 500 mmol/gDW*h\n",
      "Maximum growth: 11.76 /h\n",
      "Maximum isoamyl acetate productivity: 134.39 mmol/gDW*h\n",
      "Maximum isoamyl acetate yield: 0.27 mmol isoamyl acetate/mmol glucose\n"
     ]
    }
   ],
   "source": [
    "with model: \n",
    "\n",
    "    medium[medium_glc_ex.id] = 500\n",
    "    model.medium = medium\n",
    "    baseline_max_growth = model.optimize().objective_value\n",
    "    model.objective = model.reactions.r_1180\n",
    "    baseline_max_production = model.optimize().objective_value\n",
    "    Glucose_exchange = model.reactions.get_by_id('r_1714') \n",
    "    model.objective = {model.reactions.get_by_id('r_2111'): baseline_max_production, \n",
    "                    model.reactions.get_by_id('r_1180'): baseline_max_growth} # objective is to maximise the production of isoamyl acetate while also growing as much as possible\n",
    "    solution = model.optimize()\n",
    "    isoamyl_acetate_production = solution.fluxes['r_1180']\n",
    "    glucose_flux = model.reactions.r_1714.flux\n",
    "    max_yield = isoamyl_acetate_production/(-1 * glucose_flux)\n",
    "    print('Glucose uptake:',format(medium[Glucose_exchange.id]), 'mmol/gDW*h')\n",
    "    print('Maximum growth:', round(solution.fluxes['r_2111'],2), '/h')\n",
    "    print('Maximum isoamyl acetate productivity:', round(isoamyl_acetate_production,2), 'mmol/gDW*h') # calculate productivity\n",
    "    print('Maximum isoamyl acetate yield:', round(max_yield,2), 'mmol isoamyl acetate/mmol glucose') # calculate yield on galactose"
   ]
  },
  {
   "cell_type": "code",
   "execution_count": 50,
   "metadata": {},
   "outputs": [
    {
     "name": "stdout",
     "output_type": "stream",
     "text": [
      "Glucose uptake: 600 mmol/gDW*h\n",
      "Maximum growth: 12.01 /h\n",
      "Maximum isoamyl acetate productivity: 141.81 mmol/gDW*h\n",
      "Maximum isoamyl acetate yield: 0.24 mmol isoamyl acetate/mmol glucose\n"
     ]
    }
   ],
   "source": [
    "with model: \n",
    "\n",
    "    medium[medium_glc_ex.id] = 600\n",
    "    model.medium = medium\n",
    "    baseline_max_growth = model.optimize().objective_value\n",
    "    model.objective = model.reactions.r_1180\n",
    "    baseline_max_production = model.optimize().objective_value\n",
    "    Glucose_exchange = model.reactions.get_by_id('r_1714') \n",
    "    model.objective = {model.reactions.get_by_id('r_2111'): baseline_max_production, \n",
    "                    model.reactions.get_by_id('r_1180'): baseline_max_growth} # objective is to maximise the production of isoamyl acetate while also growing as much as possible\n",
    "    solution = model.optimize()\n",
    "    isoamyl_acetate_production = solution.fluxes['r_1180']\n",
    "    glucose_flux = model.reactions.r_1714.flux\n",
    "    max_yield = isoamyl_acetate_production/(-1 * glucose_flux)\n",
    "    print('Glucose uptake:',format(medium[Glucose_exchange.id]), 'mmol/gDW*h')\n",
    "    print('Maximum growth:', round(solution.fluxes['r_2111'],2), '/h')\n",
    "    print('Maximum isoamyl acetate productivity:', round(isoamyl_acetate_production,2), 'mmol/gDW*h') # calculate productivity\n",
    "    print('Maximum isoamyl acetate yield:', round(max_yield,2), 'mmol isoamyl acetate/mmol glucose') # calculate yield on galactose"
   ]
  },
  {
   "cell_type": "code",
   "execution_count": 52,
   "metadata": {},
   "outputs": [
    {
     "name": "stdout",
     "output_type": "stream",
     "text": [
      "Glucose uptake: 650 mmol/gDW*h\n",
      "Maximum growth: 10.34 /h\n",
      "Maximum isoamyl acetate productivity: 166.57 mmol/gDW*h\n",
      "Maximum isoamyl acetate yield: 0.26 mmol isoamyl acetate/mmol glucose\n"
     ]
    }
   ],
   "source": [
    "with model: \n",
    "\n",
    "    medium[medium_glc_ex.id] = 650\n",
    "    model.medium = medium\n",
    "    baseline_max_growth = model.optimize().objective_value\n",
    "    model.objective = model.reactions.r_1180\n",
    "    baseline_max_production = model.optimize().objective_value\n",
    "    Glucose_exchange = model.reactions.get_by_id('r_1714') \n",
    "    model.objective = {model.reactions.get_by_id('r_2111'): baseline_max_production, \n",
    "                    model.reactions.get_by_id('r_1180'): baseline_max_growth} # objective is to maximise the production of isoamyl acetate while also growing as much as possible\n",
    "    solution = model.optimize()\n",
    "    isoamyl_acetate_production = solution.fluxes['r_1180']\n",
    "    glucose_flux = model.reactions.r_1714.flux\n",
    "    max_yield = isoamyl_acetate_production/(-1 * glucose_flux)\n",
    "    print('Glucose uptake:',format(medium[Glucose_exchange.id]), 'mmol/gDW*h')\n",
    "    print('Maximum growth:', round(solution.fluxes['r_2111'],2), '/h')\n",
    "    print('Maximum isoamyl acetate productivity:', round(isoamyl_acetate_production,2), 'mmol/gDW*h') # calculate productivity\n",
    "    print('Maximum isoamyl acetate yield:', round(max_yield,2), 'mmol isoamyl acetate/mmol glucose') # calculate yield on galactose"
   ]
  },
  {
   "cell_type": "markdown",
   "metadata": {},
   "source": [
    "In order to choose which situation suits better for our process, we should first consider growth rate, as when having more cells more isoamyl acetate is produced. Then, we also need to look at our productivity and yield, trying that these values are as high as possible too.\n",
    "\n",
    "Taking this into account the best glucose concentration for our medium is 600, as at this concentration is when growth rate reaches its maximum value with 12.01 /h, while having good productivity. Yield value is not on its most optimal value but the other two parameters are good, so they compensates a lower yield. \n",
    "\n",
    "A glucose concentration of 600 is the best for productivity, but we also have to consider that if we increase glucose concentration in our media, the process would be more expensive, so we have to develop a economical study in order to set an equilibrium between glucose concentration and production, depending on glucose price and our product price our media will have more or less glucose, in order to obtain the highest possible benefit."
   ]
  }
 ],
 "metadata": {
  "kernelspec": {
   "display_name": "base",
   "language": "python",
   "name": "python3"
  },
  "language_info": {
   "codemirror_mode": {
    "name": "ipython",
    "version": 3
   },
   "file_extension": ".py",
   "mimetype": "text/x-python",
   "name": "python",
   "nbconvert_exporter": "python",
   "pygments_lexer": "ipython3",
   "version": "3.11.4"
  }
 },
 "nbformat": 4,
 "nbformat_minor": 2
}
